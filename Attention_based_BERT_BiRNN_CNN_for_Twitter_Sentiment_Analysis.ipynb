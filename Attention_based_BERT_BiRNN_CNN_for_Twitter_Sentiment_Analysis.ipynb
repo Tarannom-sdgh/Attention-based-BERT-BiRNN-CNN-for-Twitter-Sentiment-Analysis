{
  "nbformat": 4,
  "nbformat_minor": 0,
  "metadata": {
    "colab": {
      "provenance": []
    },
    "kernelspec": {
      "name": "python3",
      "display_name": "Python 3"
    },
    "language_info": {
      "name": "python"
    },
    "widgets": {
      "application/vnd.jupyter.widget-state+json": {
        "4b5b11b7591b4c5bab9ea9a61c505bc5": {
          "model_module": "@jupyter-widgets/controls",
          "model_name": "HBoxModel",
          "model_module_version": "1.5.0",
          "state": {
            "_dom_classes": [],
            "_model_module": "@jupyter-widgets/controls",
            "_model_module_version": "1.5.0",
            "_model_name": "HBoxModel",
            "_view_count": null,
            "_view_module": "@jupyter-widgets/controls",
            "_view_module_version": "1.5.0",
            "_view_name": "HBoxView",
            "box_style": "",
            "children": [
              "IPY_MODEL_192149268c4b4b6c89c7945c311e635d",
              "IPY_MODEL_8a297da7b13f4a4ca8a9993c83b55ce7",
              "IPY_MODEL_d149adc5202a45aebf148082202f72d4"
            ],
            "layout": "IPY_MODEL_aadeb4b6b4fd4215976ef04016afe68a"
          }
        },
        "192149268c4b4b6c89c7945c311e635d": {
          "model_module": "@jupyter-widgets/controls",
          "model_name": "HTMLModel",
          "model_module_version": "1.5.0",
          "state": {
            "_dom_classes": [],
            "_model_module": "@jupyter-widgets/controls",
            "_model_module_version": "1.5.0",
            "_model_name": "HTMLModel",
            "_view_count": null,
            "_view_module": "@jupyter-widgets/controls",
            "_view_module_version": "1.5.0",
            "_view_name": "HTMLView",
            "description": "",
            "description_tooltip": null,
            "layout": "IPY_MODEL_aea0b4f22c3444e294cdcbab02ed14e2",
            "placeholder": "​",
            "style": "IPY_MODEL_599b1d5e83ce4274abc9e38377985708",
            "value": "tokenizer_config.json: 100%"
          }
        },
        "8a297da7b13f4a4ca8a9993c83b55ce7": {
          "model_module": "@jupyter-widgets/controls",
          "model_name": "FloatProgressModel",
          "model_module_version": "1.5.0",
          "state": {
            "_dom_classes": [],
            "_model_module": "@jupyter-widgets/controls",
            "_model_module_version": "1.5.0",
            "_model_name": "FloatProgressModel",
            "_view_count": null,
            "_view_module": "@jupyter-widgets/controls",
            "_view_module_version": "1.5.0",
            "_view_name": "ProgressView",
            "bar_style": "success",
            "description": "",
            "description_tooltip": null,
            "layout": "IPY_MODEL_fa5ccc4b095347a29c626b72e4c8a8d5",
            "max": 48,
            "min": 0,
            "orientation": "horizontal",
            "style": "IPY_MODEL_a625653eb2bc4ffca4cda30dbb32c695",
            "value": 48
          }
        },
        "d149adc5202a45aebf148082202f72d4": {
          "model_module": "@jupyter-widgets/controls",
          "model_name": "HTMLModel",
          "model_module_version": "1.5.0",
          "state": {
            "_dom_classes": [],
            "_model_module": "@jupyter-widgets/controls",
            "_model_module_version": "1.5.0",
            "_model_name": "HTMLModel",
            "_view_count": null,
            "_view_module": "@jupyter-widgets/controls",
            "_view_module_version": "1.5.0",
            "_view_name": "HTMLView",
            "description": "",
            "description_tooltip": null,
            "layout": "IPY_MODEL_0721e56cec214700938c0892ebd00cd4",
            "placeholder": "​",
            "style": "IPY_MODEL_7d5a14f19f7a4c04bfec3f207667e508",
            "value": " 48.0/48.0 [00:00&lt;00:00, 2.24kB/s]"
          }
        },
        "aadeb4b6b4fd4215976ef04016afe68a": {
          "model_module": "@jupyter-widgets/base",
          "model_name": "LayoutModel",
          "model_module_version": "1.2.0",
          "state": {
            "_model_module": "@jupyter-widgets/base",
            "_model_module_version": "1.2.0",
            "_model_name": "LayoutModel",
            "_view_count": null,
            "_view_module": "@jupyter-widgets/base",
            "_view_module_version": "1.2.0",
            "_view_name": "LayoutView",
            "align_content": null,
            "align_items": null,
            "align_self": null,
            "border": null,
            "bottom": null,
            "display": null,
            "flex": null,
            "flex_flow": null,
            "grid_area": null,
            "grid_auto_columns": null,
            "grid_auto_flow": null,
            "grid_auto_rows": null,
            "grid_column": null,
            "grid_gap": null,
            "grid_row": null,
            "grid_template_areas": null,
            "grid_template_columns": null,
            "grid_template_rows": null,
            "height": null,
            "justify_content": null,
            "justify_items": null,
            "left": null,
            "margin": null,
            "max_height": null,
            "max_width": null,
            "min_height": null,
            "min_width": null,
            "object_fit": null,
            "object_position": null,
            "order": null,
            "overflow": null,
            "overflow_x": null,
            "overflow_y": null,
            "padding": null,
            "right": null,
            "top": null,
            "visibility": null,
            "width": null
          }
        },
        "aea0b4f22c3444e294cdcbab02ed14e2": {
          "model_module": "@jupyter-widgets/base",
          "model_name": "LayoutModel",
          "model_module_version": "1.2.0",
          "state": {
            "_model_module": "@jupyter-widgets/base",
            "_model_module_version": "1.2.0",
            "_model_name": "LayoutModel",
            "_view_count": null,
            "_view_module": "@jupyter-widgets/base",
            "_view_module_version": "1.2.0",
            "_view_name": "LayoutView",
            "align_content": null,
            "align_items": null,
            "align_self": null,
            "border": null,
            "bottom": null,
            "display": null,
            "flex": null,
            "flex_flow": null,
            "grid_area": null,
            "grid_auto_columns": null,
            "grid_auto_flow": null,
            "grid_auto_rows": null,
            "grid_column": null,
            "grid_gap": null,
            "grid_row": null,
            "grid_template_areas": null,
            "grid_template_columns": null,
            "grid_template_rows": null,
            "height": null,
            "justify_content": null,
            "justify_items": null,
            "left": null,
            "margin": null,
            "max_height": null,
            "max_width": null,
            "min_height": null,
            "min_width": null,
            "object_fit": null,
            "object_position": null,
            "order": null,
            "overflow": null,
            "overflow_x": null,
            "overflow_y": null,
            "padding": null,
            "right": null,
            "top": null,
            "visibility": null,
            "width": null
          }
        },
        "599b1d5e83ce4274abc9e38377985708": {
          "model_module": "@jupyter-widgets/controls",
          "model_name": "DescriptionStyleModel",
          "model_module_version": "1.5.0",
          "state": {
            "_model_module": "@jupyter-widgets/controls",
            "_model_module_version": "1.5.0",
            "_model_name": "DescriptionStyleModel",
            "_view_count": null,
            "_view_module": "@jupyter-widgets/base",
            "_view_module_version": "1.2.0",
            "_view_name": "StyleView",
            "description_width": ""
          }
        },
        "fa5ccc4b095347a29c626b72e4c8a8d5": {
          "model_module": "@jupyter-widgets/base",
          "model_name": "LayoutModel",
          "model_module_version": "1.2.0",
          "state": {
            "_model_module": "@jupyter-widgets/base",
            "_model_module_version": "1.2.0",
            "_model_name": "LayoutModel",
            "_view_count": null,
            "_view_module": "@jupyter-widgets/base",
            "_view_module_version": "1.2.0",
            "_view_name": "LayoutView",
            "align_content": null,
            "align_items": null,
            "align_self": null,
            "border": null,
            "bottom": null,
            "display": null,
            "flex": null,
            "flex_flow": null,
            "grid_area": null,
            "grid_auto_columns": null,
            "grid_auto_flow": null,
            "grid_auto_rows": null,
            "grid_column": null,
            "grid_gap": null,
            "grid_row": null,
            "grid_template_areas": null,
            "grid_template_columns": null,
            "grid_template_rows": null,
            "height": null,
            "justify_content": null,
            "justify_items": null,
            "left": null,
            "margin": null,
            "max_height": null,
            "max_width": null,
            "min_height": null,
            "min_width": null,
            "object_fit": null,
            "object_position": null,
            "order": null,
            "overflow": null,
            "overflow_x": null,
            "overflow_y": null,
            "padding": null,
            "right": null,
            "top": null,
            "visibility": null,
            "width": null
          }
        },
        "a625653eb2bc4ffca4cda30dbb32c695": {
          "model_module": "@jupyter-widgets/controls",
          "model_name": "ProgressStyleModel",
          "model_module_version": "1.5.0",
          "state": {
            "_model_module": "@jupyter-widgets/controls",
            "_model_module_version": "1.5.0",
            "_model_name": "ProgressStyleModel",
            "_view_count": null,
            "_view_module": "@jupyter-widgets/base",
            "_view_module_version": "1.2.0",
            "_view_name": "StyleView",
            "bar_color": null,
            "description_width": ""
          }
        },
        "0721e56cec214700938c0892ebd00cd4": {
          "model_module": "@jupyter-widgets/base",
          "model_name": "LayoutModel",
          "model_module_version": "1.2.0",
          "state": {
            "_model_module": "@jupyter-widgets/base",
            "_model_module_version": "1.2.0",
            "_model_name": "LayoutModel",
            "_view_count": null,
            "_view_module": "@jupyter-widgets/base",
            "_view_module_version": "1.2.0",
            "_view_name": "LayoutView",
            "align_content": null,
            "align_items": null,
            "align_self": null,
            "border": null,
            "bottom": null,
            "display": null,
            "flex": null,
            "flex_flow": null,
            "grid_area": null,
            "grid_auto_columns": null,
            "grid_auto_flow": null,
            "grid_auto_rows": null,
            "grid_column": null,
            "grid_gap": null,
            "grid_row": null,
            "grid_template_areas": null,
            "grid_template_columns": null,
            "grid_template_rows": null,
            "height": null,
            "justify_content": null,
            "justify_items": null,
            "left": null,
            "margin": null,
            "max_height": null,
            "max_width": null,
            "min_height": null,
            "min_width": null,
            "object_fit": null,
            "object_position": null,
            "order": null,
            "overflow": null,
            "overflow_x": null,
            "overflow_y": null,
            "padding": null,
            "right": null,
            "top": null,
            "visibility": null,
            "width": null
          }
        },
        "7d5a14f19f7a4c04bfec3f207667e508": {
          "model_module": "@jupyter-widgets/controls",
          "model_name": "DescriptionStyleModel",
          "model_module_version": "1.5.0",
          "state": {
            "_model_module": "@jupyter-widgets/controls",
            "_model_module_version": "1.5.0",
            "_model_name": "DescriptionStyleModel",
            "_view_count": null,
            "_view_module": "@jupyter-widgets/base",
            "_view_module_version": "1.2.0",
            "_view_name": "StyleView",
            "description_width": ""
          }
        },
        "7368c85099f34ad592402dc0c9b9782c": {
          "model_module": "@jupyter-widgets/controls",
          "model_name": "HBoxModel",
          "model_module_version": "1.5.0",
          "state": {
            "_dom_classes": [],
            "_model_module": "@jupyter-widgets/controls",
            "_model_module_version": "1.5.0",
            "_model_name": "HBoxModel",
            "_view_count": null,
            "_view_module": "@jupyter-widgets/controls",
            "_view_module_version": "1.5.0",
            "_view_name": "HBoxView",
            "box_style": "",
            "children": [
              "IPY_MODEL_e4979bae499043938dde27702f6b8bc1",
              "IPY_MODEL_d1f23af7de0f44c5bc79319257d3aacb",
              "IPY_MODEL_c7a3db783b7440218dd921ee86783523"
            ],
            "layout": "IPY_MODEL_b59d8cf7c6ca49e6a7d309f9d64d1a50"
          }
        },
        "e4979bae499043938dde27702f6b8bc1": {
          "model_module": "@jupyter-widgets/controls",
          "model_name": "HTMLModel",
          "model_module_version": "1.5.0",
          "state": {
            "_dom_classes": [],
            "_model_module": "@jupyter-widgets/controls",
            "_model_module_version": "1.5.0",
            "_model_name": "HTMLModel",
            "_view_count": null,
            "_view_module": "@jupyter-widgets/controls",
            "_view_module_version": "1.5.0",
            "_view_name": "HTMLView",
            "description": "",
            "description_tooltip": null,
            "layout": "IPY_MODEL_58946db082b6460885ddbc681aed0d43",
            "placeholder": "​",
            "style": "IPY_MODEL_9d2d2cb781fc473fb3284c850c9ce432",
            "value": "vocab.txt: 100%"
          }
        },
        "d1f23af7de0f44c5bc79319257d3aacb": {
          "model_module": "@jupyter-widgets/controls",
          "model_name": "FloatProgressModel",
          "model_module_version": "1.5.0",
          "state": {
            "_dom_classes": [],
            "_model_module": "@jupyter-widgets/controls",
            "_model_module_version": "1.5.0",
            "_model_name": "FloatProgressModel",
            "_view_count": null,
            "_view_module": "@jupyter-widgets/controls",
            "_view_module_version": "1.5.0",
            "_view_name": "ProgressView",
            "bar_style": "success",
            "description": "",
            "description_tooltip": null,
            "layout": "IPY_MODEL_8e524bc5c3d64b279c03021a56029496",
            "max": 231508,
            "min": 0,
            "orientation": "horizontal",
            "style": "IPY_MODEL_51aa3f5a36eb4db08d7da61f630857b6",
            "value": 231508
          }
        },
        "c7a3db783b7440218dd921ee86783523": {
          "model_module": "@jupyter-widgets/controls",
          "model_name": "HTMLModel",
          "model_module_version": "1.5.0",
          "state": {
            "_dom_classes": [],
            "_model_module": "@jupyter-widgets/controls",
            "_model_module_version": "1.5.0",
            "_model_name": "HTMLModel",
            "_view_count": null,
            "_view_module": "@jupyter-widgets/controls",
            "_view_module_version": "1.5.0",
            "_view_name": "HTMLView",
            "description": "",
            "description_tooltip": null,
            "layout": "IPY_MODEL_077bdc8099c847aa91c632c42e0f65c4",
            "placeholder": "​",
            "style": "IPY_MODEL_1314ede39b154ef68a022a96dbd042f1",
            "value": " 232k/232k [00:00&lt;00:00, 4.02MB/s]"
          }
        },
        "b59d8cf7c6ca49e6a7d309f9d64d1a50": {
          "model_module": "@jupyter-widgets/base",
          "model_name": "LayoutModel",
          "model_module_version": "1.2.0",
          "state": {
            "_model_module": "@jupyter-widgets/base",
            "_model_module_version": "1.2.0",
            "_model_name": "LayoutModel",
            "_view_count": null,
            "_view_module": "@jupyter-widgets/base",
            "_view_module_version": "1.2.0",
            "_view_name": "LayoutView",
            "align_content": null,
            "align_items": null,
            "align_self": null,
            "border": null,
            "bottom": null,
            "display": null,
            "flex": null,
            "flex_flow": null,
            "grid_area": null,
            "grid_auto_columns": null,
            "grid_auto_flow": null,
            "grid_auto_rows": null,
            "grid_column": null,
            "grid_gap": null,
            "grid_row": null,
            "grid_template_areas": null,
            "grid_template_columns": null,
            "grid_template_rows": null,
            "height": null,
            "justify_content": null,
            "justify_items": null,
            "left": null,
            "margin": null,
            "max_height": null,
            "max_width": null,
            "min_height": null,
            "min_width": null,
            "object_fit": null,
            "object_position": null,
            "order": null,
            "overflow": null,
            "overflow_x": null,
            "overflow_y": null,
            "padding": null,
            "right": null,
            "top": null,
            "visibility": null,
            "width": null
          }
        },
        "58946db082b6460885ddbc681aed0d43": {
          "model_module": "@jupyter-widgets/base",
          "model_name": "LayoutModel",
          "model_module_version": "1.2.0",
          "state": {
            "_model_module": "@jupyter-widgets/base",
            "_model_module_version": "1.2.0",
            "_model_name": "LayoutModel",
            "_view_count": null,
            "_view_module": "@jupyter-widgets/base",
            "_view_module_version": "1.2.0",
            "_view_name": "LayoutView",
            "align_content": null,
            "align_items": null,
            "align_self": null,
            "border": null,
            "bottom": null,
            "display": null,
            "flex": null,
            "flex_flow": null,
            "grid_area": null,
            "grid_auto_columns": null,
            "grid_auto_flow": null,
            "grid_auto_rows": null,
            "grid_column": null,
            "grid_gap": null,
            "grid_row": null,
            "grid_template_areas": null,
            "grid_template_columns": null,
            "grid_template_rows": null,
            "height": null,
            "justify_content": null,
            "justify_items": null,
            "left": null,
            "margin": null,
            "max_height": null,
            "max_width": null,
            "min_height": null,
            "min_width": null,
            "object_fit": null,
            "object_position": null,
            "order": null,
            "overflow": null,
            "overflow_x": null,
            "overflow_y": null,
            "padding": null,
            "right": null,
            "top": null,
            "visibility": null,
            "width": null
          }
        },
        "9d2d2cb781fc473fb3284c850c9ce432": {
          "model_module": "@jupyter-widgets/controls",
          "model_name": "DescriptionStyleModel",
          "model_module_version": "1.5.0",
          "state": {
            "_model_module": "@jupyter-widgets/controls",
            "_model_module_version": "1.5.0",
            "_model_name": "DescriptionStyleModel",
            "_view_count": null,
            "_view_module": "@jupyter-widgets/base",
            "_view_module_version": "1.2.0",
            "_view_name": "StyleView",
            "description_width": ""
          }
        },
        "8e524bc5c3d64b279c03021a56029496": {
          "model_module": "@jupyter-widgets/base",
          "model_name": "LayoutModel",
          "model_module_version": "1.2.0",
          "state": {
            "_model_module": "@jupyter-widgets/base",
            "_model_module_version": "1.2.0",
            "_model_name": "LayoutModel",
            "_view_count": null,
            "_view_module": "@jupyter-widgets/base",
            "_view_module_version": "1.2.0",
            "_view_name": "LayoutView",
            "align_content": null,
            "align_items": null,
            "align_self": null,
            "border": null,
            "bottom": null,
            "display": null,
            "flex": null,
            "flex_flow": null,
            "grid_area": null,
            "grid_auto_columns": null,
            "grid_auto_flow": null,
            "grid_auto_rows": null,
            "grid_column": null,
            "grid_gap": null,
            "grid_row": null,
            "grid_template_areas": null,
            "grid_template_columns": null,
            "grid_template_rows": null,
            "height": null,
            "justify_content": null,
            "justify_items": null,
            "left": null,
            "margin": null,
            "max_height": null,
            "max_width": null,
            "min_height": null,
            "min_width": null,
            "object_fit": null,
            "object_position": null,
            "order": null,
            "overflow": null,
            "overflow_x": null,
            "overflow_y": null,
            "padding": null,
            "right": null,
            "top": null,
            "visibility": null,
            "width": null
          }
        },
        "51aa3f5a36eb4db08d7da61f630857b6": {
          "model_module": "@jupyter-widgets/controls",
          "model_name": "ProgressStyleModel",
          "model_module_version": "1.5.0",
          "state": {
            "_model_module": "@jupyter-widgets/controls",
            "_model_module_version": "1.5.0",
            "_model_name": "ProgressStyleModel",
            "_view_count": null,
            "_view_module": "@jupyter-widgets/base",
            "_view_module_version": "1.2.0",
            "_view_name": "StyleView",
            "bar_color": null,
            "description_width": ""
          }
        },
        "077bdc8099c847aa91c632c42e0f65c4": {
          "model_module": "@jupyter-widgets/base",
          "model_name": "LayoutModel",
          "model_module_version": "1.2.0",
          "state": {
            "_model_module": "@jupyter-widgets/base",
            "_model_module_version": "1.2.0",
            "_model_name": "LayoutModel",
            "_view_count": null,
            "_view_module": "@jupyter-widgets/base",
            "_view_module_version": "1.2.0",
            "_view_name": "LayoutView",
            "align_content": null,
            "align_items": null,
            "align_self": null,
            "border": null,
            "bottom": null,
            "display": null,
            "flex": null,
            "flex_flow": null,
            "grid_area": null,
            "grid_auto_columns": null,
            "grid_auto_flow": null,
            "grid_auto_rows": null,
            "grid_column": null,
            "grid_gap": null,
            "grid_row": null,
            "grid_template_areas": null,
            "grid_template_columns": null,
            "grid_template_rows": null,
            "height": null,
            "justify_content": null,
            "justify_items": null,
            "left": null,
            "margin": null,
            "max_height": null,
            "max_width": null,
            "min_height": null,
            "min_width": null,
            "object_fit": null,
            "object_position": null,
            "order": null,
            "overflow": null,
            "overflow_x": null,
            "overflow_y": null,
            "padding": null,
            "right": null,
            "top": null,
            "visibility": null,
            "width": null
          }
        },
        "1314ede39b154ef68a022a96dbd042f1": {
          "model_module": "@jupyter-widgets/controls",
          "model_name": "DescriptionStyleModel",
          "model_module_version": "1.5.0",
          "state": {
            "_model_module": "@jupyter-widgets/controls",
            "_model_module_version": "1.5.0",
            "_model_name": "DescriptionStyleModel",
            "_view_count": null,
            "_view_module": "@jupyter-widgets/base",
            "_view_module_version": "1.2.0",
            "_view_name": "StyleView",
            "description_width": ""
          }
        },
        "bd005d5801014992b39c7ecf8cfc46ac": {
          "model_module": "@jupyter-widgets/controls",
          "model_name": "HBoxModel",
          "model_module_version": "1.5.0",
          "state": {
            "_dom_classes": [],
            "_model_module": "@jupyter-widgets/controls",
            "_model_module_version": "1.5.0",
            "_model_name": "HBoxModel",
            "_view_count": null,
            "_view_module": "@jupyter-widgets/controls",
            "_view_module_version": "1.5.0",
            "_view_name": "HBoxView",
            "box_style": "",
            "children": [
              "IPY_MODEL_cd915598f62d4bc8a39894ce4d29c02c",
              "IPY_MODEL_45eea29a199e441abfecfcc798f5e5ed",
              "IPY_MODEL_61459f0f9a014af59cb1a0ba0141002d"
            ],
            "layout": "IPY_MODEL_d0645a705bfd4ef9b511bdda09e879de"
          }
        },
        "cd915598f62d4bc8a39894ce4d29c02c": {
          "model_module": "@jupyter-widgets/controls",
          "model_name": "HTMLModel",
          "model_module_version": "1.5.0",
          "state": {
            "_dom_classes": [],
            "_model_module": "@jupyter-widgets/controls",
            "_model_module_version": "1.5.0",
            "_model_name": "HTMLModel",
            "_view_count": null,
            "_view_module": "@jupyter-widgets/controls",
            "_view_module_version": "1.5.0",
            "_view_name": "HTMLView",
            "description": "",
            "description_tooltip": null,
            "layout": "IPY_MODEL_f0cfb577a19b4167b54dadcc0dd2f271",
            "placeholder": "​",
            "style": "IPY_MODEL_fd2fc01305794cc2a0dd326d46aaaca8",
            "value": "tokenizer.json: 100%"
          }
        },
        "45eea29a199e441abfecfcc798f5e5ed": {
          "model_module": "@jupyter-widgets/controls",
          "model_name": "FloatProgressModel",
          "model_module_version": "1.5.0",
          "state": {
            "_dom_classes": [],
            "_model_module": "@jupyter-widgets/controls",
            "_model_module_version": "1.5.0",
            "_model_name": "FloatProgressModel",
            "_view_count": null,
            "_view_module": "@jupyter-widgets/controls",
            "_view_module_version": "1.5.0",
            "_view_name": "ProgressView",
            "bar_style": "success",
            "description": "",
            "description_tooltip": null,
            "layout": "IPY_MODEL_8bcf0eaba5ca404c8ee6595eaa7352cd",
            "max": 466062,
            "min": 0,
            "orientation": "horizontal",
            "style": "IPY_MODEL_2385eee195c947aab2384cb1e6783975",
            "value": 466062
          }
        },
        "61459f0f9a014af59cb1a0ba0141002d": {
          "model_module": "@jupyter-widgets/controls",
          "model_name": "HTMLModel",
          "model_module_version": "1.5.0",
          "state": {
            "_dom_classes": [],
            "_model_module": "@jupyter-widgets/controls",
            "_model_module_version": "1.5.0",
            "_model_name": "HTMLModel",
            "_view_count": null,
            "_view_module": "@jupyter-widgets/controls",
            "_view_module_version": "1.5.0",
            "_view_name": "HTMLView",
            "description": "",
            "description_tooltip": null,
            "layout": "IPY_MODEL_78aecc227594489eb46c1563b4a6e251",
            "placeholder": "​",
            "style": "IPY_MODEL_9ef1dfd326d64632a3d8a64e1c2b85cf",
            "value": " 466k/466k [00:00&lt;00:00, 19.2MB/s]"
          }
        },
        "d0645a705bfd4ef9b511bdda09e879de": {
          "model_module": "@jupyter-widgets/base",
          "model_name": "LayoutModel",
          "model_module_version": "1.2.0",
          "state": {
            "_model_module": "@jupyter-widgets/base",
            "_model_module_version": "1.2.0",
            "_model_name": "LayoutModel",
            "_view_count": null,
            "_view_module": "@jupyter-widgets/base",
            "_view_module_version": "1.2.0",
            "_view_name": "LayoutView",
            "align_content": null,
            "align_items": null,
            "align_self": null,
            "border": null,
            "bottom": null,
            "display": null,
            "flex": null,
            "flex_flow": null,
            "grid_area": null,
            "grid_auto_columns": null,
            "grid_auto_flow": null,
            "grid_auto_rows": null,
            "grid_column": null,
            "grid_gap": null,
            "grid_row": null,
            "grid_template_areas": null,
            "grid_template_columns": null,
            "grid_template_rows": null,
            "height": null,
            "justify_content": null,
            "justify_items": null,
            "left": null,
            "margin": null,
            "max_height": null,
            "max_width": null,
            "min_height": null,
            "min_width": null,
            "object_fit": null,
            "object_position": null,
            "order": null,
            "overflow": null,
            "overflow_x": null,
            "overflow_y": null,
            "padding": null,
            "right": null,
            "top": null,
            "visibility": null,
            "width": null
          }
        },
        "f0cfb577a19b4167b54dadcc0dd2f271": {
          "model_module": "@jupyter-widgets/base",
          "model_name": "LayoutModel",
          "model_module_version": "1.2.0",
          "state": {
            "_model_module": "@jupyter-widgets/base",
            "_model_module_version": "1.2.0",
            "_model_name": "LayoutModel",
            "_view_count": null,
            "_view_module": "@jupyter-widgets/base",
            "_view_module_version": "1.2.0",
            "_view_name": "LayoutView",
            "align_content": null,
            "align_items": null,
            "align_self": null,
            "border": null,
            "bottom": null,
            "display": null,
            "flex": null,
            "flex_flow": null,
            "grid_area": null,
            "grid_auto_columns": null,
            "grid_auto_flow": null,
            "grid_auto_rows": null,
            "grid_column": null,
            "grid_gap": null,
            "grid_row": null,
            "grid_template_areas": null,
            "grid_template_columns": null,
            "grid_template_rows": null,
            "height": null,
            "justify_content": null,
            "justify_items": null,
            "left": null,
            "margin": null,
            "max_height": null,
            "max_width": null,
            "min_height": null,
            "min_width": null,
            "object_fit": null,
            "object_position": null,
            "order": null,
            "overflow": null,
            "overflow_x": null,
            "overflow_y": null,
            "padding": null,
            "right": null,
            "top": null,
            "visibility": null,
            "width": null
          }
        },
        "fd2fc01305794cc2a0dd326d46aaaca8": {
          "model_module": "@jupyter-widgets/controls",
          "model_name": "DescriptionStyleModel",
          "model_module_version": "1.5.0",
          "state": {
            "_model_module": "@jupyter-widgets/controls",
            "_model_module_version": "1.5.0",
            "_model_name": "DescriptionStyleModel",
            "_view_count": null,
            "_view_module": "@jupyter-widgets/base",
            "_view_module_version": "1.2.0",
            "_view_name": "StyleView",
            "description_width": ""
          }
        },
        "8bcf0eaba5ca404c8ee6595eaa7352cd": {
          "model_module": "@jupyter-widgets/base",
          "model_name": "LayoutModel",
          "model_module_version": "1.2.0",
          "state": {
            "_model_module": "@jupyter-widgets/base",
            "_model_module_version": "1.2.0",
            "_model_name": "LayoutModel",
            "_view_count": null,
            "_view_module": "@jupyter-widgets/base",
            "_view_module_version": "1.2.0",
            "_view_name": "LayoutView",
            "align_content": null,
            "align_items": null,
            "align_self": null,
            "border": null,
            "bottom": null,
            "display": null,
            "flex": null,
            "flex_flow": null,
            "grid_area": null,
            "grid_auto_columns": null,
            "grid_auto_flow": null,
            "grid_auto_rows": null,
            "grid_column": null,
            "grid_gap": null,
            "grid_row": null,
            "grid_template_areas": null,
            "grid_template_columns": null,
            "grid_template_rows": null,
            "height": null,
            "justify_content": null,
            "justify_items": null,
            "left": null,
            "margin": null,
            "max_height": null,
            "max_width": null,
            "min_height": null,
            "min_width": null,
            "object_fit": null,
            "object_position": null,
            "order": null,
            "overflow": null,
            "overflow_x": null,
            "overflow_y": null,
            "padding": null,
            "right": null,
            "top": null,
            "visibility": null,
            "width": null
          }
        },
        "2385eee195c947aab2384cb1e6783975": {
          "model_module": "@jupyter-widgets/controls",
          "model_name": "ProgressStyleModel",
          "model_module_version": "1.5.0",
          "state": {
            "_model_module": "@jupyter-widgets/controls",
            "_model_module_version": "1.5.0",
            "_model_name": "ProgressStyleModel",
            "_view_count": null,
            "_view_module": "@jupyter-widgets/base",
            "_view_module_version": "1.2.0",
            "_view_name": "StyleView",
            "bar_color": null,
            "description_width": ""
          }
        },
        "78aecc227594489eb46c1563b4a6e251": {
          "model_module": "@jupyter-widgets/base",
          "model_name": "LayoutModel",
          "model_module_version": "1.2.0",
          "state": {
            "_model_module": "@jupyter-widgets/base",
            "_model_module_version": "1.2.0",
            "_model_name": "LayoutModel",
            "_view_count": null,
            "_view_module": "@jupyter-widgets/base",
            "_view_module_version": "1.2.0",
            "_view_name": "LayoutView",
            "align_content": null,
            "align_items": null,
            "align_self": null,
            "border": null,
            "bottom": null,
            "display": null,
            "flex": null,
            "flex_flow": null,
            "grid_area": null,
            "grid_auto_columns": null,
            "grid_auto_flow": null,
            "grid_auto_rows": null,
            "grid_column": null,
            "grid_gap": null,
            "grid_row": null,
            "grid_template_areas": null,
            "grid_template_columns": null,
            "grid_template_rows": null,
            "height": null,
            "justify_content": null,
            "justify_items": null,
            "left": null,
            "margin": null,
            "max_height": null,
            "max_width": null,
            "min_height": null,
            "min_width": null,
            "object_fit": null,
            "object_position": null,
            "order": null,
            "overflow": null,
            "overflow_x": null,
            "overflow_y": null,
            "padding": null,
            "right": null,
            "top": null,
            "visibility": null,
            "width": null
          }
        },
        "9ef1dfd326d64632a3d8a64e1c2b85cf": {
          "model_module": "@jupyter-widgets/controls",
          "model_name": "DescriptionStyleModel",
          "model_module_version": "1.5.0",
          "state": {
            "_model_module": "@jupyter-widgets/controls",
            "_model_module_version": "1.5.0",
            "_model_name": "DescriptionStyleModel",
            "_view_count": null,
            "_view_module": "@jupyter-widgets/base",
            "_view_module_version": "1.2.0",
            "_view_name": "StyleView",
            "description_width": ""
          }
        },
        "b8288d550be34630ab02bf0e40be3975": {
          "model_module": "@jupyter-widgets/controls",
          "model_name": "HBoxModel",
          "model_module_version": "1.5.0",
          "state": {
            "_dom_classes": [],
            "_model_module": "@jupyter-widgets/controls",
            "_model_module_version": "1.5.0",
            "_model_name": "HBoxModel",
            "_view_count": null,
            "_view_module": "@jupyter-widgets/controls",
            "_view_module_version": "1.5.0",
            "_view_name": "HBoxView",
            "box_style": "",
            "children": [
              "IPY_MODEL_1cf0986bb12041599fedf6b16ff214a8",
              "IPY_MODEL_7f470036c5cc479c894faab8e9896819",
              "IPY_MODEL_e4a25fe5a0c94584bba811302ed87bc1"
            ],
            "layout": "IPY_MODEL_bfa231e4d19e43e9921b42379275c69f"
          }
        },
        "1cf0986bb12041599fedf6b16ff214a8": {
          "model_module": "@jupyter-widgets/controls",
          "model_name": "HTMLModel",
          "model_module_version": "1.5.0",
          "state": {
            "_dom_classes": [],
            "_model_module": "@jupyter-widgets/controls",
            "_model_module_version": "1.5.0",
            "_model_name": "HTMLModel",
            "_view_count": null,
            "_view_module": "@jupyter-widgets/controls",
            "_view_module_version": "1.5.0",
            "_view_name": "HTMLView",
            "description": "",
            "description_tooltip": null,
            "layout": "IPY_MODEL_9f922d5052f6401a9cb53bb5a80dcc18",
            "placeholder": "​",
            "style": "IPY_MODEL_c3fafa95157b42d697e5c1a5cb7dff4d",
            "value": "config.json: 100%"
          }
        },
        "7f470036c5cc479c894faab8e9896819": {
          "model_module": "@jupyter-widgets/controls",
          "model_name": "FloatProgressModel",
          "model_module_version": "1.5.0",
          "state": {
            "_dom_classes": [],
            "_model_module": "@jupyter-widgets/controls",
            "_model_module_version": "1.5.0",
            "_model_name": "FloatProgressModel",
            "_view_count": null,
            "_view_module": "@jupyter-widgets/controls",
            "_view_module_version": "1.5.0",
            "_view_name": "ProgressView",
            "bar_style": "success",
            "description": "",
            "description_tooltip": null,
            "layout": "IPY_MODEL_ec69a62eb925454aa22479fc539f02f2",
            "max": 570,
            "min": 0,
            "orientation": "horizontal",
            "style": "IPY_MODEL_2fbb62c98b20408ca3c58f4a198cd742",
            "value": 570
          }
        },
        "e4a25fe5a0c94584bba811302ed87bc1": {
          "model_module": "@jupyter-widgets/controls",
          "model_name": "HTMLModel",
          "model_module_version": "1.5.0",
          "state": {
            "_dom_classes": [],
            "_model_module": "@jupyter-widgets/controls",
            "_model_module_version": "1.5.0",
            "_model_name": "HTMLModel",
            "_view_count": null,
            "_view_module": "@jupyter-widgets/controls",
            "_view_module_version": "1.5.0",
            "_view_name": "HTMLView",
            "description": "",
            "description_tooltip": null,
            "layout": "IPY_MODEL_1bc628aa49e94b7bb0bcc7d357cfac1c",
            "placeholder": "​",
            "style": "IPY_MODEL_81485f207f8f46d6b87da3f6779c4a3f",
            "value": " 570/570 [00:00&lt;00:00, 19.4kB/s]"
          }
        },
        "bfa231e4d19e43e9921b42379275c69f": {
          "model_module": "@jupyter-widgets/base",
          "model_name": "LayoutModel",
          "model_module_version": "1.2.0",
          "state": {
            "_model_module": "@jupyter-widgets/base",
            "_model_module_version": "1.2.0",
            "_model_name": "LayoutModel",
            "_view_count": null,
            "_view_module": "@jupyter-widgets/base",
            "_view_module_version": "1.2.0",
            "_view_name": "LayoutView",
            "align_content": null,
            "align_items": null,
            "align_self": null,
            "border": null,
            "bottom": null,
            "display": null,
            "flex": null,
            "flex_flow": null,
            "grid_area": null,
            "grid_auto_columns": null,
            "grid_auto_flow": null,
            "grid_auto_rows": null,
            "grid_column": null,
            "grid_gap": null,
            "grid_row": null,
            "grid_template_areas": null,
            "grid_template_columns": null,
            "grid_template_rows": null,
            "height": null,
            "justify_content": null,
            "justify_items": null,
            "left": null,
            "margin": null,
            "max_height": null,
            "max_width": null,
            "min_height": null,
            "min_width": null,
            "object_fit": null,
            "object_position": null,
            "order": null,
            "overflow": null,
            "overflow_x": null,
            "overflow_y": null,
            "padding": null,
            "right": null,
            "top": null,
            "visibility": null,
            "width": null
          }
        },
        "9f922d5052f6401a9cb53bb5a80dcc18": {
          "model_module": "@jupyter-widgets/base",
          "model_name": "LayoutModel",
          "model_module_version": "1.2.0",
          "state": {
            "_model_module": "@jupyter-widgets/base",
            "_model_module_version": "1.2.0",
            "_model_name": "LayoutModel",
            "_view_count": null,
            "_view_module": "@jupyter-widgets/base",
            "_view_module_version": "1.2.0",
            "_view_name": "LayoutView",
            "align_content": null,
            "align_items": null,
            "align_self": null,
            "border": null,
            "bottom": null,
            "display": null,
            "flex": null,
            "flex_flow": null,
            "grid_area": null,
            "grid_auto_columns": null,
            "grid_auto_flow": null,
            "grid_auto_rows": null,
            "grid_column": null,
            "grid_gap": null,
            "grid_row": null,
            "grid_template_areas": null,
            "grid_template_columns": null,
            "grid_template_rows": null,
            "height": null,
            "justify_content": null,
            "justify_items": null,
            "left": null,
            "margin": null,
            "max_height": null,
            "max_width": null,
            "min_height": null,
            "min_width": null,
            "object_fit": null,
            "object_position": null,
            "order": null,
            "overflow": null,
            "overflow_x": null,
            "overflow_y": null,
            "padding": null,
            "right": null,
            "top": null,
            "visibility": null,
            "width": null
          }
        },
        "c3fafa95157b42d697e5c1a5cb7dff4d": {
          "model_module": "@jupyter-widgets/controls",
          "model_name": "DescriptionStyleModel",
          "model_module_version": "1.5.0",
          "state": {
            "_model_module": "@jupyter-widgets/controls",
            "_model_module_version": "1.5.0",
            "_model_name": "DescriptionStyleModel",
            "_view_count": null,
            "_view_module": "@jupyter-widgets/base",
            "_view_module_version": "1.2.0",
            "_view_name": "StyleView",
            "description_width": ""
          }
        },
        "ec69a62eb925454aa22479fc539f02f2": {
          "model_module": "@jupyter-widgets/base",
          "model_name": "LayoutModel",
          "model_module_version": "1.2.0",
          "state": {
            "_model_module": "@jupyter-widgets/base",
            "_model_module_version": "1.2.0",
            "_model_name": "LayoutModel",
            "_view_count": null,
            "_view_module": "@jupyter-widgets/base",
            "_view_module_version": "1.2.0",
            "_view_name": "LayoutView",
            "align_content": null,
            "align_items": null,
            "align_self": null,
            "border": null,
            "bottom": null,
            "display": null,
            "flex": null,
            "flex_flow": null,
            "grid_area": null,
            "grid_auto_columns": null,
            "grid_auto_flow": null,
            "grid_auto_rows": null,
            "grid_column": null,
            "grid_gap": null,
            "grid_row": null,
            "grid_template_areas": null,
            "grid_template_columns": null,
            "grid_template_rows": null,
            "height": null,
            "justify_content": null,
            "justify_items": null,
            "left": null,
            "margin": null,
            "max_height": null,
            "max_width": null,
            "min_height": null,
            "min_width": null,
            "object_fit": null,
            "object_position": null,
            "order": null,
            "overflow": null,
            "overflow_x": null,
            "overflow_y": null,
            "padding": null,
            "right": null,
            "top": null,
            "visibility": null,
            "width": null
          }
        },
        "2fbb62c98b20408ca3c58f4a198cd742": {
          "model_module": "@jupyter-widgets/controls",
          "model_name": "ProgressStyleModel",
          "model_module_version": "1.5.0",
          "state": {
            "_model_module": "@jupyter-widgets/controls",
            "_model_module_version": "1.5.0",
            "_model_name": "ProgressStyleModel",
            "_view_count": null,
            "_view_module": "@jupyter-widgets/base",
            "_view_module_version": "1.2.0",
            "_view_name": "StyleView",
            "bar_color": null,
            "description_width": ""
          }
        },
        "1bc628aa49e94b7bb0bcc7d357cfac1c": {
          "model_module": "@jupyter-widgets/base",
          "model_name": "LayoutModel",
          "model_module_version": "1.2.0",
          "state": {
            "_model_module": "@jupyter-widgets/base",
            "_model_module_version": "1.2.0",
            "_model_name": "LayoutModel",
            "_view_count": null,
            "_view_module": "@jupyter-widgets/base",
            "_view_module_version": "1.2.0",
            "_view_name": "LayoutView",
            "align_content": null,
            "align_items": null,
            "align_self": null,
            "border": null,
            "bottom": null,
            "display": null,
            "flex": null,
            "flex_flow": null,
            "grid_area": null,
            "grid_auto_columns": null,
            "grid_auto_flow": null,
            "grid_auto_rows": null,
            "grid_column": null,
            "grid_gap": null,
            "grid_row": null,
            "grid_template_areas": null,
            "grid_template_columns": null,
            "grid_template_rows": null,
            "height": null,
            "justify_content": null,
            "justify_items": null,
            "left": null,
            "margin": null,
            "max_height": null,
            "max_width": null,
            "min_height": null,
            "min_width": null,
            "object_fit": null,
            "object_position": null,
            "order": null,
            "overflow": null,
            "overflow_x": null,
            "overflow_y": null,
            "padding": null,
            "right": null,
            "top": null,
            "visibility": null,
            "width": null
          }
        },
        "81485f207f8f46d6b87da3f6779c4a3f": {
          "model_module": "@jupyter-widgets/controls",
          "model_name": "DescriptionStyleModel",
          "model_module_version": "1.5.0",
          "state": {
            "_model_module": "@jupyter-widgets/controls",
            "_model_module_version": "1.5.0",
            "_model_name": "DescriptionStyleModel",
            "_view_count": null,
            "_view_module": "@jupyter-widgets/base",
            "_view_module_version": "1.2.0",
            "_view_name": "StyleView",
            "description_width": ""
          }
        },
        "4113fa2a141c48eea1cdd16570fe4a1f": {
          "model_module": "@jupyter-widgets/controls",
          "model_name": "HBoxModel",
          "model_module_version": "1.5.0",
          "state": {
            "_dom_classes": [],
            "_model_module": "@jupyter-widgets/controls",
            "_model_module_version": "1.5.0",
            "_model_name": "HBoxModel",
            "_view_count": null,
            "_view_module": "@jupyter-widgets/controls",
            "_view_module_version": "1.5.0",
            "_view_name": "HBoxView",
            "box_style": "",
            "children": [
              "IPY_MODEL_3b28722608dd4a3199b10707f9baf3ea",
              "IPY_MODEL_b9e81b89882a4bfba0c68a1271768b5b",
              "IPY_MODEL_d0c0578deadf42f9957a1d965e82e83a"
            ],
            "layout": "IPY_MODEL_997cada407e343debec92ad627b15d41"
          }
        },
        "3b28722608dd4a3199b10707f9baf3ea": {
          "model_module": "@jupyter-widgets/controls",
          "model_name": "HTMLModel",
          "model_module_version": "1.5.0",
          "state": {
            "_dom_classes": [],
            "_model_module": "@jupyter-widgets/controls",
            "_model_module_version": "1.5.0",
            "_model_name": "HTMLModel",
            "_view_count": null,
            "_view_module": "@jupyter-widgets/controls",
            "_view_module_version": "1.5.0",
            "_view_name": "HTMLView",
            "description": "",
            "description_tooltip": null,
            "layout": "IPY_MODEL_44a5c7d55d8748fdb00577166d358c8a",
            "placeholder": "​",
            "style": "IPY_MODEL_4a40fc415e444fd8bcbb95da85573c08",
            "value": "model.safetensors: 100%"
          }
        },
        "b9e81b89882a4bfba0c68a1271768b5b": {
          "model_module": "@jupyter-widgets/controls",
          "model_name": "FloatProgressModel",
          "model_module_version": "1.5.0",
          "state": {
            "_dom_classes": [],
            "_model_module": "@jupyter-widgets/controls",
            "_model_module_version": "1.5.0",
            "_model_name": "FloatProgressModel",
            "_view_count": null,
            "_view_module": "@jupyter-widgets/controls",
            "_view_module_version": "1.5.0",
            "_view_name": "ProgressView",
            "bar_style": "success",
            "description": "",
            "description_tooltip": null,
            "layout": "IPY_MODEL_8b0693918ffe476eb110c1d8d9329b01",
            "max": 440449768,
            "min": 0,
            "orientation": "horizontal",
            "style": "IPY_MODEL_4038f5d3d5e1489eb550a2c2a67a44f4",
            "value": 440449768
          }
        },
        "d0c0578deadf42f9957a1d965e82e83a": {
          "model_module": "@jupyter-widgets/controls",
          "model_name": "HTMLModel",
          "model_module_version": "1.5.0",
          "state": {
            "_dom_classes": [],
            "_model_module": "@jupyter-widgets/controls",
            "_model_module_version": "1.5.0",
            "_model_name": "HTMLModel",
            "_view_count": null,
            "_view_module": "@jupyter-widgets/controls",
            "_view_module_version": "1.5.0",
            "_view_name": "HTMLView",
            "description": "",
            "description_tooltip": null,
            "layout": "IPY_MODEL_e5bf4624671e4b43a72733db5f965219",
            "placeholder": "​",
            "style": "IPY_MODEL_85c7c23836084fd6a1140625db296da7",
            "value": " 440M/440M [00:04&lt;00:00, 139MB/s]"
          }
        },
        "997cada407e343debec92ad627b15d41": {
          "model_module": "@jupyter-widgets/base",
          "model_name": "LayoutModel",
          "model_module_version": "1.2.0",
          "state": {
            "_model_module": "@jupyter-widgets/base",
            "_model_module_version": "1.2.0",
            "_model_name": "LayoutModel",
            "_view_count": null,
            "_view_module": "@jupyter-widgets/base",
            "_view_module_version": "1.2.0",
            "_view_name": "LayoutView",
            "align_content": null,
            "align_items": null,
            "align_self": null,
            "border": null,
            "bottom": null,
            "display": null,
            "flex": null,
            "flex_flow": null,
            "grid_area": null,
            "grid_auto_columns": null,
            "grid_auto_flow": null,
            "grid_auto_rows": null,
            "grid_column": null,
            "grid_gap": null,
            "grid_row": null,
            "grid_template_areas": null,
            "grid_template_columns": null,
            "grid_template_rows": null,
            "height": null,
            "justify_content": null,
            "justify_items": null,
            "left": null,
            "margin": null,
            "max_height": null,
            "max_width": null,
            "min_height": null,
            "min_width": null,
            "object_fit": null,
            "object_position": null,
            "order": null,
            "overflow": null,
            "overflow_x": null,
            "overflow_y": null,
            "padding": null,
            "right": null,
            "top": null,
            "visibility": null,
            "width": null
          }
        },
        "44a5c7d55d8748fdb00577166d358c8a": {
          "model_module": "@jupyter-widgets/base",
          "model_name": "LayoutModel",
          "model_module_version": "1.2.0",
          "state": {
            "_model_module": "@jupyter-widgets/base",
            "_model_module_version": "1.2.0",
            "_model_name": "LayoutModel",
            "_view_count": null,
            "_view_module": "@jupyter-widgets/base",
            "_view_module_version": "1.2.0",
            "_view_name": "LayoutView",
            "align_content": null,
            "align_items": null,
            "align_self": null,
            "border": null,
            "bottom": null,
            "display": null,
            "flex": null,
            "flex_flow": null,
            "grid_area": null,
            "grid_auto_columns": null,
            "grid_auto_flow": null,
            "grid_auto_rows": null,
            "grid_column": null,
            "grid_gap": null,
            "grid_row": null,
            "grid_template_areas": null,
            "grid_template_columns": null,
            "grid_template_rows": null,
            "height": null,
            "justify_content": null,
            "justify_items": null,
            "left": null,
            "margin": null,
            "max_height": null,
            "max_width": null,
            "min_height": null,
            "min_width": null,
            "object_fit": null,
            "object_position": null,
            "order": null,
            "overflow": null,
            "overflow_x": null,
            "overflow_y": null,
            "padding": null,
            "right": null,
            "top": null,
            "visibility": null,
            "width": null
          }
        },
        "4a40fc415e444fd8bcbb95da85573c08": {
          "model_module": "@jupyter-widgets/controls",
          "model_name": "DescriptionStyleModel",
          "model_module_version": "1.5.0",
          "state": {
            "_model_module": "@jupyter-widgets/controls",
            "_model_module_version": "1.5.0",
            "_model_name": "DescriptionStyleModel",
            "_view_count": null,
            "_view_module": "@jupyter-widgets/base",
            "_view_module_version": "1.2.0",
            "_view_name": "StyleView",
            "description_width": ""
          }
        },
        "8b0693918ffe476eb110c1d8d9329b01": {
          "model_module": "@jupyter-widgets/base",
          "model_name": "LayoutModel",
          "model_module_version": "1.2.0",
          "state": {
            "_model_module": "@jupyter-widgets/base",
            "_model_module_version": "1.2.0",
            "_model_name": "LayoutModel",
            "_view_count": null,
            "_view_module": "@jupyter-widgets/base",
            "_view_module_version": "1.2.0",
            "_view_name": "LayoutView",
            "align_content": null,
            "align_items": null,
            "align_self": null,
            "border": null,
            "bottom": null,
            "display": null,
            "flex": null,
            "flex_flow": null,
            "grid_area": null,
            "grid_auto_columns": null,
            "grid_auto_flow": null,
            "grid_auto_rows": null,
            "grid_column": null,
            "grid_gap": null,
            "grid_row": null,
            "grid_template_areas": null,
            "grid_template_columns": null,
            "grid_template_rows": null,
            "height": null,
            "justify_content": null,
            "justify_items": null,
            "left": null,
            "margin": null,
            "max_height": null,
            "max_width": null,
            "min_height": null,
            "min_width": null,
            "object_fit": null,
            "object_position": null,
            "order": null,
            "overflow": null,
            "overflow_x": null,
            "overflow_y": null,
            "padding": null,
            "right": null,
            "top": null,
            "visibility": null,
            "width": null
          }
        },
        "4038f5d3d5e1489eb550a2c2a67a44f4": {
          "model_module": "@jupyter-widgets/controls",
          "model_name": "ProgressStyleModel",
          "model_module_version": "1.5.0",
          "state": {
            "_model_module": "@jupyter-widgets/controls",
            "_model_module_version": "1.5.0",
            "_model_name": "ProgressStyleModel",
            "_view_count": null,
            "_view_module": "@jupyter-widgets/base",
            "_view_module_version": "1.2.0",
            "_view_name": "StyleView",
            "bar_color": null,
            "description_width": ""
          }
        },
        "e5bf4624671e4b43a72733db5f965219": {
          "model_module": "@jupyter-widgets/base",
          "model_name": "LayoutModel",
          "model_module_version": "1.2.0",
          "state": {
            "_model_module": "@jupyter-widgets/base",
            "_model_module_version": "1.2.0",
            "_model_name": "LayoutModel",
            "_view_count": null,
            "_view_module": "@jupyter-widgets/base",
            "_view_module_version": "1.2.0",
            "_view_name": "LayoutView",
            "align_content": null,
            "align_items": null,
            "align_self": null,
            "border": null,
            "bottom": null,
            "display": null,
            "flex": null,
            "flex_flow": null,
            "grid_area": null,
            "grid_auto_columns": null,
            "grid_auto_flow": null,
            "grid_auto_rows": null,
            "grid_column": null,
            "grid_gap": null,
            "grid_row": null,
            "grid_template_areas": null,
            "grid_template_columns": null,
            "grid_template_rows": null,
            "height": null,
            "justify_content": null,
            "justify_items": null,
            "left": null,
            "margin": null,
            "max_height": null,
            "max_width": null,
            "min_height": null,
            "min_width": null,
            "object_fit": null,
            "object_position": null,
            "order": null,
            "overflow": null,
            "overflow_x": null,
            "overflow_y": null,
            "padding": null,
            "right": null,
            "top": null,
            "visibility": null,
            "width": null
          }
        },
        "85c7c23836084fd6a1140625db296da7": {
          "model_module": "@jupyter-widgets/controls",
          "model_name": "DescriptionStyleModel",
          "model_module_version": "1.5.0",
          "state": {
            "_model_module": "@jupyter-widgets/controls",
            "_model_module_version": "1.5.0",
            "_model_name": "DescriptionStyleModel",
            "_view_count": null,
            "_view_module": "@jupyter-widgets/base",
            "_view_module_version": "1.2.0",
            "_view_name": "StyleView",
            "description_width": ""
          }
        }
      }
    }
  },
  "cells": [
    {
      "cell_type": "markdown",
      "source": [
        "#1.Datasets\n",
        "\n",
        "\n",
        "---\n",
        "\n"
      ],
      "metadata": {
        "id": "r7Hnib33jY4g"
      }
    },
    {
      "cell_type": "markdown",
      "source": [
        "##1.1.Pre-processing Airline Dataset"
      ],
      "metadata": {
        "id": "loO3mzHqe_kN"
      }
    },
    {
      "cell_type": "code",
      "source": [
        "import pandas as pd"
      ],
      "metadata": {
        "id": "B-wUtoH4j5Fz"
      },
      "execution_count": null,
      "outputs": []
    },
    {
      "cell_type": "code",
      "execution_count": null,
      "metadata": {
        "id": "J05nPGZ6yyjY",
        "colab": {
          "base_uri": "https://localhost:8080/"
        },
        "outputId": "ba590039-4064-4dd1-ee6b-191eb7c5ffa8"
      },
      "outputs": [
        {
          "output_type": "stream",
          "name": "stdout",
          "text": [
            "sentiment\n",
            "0    9178\n",
            "2    3099\n",
            "1    2363\n",
            "Name: count, dtype: int64\n"
          ]
        }
      ],
      "source": [
        "# reading the data\n",
        "\n",
        "df=pd.read_csv(\"/content/Tweets.csv\")\n",
        "\n",
        "# only keeping columns \"tweet_id\" \"airline_sentiment\" \"text\" from df\n",
        "\n",
        "df = df[[\"tweet_id\", \"airline_sentiment\", \"text\"]]\n",
        "\n",
        "# airline_sentiment = positive put 1 if negative put -1 and neutral keep 0 in new column 'sentiment'\n",
        "\n",
        "df['sentiment'] = df['airline_sentiment'].apply(lambda x: 1 if x == 'positive' else (0 if x == 'negative' else 2))\n",
        "sentiment_counts = df['sentiment'].value_counts()\n",
        "print(sentiment_counts)"
      ]
    },
    {
      "cell_type": "code",
      "execution_count": null,
      "metadata": {
        "id": "mAVw3PSHzl_O"
      },
      "outputs": [],
      "source": [
        "\n",
        "# Group the DataFrame by sentiment\n",
        "grouped = df.groupby('sentiment')\n",
        "\n",
        "# Select the first 2363 rows of each sentiment group\n",
        "balanced_df = grouped.apply(lambda x: x.head(2363)).reset_index(drop=True)\n",
        "\n",
        "# Shuffle the DataFrame\n",
        "shuffled_df = balanced_df.sample(frac=1).reset_index(drop=True)\n"
      ]
    },
    {
      "cell_type": "code",
      "execution_count": null,
      "metadata": {
        "id": "i3zWmMWEz1cH"
      },
      "outputs": [],
      "source": [
        "import re\n",
        "# remove '@\" and the word after it so the usernames will be removed\n",
        "\n",
        "shuffled_df['text'] = shuffled_df['text'].apply(lambda x: re.sub(r'@\\w+', '', x))\n",
        "\n",
        "new_df = shuffled_df[['text', 'sentiment']]\n"
      ]
    },
    {
      "cell_type": "code",
      "execution_count": null,
      "metadata": {
        "colab": {
          "base_uri": "https://localhost:8080/"
        },
        "id": "e8BFfwE90dhU",
        "outputId": "acaec845-9f4a-4df7-e115-529b431e19e1"
      },
      "outputs": [
        {
          "output_type": "stream",
          "name": "stderr",
          "text": [
            "<ipython-input-5-66026fbe0382>:3: SettingWithCopyWarning: \n",
            "A value is trying to be set on a copy of a slice from a DataFrame.\n",
            "Try using .loc[row_indexer,col_indexer] = value instead\n",
            "\n",
            "See the caveats in the documentation: https://pandas.pydata.org/pandas-docs/stable/user_guide/indexing.html#returning-a-view-versus-a-copy\n",
            "  new_df['text'] = new_df['text'].apply(lambda x: re.sub(r'http\\S+', '', x))\n"
          ]
        }
      ],
      "source": [
        "# remove links from the text\n",
        "\n",
        "new_df['text'] = new_df['text'].apply(lambda x: re.sub(r'http\\S+', '', x))\n",
        "\n",
        "\n"
      ]
    },
    {
      "cell_type": "code",
      "source": [
        "df_majority = new_df[new_df['sentiment'] == 0]\n",
        "df_minority = new_df[new_df['sentiment'] == 1]\n",
        "\n",
        "# Downsample the majority class to match the number of samples in the minority class\n",
        "df_majority_downsampled = df_majority.sample(n=len(df_minority), random_state=42)  # You can change random_state for different sampling\n",
        "\n",
        "# Concatenate the downsampled majority class with the minority class\n",
        "balanced_df = pd.concat([df_majority_downsampled, df_minority])\n",
        "\n",
        "# Shuffle the balanced DataFrame\n",
        "balanced_df = balanced_df.sample(frac=1).reset_index(drop=True)\n",
        "\n",
        "# Print the balanced DataFrame\n",
        "print(balanced_df)\n"
      ],
      "metadata": {
        "colab": {
          "base_uri": "https://localhost:8080/"
        },
        "id": "TD_i63BSisrj",
        "outputId": "90de858a-b8b1-463e-c4fb-38b7a5b24ded"
      },
      "execution_count": null,
      "outputs": [
        {
          "output_type": "stream",
          "name": "stdout",
          "text": [
            "                                                   text  sentiment\n",
            "0        ... I love you. Air travel doesn't get easier.          1\n",
            "1      Thx for the GRAND view today! FLT 3825 SEATAC...          1\n",
            "2      Fabulous - thank you so much! Looking forward...          1\n",
            "3        I'm not sure why I expected anyone to be here           0\n",
            "4               I need #United to be a better airline!!          0\n",
            "...                                                 ...        ...\n",
            "4721   really? 3 hr delay, 4 gate changes, &amp; you...          0\n",
            "4722  , if you mean beyond opaque \"maintenance issue...          0\n",
            "4723   I had planned to book additional flights toni...          0\n",
            "4724   I was happy to purchase the upgrade. If only ...          1\n",
            "4725                       you are one great airline ❤️          1\n",
            "\n",
            "[4726 rows x 2 columns]\n"
          ]
        }
      ]
    },
    {
      "cell_type": "code",
      "execution_count": null,
      "metadata": {
        "id": "63qrHC1FAGQp"
      },
      "outputs": [],
      "source": [
        "balanced_df.to_csv('shuffled_cleaned_airline_data.csv', index=False)"
      ]
    },
    {
      "cell_type": "markdown",
      "source": [
        "##1.2. Pre-processing T4SA\n",
        "\n",
        "\n",
        "\n",
        "\n"
      ],
      "metadata": {
        "id": "-wR81bRMhOHc"
      }
    },
    {
      "cell_type": "code",
      "source": [
        "from keras.preprocessing.text import Tokenizer"
      ],
      "metadata": {
        "id": "wDjYB41Ho8cr"
      },
      "execution_count": null,
      "outputs": []
    },
    {
      "cell_type": "code",
      "source": [
        "from google.colab import drive\n",
        "drive.mount('/content/drive')"
      ],
      "metadata": {
        "colab": {
          "base_uri": "https://localhost:8080/"
        },
        "id": "0dbiYPjT1qzF",
        "outputId": "e552db02-cfec-41fd-84c9-b5223e77856e"
      },
      "execution_count": null,
      "outputs": [
        {
          "output_type": "stream",
          "name": "stdout",
          "text": [
            "Mounted at /content/drive\n"
          ]
        }
      ]
    },
    {
      "cell_type": "code",
      "source": [
        "import pandas as pd\n",
        "\n",
        "# Specify the file path\n",
        "tsv_file_path = '/content/drive/MyDrive/t4sa text sentiment and raw tweets/t4sa_text_sentiment.tsv'\n",
        "\n",
        "# Read the TSV file into a DataFrame\n",
        "df_tsv = pd.read_csv(tsv_file_path, sep='\\t')\n",
        "\n",
        "# Display the DataFrame\n",
        "#print(df_tsv[:5])\n",
        "# Specify the file path\n",
        "csv_file_path = '/content/drive/MyDrive/t4sa text sentiment and raw tweets/raw_tweets_text.csv'\n",
        "\n",
        "# Read the CSV file into a DataFrame\n",
        "df_csv = pd.read_csv(csv_file_path)\n",
        "\n",
        "# Display the DataFrame\n",
        "#print(df_csv[:5])\n",
        "merged_df = pd.merge(df_csv, df_tsv, left_on='id', right_on='TWID')\n",
        "\n",
        "# Display the merged DataFrame\n",
        "print(merged_df[:5])"
      ],
      "metadata": {
        "colab": {
          "base_uri": "https://localhost:8080/"
        },
        "id": "EkcFGPqAnG_C",
        "outputId": "ebd14cdb-9169-49ee-eea6-0fdda7e0c804"
      },
      "execution_count": null,
      "outputs": [
        {
          "output_type": "stream",
          "name": "stdout",
          "text": [
            "                   id                                               text  \\\n",
            "0  768097627686604801  Josh Jenkins is looking forward to TAB Breeder...   \n",
            "1  768097631864102912  RT @2pmthailfans: [Pic] Nichkhun from krjeong8...   \n",
            "2  768097640278089729  RT @MianUsmanJaved: Congratulations Pakistan o...   \n",
            "3  768097627695042560  RT @PEPalerts: This September, @YESmag is taki...   \n",
            "4  768096868504969216  #Incredible #India #Atulya #Bharat - Land of S...   \n",
            "\n",
            "                 TWID       NEG       NEU       POS  \n",
            "0  768097627686604801  0.008090  0.042331  0.949579  \n",
            "1  768097631864102912  0.014644  0.926557  0.058800  \n",
            "2  768097640278089729  0.004939  0.029469  0.965591  \n",
            "3  768097627695042560  0.006389  0.018663  0.974948  \n",
            "4  768096868504969216  0.049398  0.861395  0.089207  \n"
          ]
        }
      ]
    },
    {
      "cell_type": "code",
      "source": [
        "output_csv_path = '/content/CSV/merged_data.csv'\n",
        "\n",
        "# Save the merged DataFrame as a CSV file\n",
        "merged_df.to_csv(output_csv_path, index=False)\n"
      ],
      "metadata": {
        "id": "9A5EZd6l2uia"
      },
      "execution_count": null,
      "outputs": []
    },
    {
      "cell_type": "code",
      "source": [
        "\n",
        "import pandas as pd\n",
        "\n",
        "\n",
        "# Check if 'id' is equal to 'TWID' and create a new DataFrame with the rows that satisfy the condition\n",
        "filtered_df = merged_df[merged_df['id'] == merged_df['TWID']]\n",
        "\n",
        "# Create a new DataFrame without the 'TWID' column\n",
        "result_df = filtered_df.drop(columns=['TWID'])\n",
        "\n",
        "# Save the result to a new CSV file\n",
        "result_df.to_csv('result.csv', index=False)\n",
        "\n",
        "# Determine the maximum value between 'NEG', 'NEU', and 'POS' for each row\n",
        "result_df['Max'] = result_df[['NEG', 'NEU', 'POS']].idxmax(axis=1)\n",
        "\n",
        "# Map the 'Max' column based on the conditions you specified\n",
        "result_df['Max'] = result_df['Max'].map({'NEG': 0, 'NEU': 1, 'POS': 1})\n",
        "\n",
        "# Drop 'NEG', 'NEU', and 'POS' columns\n",
        "result_df = result_df.drop(columns=['NEG', 'NEU', 'POS'])\n",
        "\n",
        "# Save the result to a new CSV file\n",
        "result_df.to_csv('t4sa - clean data.csv', index=False)"
      ],
      "metadata": {
        "id": "5KPPp-fLX_P0"
      },
      "execution_count": null,
      "outputs": []
    },
    {
      "cell_type": "code",
      "source": [
        "# Shuffle the rows of the DataFrame\n",
        "result_df_shuffle = result_df.sample(frac=1).reset_index(drop=True)\n",
        "\n",
        "# Save the shuffled result to a new CSV file\n",
        "result_df_shuffle.head(20)"
      ],
      "metadata": {
        "colab": {
          "base_uri": "https://localhost:8080/",
          "height": 669
        },
        "id": "PEXIZOC6jorc",
        "outputId": "19d6c6cd-6aa0-4e66-bde1-4c256911c850"
      },
      "execution_count": null,
      "outputs": [
        {
          "output_type": "execute_result",
          "data": {
            "text/plain": [
              "                    id                                               text  Max\n",
              "0   796328019916914688  I will always love you and remember about you ...    1\n",
              "1   769164289542352896  It's not Thug's fault it's his predecessors' s...    0\n",
              "2   782045697545740289  Chris stauffer playing with his new toy https:...    1\n",
              "3   796794439092076546  pure talent and inspiration. Happy Birthday. #...    1\n",
              "4   769221663393185792  RT @gucciglostance: who did this ???????????? ...    1\n",
              "5   769006583695015936  RT @QuenandHope: These kids are my sunshine. M...    1\n",
              "6   768717067679924225  RT @ExeterChiefs: . @ExeterChiefs and @Nuffiel...    1\n",
              "7   798874176325087232  Genesis J @iamgenesisj - WHATSAPP https://t.co...    1\n",
              "8   797937114293800960  White didn't expect Miesha Tate's retirement, ...    0\n",
              "9   800802968962416641  Want to work in #STUART, FL? View our latest o...    1\n",
              "10  804514475038511104  Trump Announces Secretary Of Defense Pick And ...    1\n",
              "11  769540162061635584  RT @Legitrsgiving: Hello everybody. My name is...    1\n",
              "12  796528247609683968  Rajnath Singh attacks Pakistan, says under lea...    0\n",
              "13  783362063087181824  CWIEME Chicago. Come by and visit us today!  W...    1\n",
              "14  768502415784116225  Entrepreneur : RT LydiaBelanger: \"an urgent as...    1\n",
              "15  768150949873319938  RT @KendallJenner: unpublished by Mert+Marcus ...    1\n",
              "16  798182262994964480  Evian Christ's New Trance Party Website Is Act...    1\n",
              "17  801594627098693632  Wishing you and yours a wonderful #Thanksgivin...    1\n",
              "18  782176064923693056  DIY Printable ~ Photo Invitation ~ Engagement ...    1\n",
              "19  803293982914658304  Me being cute doing my cute kissy face https:/...    1"
            ],
            "text/html": [
              "\n",
              "  <div id=\"df-98a32e1e-d169-4530-90c9-f63bbe84e7a7\" class=\"colab-df-container\">\n",
              "    <div>\n",
              "<style scoped>\n",
              "    .dataframe tbody tr th:only-of-type {\n",
              "        vertical-align: middle;\n",
              "    }\n",
              "\n",
              "    .dataframe tbody tr th {\n",
              "        vertical-align: top;\n",
              "    }\n",
              "\n",
              "    .dataframe thead th {\n",
              "        text-align: right;\n",
              "    }\n",
              "</style>\n",
              "<table border=\"1\" class=\"dataframe\">\n",
              "  <thead>\n",
              "    <tr style=\"text-align: right;\">\n",
              "      <th></th>\n",
              "      <th>id</th>\n",
              "      <th>text</th>\n",
              "      <th>Max</th>\n",
              "    </tr>\n",
              "  </thead>\n",
              "  <tbody>\n",
              "    <tr>\n",
              "      <th>0</th>\n",
              "      <td>796328019916914688</td>\n",
              "      <td>I will always love you and remember about you ...</td>\n",
              "      <td>1</td>\n",
              "    </tr>\n",
              "    <tr>\n",
              "      <th>1</th>\n",
              "      <td>769164289542352896</td>\n",
              "      <td>It's not Thug's fault it's his predecessors' s...</td>\n",
              "      <td>0</td>\n",
              "    </tr>\n",
              "    <tr>\n",
              "      <th>2</th>\n",
              "      <td>782045697545740289</td>\n",
              "      <td>Chris stauffer playing with his new toy https:...</td>\n",
              "      <td>1</td>\n",
              "    </tr>\n",
              "    <tr>\n",
              "      <th>3</th>\n",
              "      <td>796794439092076546</td>\n",
              "      <td>pure talent and inspiration. Happy Birthday. #...</td>\n",
              "      <td>1</td>\n",
              "    </tr>\n",
              "    <tr>\n",
              "      <th>4</th>\n",
              "      <td>769221663393185792</td>\n",
              "      <td>RT @gucciglostance: who did this ???????????? ...</td>\n",
              "      <td>1</td>\n",
              "    </tr>\n",
              "    <tr>\n",
              "      <th>5</th>\n",
              "      <td>769006583695015936</td>\n",
              "      <td>RT @QuenandHope: These kids are my sunshine. M...</td>\n",
              "      <td>1</td>\n",
              "    </tr>\n",
              "    <tr>\n",
              "      <th>6</th>\n",
              "      <td>768717067679924225</td>\n",
              "      <td>RT @ExeterChiefs: . @ExeterChiefs and @Nuffiel...</td>\n",
              "      <td>1</td>\n",
              "    </tr>\n",
              "    <tr>\n",
              "      <th>7</th>\n",
              "      <td>798874176325087232</td>\n",
              "      <td>Genesis J @iamgenesisj - WHATSAPP https://t.co...</td>\n",
              "      <td>1</td>\n",
              "    </tr>\n",
              "    <tr>\n",
              "      <th>8</th>\n",
              "      <td>797937114293800960</td>\n",
              "      <td>White didn't expect Miesha Tate's retirement, ...</td>\n",
              "      <td>0</td>\n",
              "    </tr>\n",
              "    <tr>\n",
              "      <th>9</th>\n",
              "      <td>800802968962416641</td>\n",
              "      <td>Want to work in #STUART, FL? View our latest o...</td>\n",
              "      <td>1</td>\n",
              "    </tr>\n",
              "    <tr>\n",
              "      <th>10</th>\n",
              "      <td>804514475038511104</td>\n",
              "      <td>Trump Announces Secretary Of Defense Pick And ...</td>\n",
              "      <td>1</td>\n",
              "    </tr>\n",
              "    <tr>\n",
              "      <th>11</th>\n",
              "      <td>769540162061635584</td>\n",
              "      <td>RT @Legitrsgiving: Hello everybody. My name is...</td>\n",
              "      <td>1</td>\n",
              "    </tr>\n",
              "    <tr>\n",
              "      <th>12</th>\n",
              "      <td>796528247609683968</td>\n",
              "      <td>Rajnath Singh attacks Pakistan, says under lea...</td>\n",
              "      <td>0</td>\n",
              "    </tr>\n",
              "    <tr>\n",
              "      <th>13</th>\n",
              "      <td>783362063087181824</td>\n",
              "      <td>CWIEME Chicago. Come by and visit us today!  W...</td>\n",
              "      <td>1</td>\n",
              "    </tr>\n",
              "    <tr>\n",
              "      <th>14</th>\n",
              "      <td>768502415784116225</td>\n",
              "      <td>Entrepreneur : RT LydiaBelanger: \"an urgent as...</td>\n",
              "      <td>1</td>\n",
              "    </tr>\n",
              "    <tr>\n",
              "      <th>15</th>\n",
              "      <td>768150949873319938</td>\n",
              "      <td>RT @KendallJenner: unpublished by Mert+Marcus ...</td>\n",
              "      <td>1</td>\n",
              "    </tr>\n",
              "    <tr>\n",
              "      <th>16</th>\n",
              "      <td>798182262994964480</td>\n",
              "      <td>Evian Christ's New Trance Party Website Is Act...</td>\n",
              "      <td>1</td>\n",
              "    </tr>\n",
              "    <tr>\n",
              "      <th>17</th>\n",
              "      <td>801594627098693632</td>\n",
              "      <td>Wishing you and yours a wonderful #Thanksgivin...</td>\n",
              "      <td>1</td>\n",
              "    </tr>\n",
              "    <tr>\n",
              "      <th>18</th>\n",
              "      <td>782176064923693056</td>\n",
              "      <td>DIY Printable ~ Photo Invitation ~ Engagement ...</td>\n",
              "      <td>1</td>\n",
              "    </tr>\n",
              "    <tr>\n",
              "      <th>19</th>\n",
              "      <td>803293982914658304</td>\n",
              "      <td>Me being cute doing my cute kissy face https:/...</td>\n",
              "      <td>1</td>\n",
              "    </tr>\n",
              "  </tbody>\n",
              "</table>\n",
              "</div>\n",
              "    <div class=\"colab-df-buttons\">\n",
              "\n",
              "  <div class=\"colab-df-container\">\n",
              "    <button class=\"colab-df-convert\" onclick=\"convertToInteractive('df-98a32e1e-d169-4530-90c9-f63bbe84e7a7')\"\n",
              "            title=\"Convert this dataframe to an interactive table.\"\n",
              "            style=\"display:none;\">\n",
              "\n",
              "  <svg xmlns=\"http://www.w3.org/2000/svg\" height=\"24px\" viewBox=\"0 -960 960 960\">\n",
              "    <path d=\"M120-120v-720h720v720H120Zm60-500h600v-160H180v160Zm220 220h160v-160H400v160Zm0 220h160v-160H400v160ZM180-400h160v-160H180v160Zm440 0h160v-160H620v160ZM180-180h160v-160H180v160Zm440 0h160v-160H620v160Z\"/>\n",
              "  </svg>\n",
              "    </button>\n",
              "\n",
              "  <style>\n",
              "    .colab-df-container {\n",
              "      display:flex;\n",
              "      gap: 12px;\n",
              "    }\n",
              "\n",
              "    .colab-df-convert {\n",
              "      background-color: #E8F0FE;\n",
              "      border: none;\n",
              "      border-radius: 50%;\n",
              "      cursor: pointer;\n",
              "      display: none;\n",
              "      fill: #1967D2;\n",
              "      height: 32px;\n",
              "      padding: 0 0 0 0;\n",
              "      width: 32px;\n",
              "    }\n",
              "\n",
              "    .colab-df-convert:hover {\n",
              "      background-color: #E2EBFA;\n",
              "      box-shadow: 0px 1px 2px rgba(60, 64, 67, 0.3), 0px 1px 3px 1px rgba(60, 64, 67, 0.15);\n",
              "      fill: #174EA6;\n",
              "    }\n",
              "\n",
              "    .colab-df-buttons div {\n",
              "      margin-bottom: 4px;\n",
              "    }\n",
              "\n",
              "    [theme=dark] .colab-df-convert {\n",
              "      background-color: #3B4455;\n",
              "      fill: #D2E3FC;\n",
              "    }\n",
              "\n",
              "    [theme=dark] .colab-df-convert:hover {\n",
              "      background-color: #434B5C;\n",
              "      box-shadow: 0px 1px 3px 1px rgba(0, 0, 0, 0.15);\n",
              "      filter: drop-shadow(0px 1px 2px rgba(0, 0, 0, 0.3));\n",
              "      fill: #FFFFFF;\n",
              "    }\n",
              "  </style>\n",
              "\n",
              "    <script>\n",
              "      const buttonEl =\n",
              "        document.querySelector('#df-98a32e1e-d169-4530-90c9-f63bbe84e7a7 button.colab-df-convert');\n",
              "      buttonEl.style.display =\n",
              "        google.colab.kernel.accessAllowed ? 'block' : 'none';\n",
              "\n",
              "      async function convertToInteractive(key) {\n",
              "        const element = document.querySelector('#df-98a32e1e-d169-4530-90c9-f63bbe84e7a7');\n",
              "        const dataTable =\n",
              "          await google.colab.kernel.invokeFunction('convertToInteractive',\n",
              "                                                    [key], {});\n",
              "        if (!dataTable) return;\n",
              "\n",
              "        const docLinkHtml = 'Like what you see? Visit the ' +\n",
              "          '<a target=\"_blank\" href=https://colab.research.google.com/notebooks/data_table.ipynb>data table notebook</a>'\n",
              "          + ' to learn more about interactive tables.';\n",
              "        element.innerHTML = '';\n",
              "        dataTable['output_type'] = 'display_data';\n",
              "        await google.colab.output.renderOutput(dataTable, element);\n",
              "        const docLink = document.createElement('div');\n",
              "        docLink.innerHTML = docLinkHtml;\n",
              "        element.appendChild(docLink);\n",
              "      }\n",
              "    </script>\n",
              "  </div>\n",
              "\n",
              "\n",
              "<div id=\"df-fb85ccf5-cfbe-4522-9b80-69197c4f6c23\">\n",
              "  <button class=\"colab-df-quickchart\" onclick=\"quickchart('df-fb85ccf5-cfbe-4522-9b80-69197c4f6c23')\"\n",
              "            title=\"Suggest charts\"\n",
              "            style=\"display:none;\">\n",
              "\n",
              "<svg xmlns=\"http://www.w3.org/2000/svg\" height=\"24px\"viewBox=\"0 0 24 24\"\n",
              "     width=\"24px\">\n",
              "    <g>\n",
              "        <path d=\"M19 3H5c-1.1 0-2 .9-2 2v14c0 1.1.9 2 2 2h14c1.1 0 2-.9 2-2V5c0-1.1-.9-2-2-2zM9 17H7v-7h2v7zm4 0h-2V7h2v10zm4 0h-2v-4h2v4z\"/>\n",
              "    </g>\n",
              "</svg>\n",
              "  </button>\n",
              "\n",
              "<style>\n",
              "  .colab-df-quickchart {\n",
              "      --bg-color: #E8F0FE;\n",
              "      --fill-color: #1967D2;\n",
              "      --hover-bg-color: #E2EBFA;\n",
              "      --hover-fill-color: #174EA6;\n",
              "      --disabled-fill-color: #AAA;\n",
              "      --disabled-bg-color: #DDD;\n",
              "  }\n",
              "\n",
              "  [theme=dark] .colab-df-quickchart {\n",
              "      --bg-color: #3B4455;\n",
              "      --fill-color: #D2E3FC;\n",
              "      --hover-bg-color: #434B5C;\n",
              "      --hover-fill-color: #FFFFFF;\n",
              "      --disabled-bg-color: #3B4455;\n",
              "      --disabled-fill-color: #666;\n",
              "  }\n",
              "\n",
              "  .colab-df-quickchart {\n",
              "    background-color: var(--bg-color);\n",
              "    border: none;\n",
              "    border-radius: 50%;\n",
              "    cursor: pointer;\n",
              "    display: none;\n",
              "    fill: var(--fill-color);\n",
              "    height: 32px;\n",
              "    padding: 0;\n",
              "    width: 32px;\n",
              "  }\n",
              "\n",
              "  .colab-df-quickchart:hover {\n",
              "    background-color: var(--hover-bg-color);\n",
              "    box-shadow: 0 1px 2px rgba(60, 64, 67, 0.3), 0 1px 3px 1px rgba(60, 64, 67, 0.15);\n",
              "    fill: var(--button-hover-fill-color);\n",
              "  }\n",
              "\n",
              "  .colab-df-quickchart-complete:disabled,\n",
              "  .colab-df-quickchart-complete:disabled:hover {\n",
              "    background-color: var(--disabled-bg-color);\n",
              "    fill: var(--disabled-fill-color);\n",
              "    box-shadow: none;\n",
              "  }\n",
              "\n",
              "  .colab-df-spinner {\n",
              "    border: 2px solid var(--fill-color);\n",
              "    border-color: transparent;\n",
              "    border-bottom-color: var(--fill-color);\n",
              "    animation:\n",
              "      spin 1s steps(1) infinite;\n",
              "  }\n",
              "\n",
              "  @keyframes spin {\n",
              "    0% {\n",
              "      border-color: transparent;\n",
              "      border-bottom-color: var(--fill-color);\n",
              "      border-left-color: var(--fill-color);\n",
              "    }\n",
              "    20% {\n",
              "      border-color: transparent;\n",
              "      border-left-color: var(--fill-color);\n",
              "      border-top-color: var(--fill-color);\n",
              "    }\n",
              "    30% {\n",
              "      border-color: transparent;\n",
              "      border-left-color: var(--fill-color);\n",
              "      border-top-color: var(--fill-color);\n",
              "      border-right-color: var(--fill-color);\n",
              "    }\n",
              "    40% {\n",
              "      border-color: transparent;\n",
              "      border-right-color: var(--fill-color);\n",
              "      border-top-color: var(--fill-color);\n",
              "    }\n",
              "    60% {\n",
              "      border-color: transparent;\n",
              "      border-right-color: var(--fill-color);\n",
              "    }\n",
              "    80% {\n",
              "      border-color: transparent;\n",
              "      border-right-color: var(--fill-color);\n",
              "      border-bottom-color: var(--fill-color);\n",
              "    }\n",
              "    90% {\n",
              "      border-color: transparent;\n",
              "      border-bottom-color: var(--fill-color);\n",
              "    }\n",
              "  }\n",
              "</style>\n",
              "\n",
              "  <script>\n",
              "    async function quickchart(key) {\n",
              "      const quickchartButtonEl =\n",
              "        document.querySelector('#' + key + ' button');\n",
              "      quickchartButtonEl.disabled = true;  // To prevent multiple clicks.\n",
              "      quickchartButtonEl.classList.add('colab-df-spinner');\n",
              "      try {\n",
              "        const charts = await google.colab.kernel.invokeFunction(\n",
              "            'suggestCharts', [key], {});\n",
              "      } catch (error) {\n",
              "        console.error('Error during call to suggestCharts:', error);\n",
              "      }\n",
              "      quickchartButtonEl.classList.remove('colab-df-spinner');\n",
              "      quickchartButtonEl.classList.add('colab-df-quickchart-complete');\n",
              "    }\n",
              "    (() => {\n",
              "      let quickchartButtonEl =\n",
              "        document.querySelector('#df-fb85ccf5-cfbe-4522-9b80-69197c4f6c23 button');\n",
              "      quickchartButtonEl.style.display =\n",
              "        google.colab.kernel.accessAllowed ? 'block' : 'none';\n",
              "    })();\n",
              "  </script>\n",
              "</div>\n",
              "\n",
              "    </div>\n",
              "  </div>\n"
            ],
            "application/vnd.google.colaboratory.intrinsic+json": {
              "type": "dataframe",
              "variable_name": "result_df_shuffle"
            }
          },
          "metadata": {},
          "execution_count": 30
        }
      ]
    },
    {
      "cell_type": "code",
      "source": [
        "#Text preprocessing\n",
        "import re\n",
        "# dataset_name = 't4sa.csv'\n",
        "# cols = ['id','text','Max']\n",
        "# path='/content/drive/MyDrive/t4sa/'\n",
        "# df = pd.read_csv(path + dataset_name, header = None, names = cols, encoding = 'latin-1')\n",
        "dataset_name = 't4sa - clean data.csv'\n",
        "cols = ['id','text','Max']\n",
        "path='/content/'\n",
        "df=pd.read_csv(path + dataset_name, header = None, names = cols, encoding = 'latin-1')\n",
        "import re\n",
        "\n",
        "df['text'] = df['text'].apply(lambda tweet: ' '.join(re.sub(\"(@[A-Za-z0-9]+)|([^0-9A-Za-z \\t.,])|(\\w+:\\/\\/\\S+)\", \" \", tweet).split()))\n",
        "\n",
        "df.drop(df.head(1).index, inplace=True)\n",
        "df.Max = df.Max.astype(int)\n"
      ],
      "metadata": {
        "colab": {
          "base_uri": "https://localhost:8080/"
        },
        "id": "NdzOiptAEfLQ",
        "outputId": "8efa8839-753b-448b-99f6-f0f6c2cefc37"
      },
      "execution_count": null,
      "outputs": [
        {
          "output_type": "stream",
          "name": "stderr",
          "text": [
            "<ipython-input-31-8f01a8c6365e>:10: DtypeWarning: Columns (0,2) have mixed types. Specify dtype option on import or set low_memory=False.\n",
            "  df=pd.read_csv(path + dataset_name, header = None, names = cols, encoding = 'latin-1')\n"
          ]
        }
      ]
    },
    {
      "cell_type": "code",
      "source": [
        "#Balancing data\n",
        "\n",
        "# Selecting 5000 rows with Max=1\n",
        "max_1_rows = df[df['Max'] == 1].head(20000)\n",
        "\n",
        "# Selecting 5000 rows with Max=0\n",
        "max_0_rows = df[df['Max'] == 0].head(20000)\n",
        "\n",
        "# Concatenating the selected rows\n",
        "df = pd.concat([max_1_rows, max_0_rows])\n",
        "\n"
      ],
      "metadata": {
        "id": "F7_rFJtFGvpI"
      },
      "execution_count": null,
      "outputs": []
    },
    {
      "cell_type": "code",
      "source": [
        "import pandas as pd\n",
        "\n",
        "# Assuming your DataFrame is named df and the column containing labels is named 'label'\n",
        "label_counts = df['Max'].value_counts()\n",
        "\n",
        "# Number of rows with label 0\n",
        "num_label_0 = label_counts.get(0, 0)\n",
        "\n",
        "# Number of rows with label 1\n",
        "num_label_1 = label_counts.get(1, 0)\n",
        "\n",
        "print(\"Number of rows with label 0:\", num_label_0)\n",
        "print(\"Number of rows with label 1:\", num_label_1)"
      ],
      "metadata": {
        "colab": {
          "base_uri": "https://localhost:8080/"
        },
        "id": "IprcqRmgE_Le",
        "outputId": "fd3da486-1d96-40e6-8443-c3f3e951c118"
      },
      "execution_count": null,
      "outputs": [
        {
          "output_type": "stream",
          "name": "stdout",
          "text": [
            "Number of rows with label 0: 179050\n",
            "Number of rows with label 1: 179050\n"
          ]
        }
      ]
    },
    {
      "cell_type": "code",
      "source": [
        "import pandas as pd\n",
        "\n",
        "# # Assuming your DataFrame is named df\n",
        "# # Selecting the last 5000 rows\n",
        "# last_5000_rows = df.tail(5000)\n",
        "\n",
        "# # Selecting the first 5000 rows\n",
        "# first_5000_rows = df.head(5000)\n",
        "\n",
        "# # Concatenating the first and last 5000 rows\n",
        "# df = pd.concat([first_5000_rows, last_5000_rows])\n",
        "\n",
        "# # Resetting the index of the new DataFrame\n",
        "# df.reset_index(drop=True, inplace=True)\n",
        "\n",
        "# Now se\n",
        "#df = df.sample(frac=1).reset_index(drop=True)\n",
        "print(df.head(20))\n",
        "#for gettin it faster\n",
        "#df=df.head(10000)\n",
        "x = df.text\n",
        "y = df.Max\n",
        "y = y.astype(int)"
      ],
      "metadata": {
        "colab": {
          "base_uri": "https://localhost:8080/"
        },
        "id": "JOX0qEIX9J8j",
        "outputId": "d0bdea2d-9842-44b6-a6e5-9a5074704a33"
      },
      "execution_count": null,
      "outputs": [
        {
          "output_type": "stream",
          "name": "stdout",
          "text": [
            "                    id                                               text  Max\n",
            "1   768097627686604801  Josh Jenkins is looking forward to TAB Breeder...    1\n",
            "2   768097631864102912                RT Pic Nichkhun from krjeong86 s IG    1\n",
            "3   768097640278089729  RT Congratulations Pakistan on becoming No1Tes...    1\n",
            "4   768097627695042560  RT This September, is taking you to Maine Mend...    1\n",
            "5   768096868504969216  Incredible India Atulya Bharat Land of Seekers...    1\n",
            "6   768097661237026816  RT gaibis Newly painted walls, thanks a millio...    1\n",
            "7   768097665418747908  RT Excited to announce as of July 2017 Feschot...    1\n",
            "8   768097636087980032              RT Who is excited for illuminate ....    1\n",
            "9   768097619281227776  RT The firstdayofschool for students amp teach...    1\n",
            "10  768097631872618497  RT This kid is 11 and in my organic chemistry ...    1\n",
            "11  768097619285536768       RT Kate wrights figure is all I want in life    1\n",
            "12  768097644463788032  RT TX Women owned business in Texas are No. 1 ...    1\n",
            "13  768097640269643776  RT SRK and kajol in the making of DDLJ song .....    1\n",
            "14  768097673828143104  RT Spellbindingly dark and suspenseful OF MATE...    1\n",
            "15  768097627686727680  Robert Pattinson Gets Ready to Hop on a Plane ...    1\n",
            "16  768097665435496448     Perennials across Europe Czech, Slovak, German    1\n",
            "17  768097652860792833  RT This is our first official look at the LG V...    1\n",
            "18  768097703192567809      Servicing Woody s since before you were born.    1\n",
            "19  768097795442085893                                   RT com I m happy    1\n",
            "20  768097724151566336                 RT Follow your roommate on Twitter    1\n"
          ]
        }
      ]
    },
    {
      "cell_type": "code",
      "source": [
        "df.to_csv('t4-clean-40000.csv', index=False)"
      ],
      "metadata": {
        "id": "WES87a0E-EHl"
      },
      "execution_count": null,
      "outputs": []
    },
    {
      "cell_type": "code",
      "source": [
        "import re\n",
        "\n",
        "def remove_rt(text):\n",
        "    match = re.match(r'^RT(.*)', text)\n",
        "    if match:\n",
        "        return match.group(1).strip()\n",
        "    else:\n",
        "        return text\n",
        "\n",
        "# Applying the function to the rows where the text starts with \"RT\"\n",
        "df.loc[df['text'].str.startswith('RT'), 'text'] = df[df['text'].str.startswith('RT')]['text'].apply(remove_rt)\n",
        "# Drop rows where 'text' is empty\n",
        "df = df.dropna(subset=['text'])\n",
        "print(df)"
      ],
      "metadata": {
        "colab": {
          "base_uri": "https://localhost:8080/"
        },
        "id": "7FHbpTn6HgVd",
        "outputId": "b4dd4c1d-fab1-4154-dea8-bca3d3fb492b"
      },
      "execution_count": null,
      "outputs": [
        {
          "output_type": "stream",
          "name": "stdout",
          "text": [
            "                         id  \\\n",
            "1        768097627686604801   \n",
            "2        768097631864102912   \n",
            "3        768097640278089729   \n",
            "4        768097627695042560   \n",
            "5        768096868504969216   \n",
            "...                     ...   \n",
            "1179925  804614261741715456   \n",
            "1179932  804615159289257984   \n",
            "1179933  804615218039058432   \n",
            "1179948  804617365522501632   \n",
            "1179951  804617596205142016   \n",
            "\n",
            "                                                      text  Max  \n",
            "1        Josh Jenkins is looking forward to TAB Breeder...    1  \n",
            "2                         Pic Nichkhun from krjeong86 s IG    1  \n",
            "3        Congratulations Pakistan on becoming No1TestTe...    1  \n",
            "4        This September, is taking you to Maine Mendoza...    1  \n",
            "5        Incredible India Atulya Bharat Land of Seekers...    1  \n",
            "...                                                    ...  ...  \n",
            "1179925  Snapchat dying to see this close and personal ...    0  \n",
            "1179932  FREE tongue piercing. Vibrates while she sucks...    0  \n",
            "1179933  The Oak Leaf path.Those fallen leaves lie undi...    0  \n",
            "1179948             o I can t stop watching her...mm. More    0  \n",
            "1179951  Poor old Tom Odell doesn t look like he would ...    0  \n",
            "\n",
            "[358100 rows x 3 columns]\n"
          ]
        }
      ]
    },
    {
      "cell_type": "code",
      "source": [
        "shuffled_df = df.sample(frac=1).reset_index(drop=True)\n",
        "\n",
        "# Save the shuffled DataFrame to a CSV file\n",
        "shuffled_df.to_csv('shuffled_cleaned_tweet_40K_data.csv', index=False)\n",
        "\n",
        "print(\"DataFrame shuffled and saved as shuffled_data-Notempty.csv\")"
      ],
      "metadata": {
        "colab": {
          "base_uri": "https://localhost:8080/"
        },
        "id": "FHxCPth_Hw-w",
        "outputId": "6dd57b2c-07d7-4df3-bfba-eddfa6cd8df9"
      },
      "execution_count": null,
      "outputs": [
        {
          "output_type": "stream",
          "name": "stdout",
          "text": [
            "DataFrame shuffled and saved as shuffled_data-Notempty.csv\n"
          ]
        }
      ]
    },
    {
      "cell_type": "code",
      "source": [
        "dataset_name = 'shuffled_cleaned_tweet_40K_data.csv'\n",
        "cols = ['id','text','Max']\n",
        "path='/content/'\n",
        "df=pd.read_csv(path + dataset_name, header = None, names = cols, encoding = 'latin-1')"
      ],
      "metadata": {
        "id": "qnw97NjVXhSE",
        "colab": {
          "base_uri": "https://localhost:8080/"
        },
        "outputId": "49ead587-6def-425f-f45d-517c32b5ec8d"
      },
      "execution_count": null,
      "outputs": [
        {
          "output_type": "stream",
          "name": "stderr",
          "text": [
            "<ipython-input-41-81a558497335>:4: DtypeWarning: Columns (0,2) have mixed types. Specify dtype option on import or set low_memory=False.\n",
            "  df=pd.read_csv(path + dataset_name, header = None, names = cols, encoding = 'latin-1')\n"
          ]
        }
      ]
    },
    {
      "cell_type": "code",
      "source": [
        "missing_values = df.isnull().sum()\n",
        "\n",
        "# Print columns with missing values\n",
        "print(\"Columns with missing values:\")\n",
        "print(missing_values[missing_values > 0])"
      ],
      "metadata": {
        "colab": {
          "base_uri": "https://localhost:8080/"
        },
        "id": "sq2J3HKDXx4G",
        "outputId": "3564c8cf-8608-43e5-e34c-687af285be63"
      },
      "execution_count": null,
      "outputs": [
        {
          "output_type": "stream",
          "name": "stdout",
          "text": [
            "Columns with missing values:\n",
            "text    2\n",
            "dtype: int64\n"
          ]
        }
      ]
    },
    {
      "cell_type": "code",
      "source": [
        "df = df.dropna()\n"
      ],
      "metadata": {
        "id": "lRJ7jK_RYKQf"
      },
      "execution_count": null,
      "outputs": []
    },
    {
      "cell_type": "markdown",
      "source": [],
      "metadata": {
        "id": "KFceAqjRhkpd"
      }
    },
    {
      "cell_type": "code",
      "source": [
        "df.to_csv('shuffled_cleaned_tweet_40K_data0.csv', index=False)"
      ],
      "metadata": {
        "id": "VaayaIwlX7tT"
      },
      "execution_count": null,
      "outputs": []
    },
    {
      "cell_type": "markdown",
      "source": [
        "#2.Training Model\n",
        "\n",
        "\n",
        "---\n",
        "\n"
      ],
      "metadata": {
        "id": "9xhld2PbeDlt"
      }
    },
    {
      "cell_type": "markdown",
      "source": [
        "##1.2.Training Model - Airline Dataset"
      ],
      "metadata": {
        "id": "mVGCeGwtjPDF"
      }
    },
    {
      "cell_type": "code",
      "source": [
        "!pip install tensorflow==2.15.1\n"
      ],
      "metadata": {
        "colab": {
          "base_uri": "https://localhost:8080/"
        },
        "id": "uZBukJyFao7O",
        "outputId": "6e584b77-b393-4609-d276-662d08bdd0de"
      },
      "execution_count": null,
      "outputs": [
        {
          "output_type": "stream",
          "name": "stdout",
          "text": [
            "Collecting tensorflow==2.15.1\n",
            "  Downloading tensorflow-2.15.1-cp310-cp310-manylinux_2_17_x86_64.manylinux2014_x86_64.whl.metadata (4.2 kB)\n",
            "Requirement already satisfied: absl-py>=1.0.0 in /usr/local/lib/python3.10/dist-packages (from tensorflow==2.15.1) (1.4.0)\n",
            "Requirement already satisfied: astunparse>=1.6.0 in /usr/local/lib/python3.10/dist-packages (from tensorflow==2.15.1) (1.6.3)\n",
            "Requirement already satisfied: flatbuffers>=23.5.26 in /usr/local/lib/python3.10/dist-packages (from tensorflow==2.15.1) (24.3.25)\n",
            "Requirement already satisfied: gast!=0.5.0,!=0.5.1,!=0.5.2,>=0.2.1 in /usr/local/lib/python3.10/dist-packages (from tensorflow==2.15.1) (0.6.0)\n",
            "Requirement already satisfied: google-pasta>=0.1.1 in /usr/local/lib/python3.10/dist-packages (from tensorflow==2.15.1) (0.2.0)\n",
            "Requirement already satisfied: h5py>=2.9.0 in /usr/local/lib/python3.10/dist-packages (from tensorflow==2.15.1) (3.11.0)\n",
            "Requirement already satisfied: libclang>=13.0.0 in /usr/local/lib/python3.10/dist-packages (from tensorflow==2.15.1) (18.1.1)\n",
            "Collecting ml-dtypes~=0.3.1 (from tensorflow==2.15.1)\n",
            "  Downloading ml_dtypes-0.3.2-cp310-cp310-manylinux_2_17_x86_64.manylinux2014_x86_64.whl.metadata (20 kB)\n",
            "Requirement already satisfied: numpy<2.0.0,>=1.23.5 in /usr/local/lib/python3.10/dist-packages (from tensorflow==2.15.1) (1.26.4)\n",
            "Requirement already satisfied: opt-einsum>=2.3.2 in /usr/local/lib/python3.10/dist-packages (from tensorflow==2.15.1) (3.3.0)\n",
            "Requirement already satisfied: packaging in /usr/local/lib/python3.10/dist-packages (from tensorflow==2.15.1) (24.1)\n",
            "Requirement already satisfied: protobuf!=4.21.0,!=4.21.1,!=4.21.2,!=4.21.3,!=4.21.4,!=4.21.5,<5.0.0dev,>=3.20.3 in /usr/local/lib/python3.10/dist-packages (from tensorflow==2.15.1) (3.20.3)\n",
            "Requirement already satisfied: setuptools in /usr/local/lib/python3.10/dist-packages (from tensorflow==2.15.1) (71.0.4)\n",
            "Requirement already satisfied: six>=1.12.0 in /usr/local/lib/python3.10/dist-packages (from tensorflow==2.15.1) (1.16.0)\n",
            "Requirement already satisfied: termcolor>=1.1.0 in /usr/local/lib/python3.10/dist-packages (from tensorflow==2.15.1) (2.4.0)\n",
            "Requirement already satisfied: typing-extensions>=3.6.6 in /usr/local/lib/python3.10/dist-packages (from tensorflow==2.15.1) (4.12.2)\n",
            "Collecting wrapt<1.15,>=1.11.0 (from tensorflow==2.15.1)\n",
            "  Downloading wrapt-1.14.1-cp310-cp310-manylinux_2_5_x86_64.manylinux1_x86_64.manylinux_2_17_x86_64.manylinux2014_x86_64.whl.metadata (6.7 kB)\n",
            "Requirement already satisfied: tensorflow-io-gcs-filesystem>=0.23.1 in /usr/local/lib/python3.10/dist-packages (from tensorflow==2.15.1) (0.37.1)\n",
            "Requirement already satisfied: grpcio<2.0,>=1.24.3 in /usr/local/lib/python3.10/dist-packages (from tensorflow==2.15.1) (1.64.1)\n",
            "Collecting tensorboard<2.16,>=2.15 (from tensorflow==2.15.1)\n",
            "  Downloading tensorboard-2.15.2-py3-none-any.whl.metadata (1.7 kB)\n",
            "Collecting tensorflow-estimator<2.16,>=2.15.0 (from tensorflow==2.15.1)\n",
            "  Downloading tensorflow_estimator-2.15.0-py2.py3-none-any.whl.metadata (1.3 kB)\n",
            "Collecting keras<2.16,>=2.15.0 (from tensorflow==2.15.1)\n",
            "  Downloading keras-2.15.0-py3-none-any.whl.metadata (2.4 kB)\n",
            "Requirement already satisfied: wheel<1.0,>=0.23.0 in /usr/local/lib/python3.10/dist-packages (from astunparse>=1.6.0->tensorflow==2.15.1) (0.44.0)\n",
            "Requirement already satisfied: google-auth<3,>=1.6.3 in /usr/local/lib/python3.10/dist-packages (from tensorboard<2.16,>=2.15->tensorflow==2.15.1) (2.27.0)\n",
            "Requirement already satisfied: google-auth-oauthlib<2,>=0.5 in /usr/local/lib/python3.10/dist-packages (from tensorboard<2.16,>=2.15->tensorflow==2.15.1) (1.2.1)\n",
            "Requirement already satisfied: markdown>=2.6.8 in /usr/local/lib/python3.10/dist-packages (from tensorboard<2.16,>=2.15->tensorflow==2.15.1) (3.7)\n",
            "Requirement already satisfied: requests<3,>=2.21.0 in /usr/local/lib/python3.10/dist-packages (from tensorboard<2.16,>=2.15->tensorflow==2.15.1) (2.32.3)\n",
            "Requirement already satisfied: tensorboard-data-server<0.8.0,>=0.7.0 in /usr/local/lib/python3.10/dist-packages (from tensorboard<2.16,>=2.15->tensorflow==2.15.1) (0.7.2)\n",
            "Requirement already satisfied: werkzeug>=1.0.1 in /usr/local/lib/python3.10/dist-packages (from tensorboard<2.16,>=2.15->tensorflow==2.15.1) (3.0.4)\n",
            "Requirement already satisfied: cachetools<6.0,>=2.0.0 in /usr/local/lib/python3.10/dist-packages (from google-auth<3,>=1.6.3->tensorboard<2.16,>=2.15->tensorflow==2.15.1) (5.5.0)\n",
            "Requirement already satisfied: pyasn1-modules>=0.2.1 in /usr/local/lib/python3.10/dist-packages (from google-auth<3,>=1.6.3->tensorboard<2.16,>=2.15->tensorflow==2.15.1) (0.4.1)\n",
            "Requirement already satisfied: rsa<5,>=3.1.4 in /usr/local/lib/python3.10/dist-packages (from google-auth<3,>=1.6.3->tensorboard<2.16,>=2.15->tensorflow==2.15.1) (4.9)\n",
            "Requirement already satisfied: requests-oauthlib>=0.7.0 in /usr/local/lib/python3.10/dist-packages (from google-auth-oauthlib<2,>=0.5->tensorboard<2.16,>=2.15->tensorflow==2.15.1) (1.3.1)\n",
            "Requirement already satisfied: charset-normalizer<4,>=2 in /usr/local/lib/python3.10/dist-packages (from requests<3,>=2.21.0->tensorboard<2.16,>=2.15->tensorflow==2.15.1) (3.3.2)\n",
            "Requirement already satisfied: idna<4,>=2.5 in /usr/local/lib/python3.10/dist-packages (from requests<3,>=2.21.0->tensorboard<2.16,>=2.15->tensorflow==2.15.1) (3.8)\n",
            "Requirement already satisfied: urllib3<3,>=1.21.1 in /usr/local/lib/python3.10/dist-packages (from requests<3,>=2.21.0->tensorboard<2.16,>=2.15->tensorflow==2.15.1) (2.0.7)\n",
            "Requirement already satisfied: certifi>=2017.4.17 in /usr/local/lib/python3.10/dist-packages (from requests<3,>=2.21.0->tensorboard<2.16,>=2.15->tensorflow==2.15.1) (2024.8.30)\n",
            "Requirement already satisfied: MarkupSafe>=2.1.1 in /usr/local/lib/python3.10/dist-packages (from werkzeug>=1.0.1->tensorboard<2.16,>=2.15->tensorflow==2.15.1) (2.1.5)\n",
            "Requirement already satisfied: pyasn1<0.7.0,>=0.4.6 in /usr/local/lib/python3.10/dist-packages (from pyasn1-modules>=0.2.1->google-auth<3,>=1.6.3->tensorboard<2.16,>=2.15->tensorflow==2.15.1) (0.6.1)\n",
            "Requirement already satisfied: oauthlib>=3.0.0 in /usr/local/lib/python3.10/dist-packages (from requests-oauthlib>=0.7.0->google-auth-oauthlib<2,>=0.5->tensorboard<2.16,>=2.15->tensorflow==2.15.1) (3.2.2)\n",
            "Downloading tensorflow-2.15.1-cp310-cp310-manylinux_2_17_x86_64.manylinux2014_x86_64.whl (475.2 MB)\n",
            "\u001b[2K   \u001b[90m━━━━━━━━━━━━━━━━━━━━━━━━━━━━━━━━━━━━━━━━\u001b[0m \u001b[32m475.2/475.2 MB\u001b[0m \u001b[31m3.3 MB/s\u001b[0m eta \u001b[36m0:00:00\u001b[0m\n",
            "\u001b[?25hDownloading keras-2.15.0-py3-none-any.whl (1.7 MB)\n",
            "\u001b[2K   \u001b[90m━━━━━━━━━━━━━━━━━━━━━━━━━━━━━━━━━━━━━━━━\u001b[0m \u001b[32m1.7/1.7 MB\u001b[0m \u001b[31m12.5 MB/s\u001b[0m eta \u001b[36m0:00:00\u001b[0m\n",
            "\u001b[?25hDownloading ml_dtypes-0.3.2-cp310-cp310-manylinux_2_17_x86_64.manylinux2014_x86_64.whl (2.2 MB)\n",
            "\u001b[2K   \u001b[90m━━━━━━━━━━━━━━━━━━━━━━━━━━━━━━━━━━━━━━━━\u001b[0m \u001b[32m2.2/2.2 MB\u001b[0m \u001b[31m13.3 MB/s\u001b[0m eta \u001b[36m0:00:00\u001b[0m\n",
            "\u001b[?25hDownloading tensorboard-2.15.2-py3-none-any.whl (5.5 MB)\n",
            "\u001b[2K   \u001b[90m━━━━━━━━━━━━━━━━━━━━━━━━━━━━━━━━━━━━━━━━\u001b[0m \u001b[32m5.5/5.5 MB\u001b[0m \u001b[31m14.0 MB/s\u001b[0m eta \u001b[36m0:00:00\u001b[0m\n",
            "\u001b[?25hDownloading tensorflow_estimator-2.15.0-py2.py3-none-any.whl (441 kB)\n",
            "\u001b[2K   \u001b[90m━━━━━━━━━━━━━━━━━━━━━━━━━━━━━━━━━━━━━━━━\u001b[0m \u001b[32m442.0/442.0 kB\u001b[0m \u001b[31m15.2 MB/s\u001b[0m eta \u001b[36m0:00:00\u001b[0m\n",
            "\u001b[?25hDownloading wrapt-1.14.1-cp310-cp310-manylinux_2_5_x86_64.manylinux1_x86_64.manylinux_2_17_x86_64.manylinux2014_x86_64.whl (77 kB)\n",
            "\u001b[2K   \u001b[90m━━━━━━━━━━━━━━━━━━━━━━━━━━━━━━━━━━━━━━━━\u001b[0m \u001b[32m77.9/77.9 kB\u001b[0m \u001b[31m4.7 MB/s\u001b[0m eta \u001b[36m0:00:00\u001b[0m\n",
            "\u001b[?25hInstalling collected packages: wrapt, tensorflow-estimator, ml-dtypes, keras, tensorboard, tensorflow\n",
            "  Attempting uninstall: wrapt\n",
            "    Found existing installation: wrapt 1.16.0\n",
            "    Uninstalling wrapt-1.16.0:\n",
            "      Successfully uninstalled wrapt-1.16.0\n",
            "  Attempting uninstall: ml-dtypes\n",
            "    Found existing installation: ml-dtypes 0.4.0\n",
            "    Uninstalling ml-dtypes-0.4.0:\n",
            "      Successfully uninstalled ml-dtypes-0.4.0\n",
            "  Attempting uninstall: keras\n",
            "    Found existing installation: keras 3.4.1\n",
            "    Uninstalling keras-3.4.1:\n",
            "      Successfully uninstalled keras-3.4.1\n",
            "  Attempting uninstall: tensorboard\n",
            "    Found existing installation: tensorboard 2.17.0\n",
            "    Uninstalling tensorboard-2.17.0:\n",
            "      Successfully uninstalled tensorboard-2.17.0\n",
            "  Attempting uninstall: tensorflow\n",
            "    Found existing installation: tensorflow 2.17.0\n",
            "    Uninstalling tensorflow-2.17.0:\n",
            "      Successfully uninstalled tensorflow-2.17.0\n",
            "\u001b[31mERROR: pip's dependency resolver does not currently take into account all the packages that are installed. This behaviour is the source of the following dependency conflicts.\n",
            "tf-keras 2.17.0 requires tensorflow<2.18,>=2.17, but you have tensorflow 2.15.1 which is incompatible.\u001b[0m\u001b[31m\n",
            "\u001b[0mSuccessfully installed keras-2.15.0 ml-dtypes-0.3.2 tensorboard-2.15.2 tensorflow-2.15.1 tensorflow-estimator-2.15.0 wrapt-1.14.1\n"
          ]
        }
      ]
    },
    {
      "cell_type": "code",
      "execution_count": null,
      "metadata": {
        "colab": {
          "base_uri": "https://localhost:8080/"
        },
        "id": "LD_7Clkvynjn",
        "outputId": "f4c93d34-9c5f-45fa-b1c0-e7d356f8aba5"
      },
      "outputs": [
        {
          "output_type": "stream",
          "name": "stdout",
          "text": [
            "Collecting transformers==4.37.2\n",
            "  Downloading transformers-4.37.2-py3-none-any.whl.metadata (129 kB)\n",
            "\u001b[2K     \u001b[90m━━━━━━━━━━━━━━━━━━━━━━━━━━━━━━━━━━━━━━━━\u001b[0m \u001b[32m129.4/129.4 kB\u001b[0m \u001b[31m1.2 MB/s\u001b[0m eta \u001b[36m0:00:00\u001b[0m\n",
            "\u001b[?25hRequirement already satisfied: filelock in /usr/local/lib/python3.10/dist-packages (from transformers==4.37.2) (3.16.0)\n",
            "Requirement already satisfied: huggingface-hub<1.0,>=0.19.3 in /usr/local/lib/python3.10/dist-packages (from transformers==4.37.2) (0.24.7)\n",
            "Requirement already satisfied: numpy>=1.17 in /usr/local/lib/python3.10/dist-packages (from transformers==4.37.2) (1.26.4)\n",
            "Requirement already satisfied: packaging>=20.0 in /usr/local/lib/python3.10/dist-packages (from transformers==4.37.2) (24.1)\n",
            "Requirement already satisfied: pyyaml>=5.1 in /usr/local/lib/python3.10/dist-packages (from transformers==4.37.2) (6.0.2)\n",
            "Requirement already satisfied: regex!=2019.12.17 in /usr/local/lib/python3.10/dist-packages (from transformers==4.37.2) (2024.5.15)\n",
            "Requirement already satisfied: requests in /usr/local/lib/python3.10/dist-packages (from transformers==4.37.2) (2.32.3)\n",
            "Collecting tokenizers<0.19,>=0.14 (from transformers==4.37.2)\n",
            "  Downloading tokenizers-0.15.2-cp310-cp310-manylinux_2_17_x86_64.manylinux2014_x86_64.whl.metadata (6.7 kB)\n",
            "Requirement already satisfied: safetensors>=0.4.1 in /usr/local/lib/python3.10/dist-packages (from transformers==4.37.2) (0.4.5)\n",
            "Requirement already satisfied: tqdm>=4.27 in /usr/local/lib/python3.10/dist-packages (from transformers==4.37.2) (4.66.5)\n",
            "Requirement already satisfied: fsspec>=2023.5.0 in /usr/local/lib/python3.10/dist-packages (from huggingface-hub<1.0,>=0.19.3->transformers==4.37.2) (2024.6.1)\n",
            "Requirement already satisfied: typing-extensions>=3.7.4.3 in /usr/local/lib/python3.10/dist-packages (from huggingface-hub<1.0,>=0.19.3->transformers==4.37.2) (4.12.2)\n",
            "Requirement already satisfied: charset-normalizer<4,>=2 in /usr/local/lib/python3.10/dist-packages (from requests->transformers==4.37.2) (3.3.2)\n",
            "Requirement already satisfied: idna<4,>=2.5 in /usr/local/lib/python3.10/dist-packages (from requests->transformers==4.37.2) (3.8)\n",
            "Requirement already satisfied: urllib3<3,>=1.21.1 in /usr/local/lib/python3.10/dist-packages (from requests->transformers==4.37.2) (2.0.7)\n",
            "Requirement already satisfied: certifi>=2017.4.17 in /usr/local/lib/python3.10/dist-packages (from requests->transformers==4.37.2) (2024.8.30)\n",
            "Downloading transformers-4.37.2-py3-none-any.whl (8.4 MB)\n",
            "\u001b[2K   \u001b[90m━━━━━━━━━━━━━━━━━━━━━━━━━━━━━━━━━━━━━━━━\u001b[0m \u001b[32m8.4/8.4 MB\u001b[0m \u001b[31m18.9 MB/s\u001b[0m eta \u001b[36m0:00:00\u001b[0m\n",
            "\u001b[?25hDownloading tokenizers-0.15.2-cp310-cp310-manylinux_2_17_x86_64.manylinux2014_x86_64.whl (3.6 MB)\n",
            "\u001b[2K   \u001b[90m━━━━━━━━━━━━━━━━━━━━━━━━━━━━━━━━━━━━━━━━\u001b[0m \u001b[32m3.6/3.6 MB\u001b[0m \u001b[31m28.4 MB/s\u001b[0m eta \u001b[36m0:00:00\u001b[0m\n",
            "\u001b[?25hInstalling collected packages: tokenizers, transformers\n",
            "  Attempting uninstall: tokenizers\n",
            "    Found existing installation: tokenizers 0.19.1\n",
            "    Uninstalling tokenizers-0.19.1:\n",
            "      Successfully uninstalled tokenizers-0.19.1\n",
            "  Attempting uninstall: transformers\n",
            "    Found existing installation: transformers 4.44.2\n",
            "    Uninstalling transformers-4.44.2:\n",
            "      Successfully uninstalled transformers-4.44.2\n",
            "Successfully installed tokenizers-0.15.2 transformers-4.37.2\n"
          ]
        }
      ],
      "source": [
        "!pip install transformers==4.37.2"
      ]
    },
    {
      "cell_type": "code",
      "execution_count": null,
      "metadata": {
        "id": "KPzfsgPuynjn"
      },
      "outputs": [],
      "source": [
        "import tensorflow as tf\n",
        "import tensorflow_hub as hub\n",
        "from tensorflow.keras import layers\n",
        "from tensorflow.keras.callbacks import ModelCheckpoint\n",
        "from transformers import BertTokenizer\n"
      ]
    },
    {
      "cell_type": "code",
      "execution_count": null,
      "metadata": {
        "colab": {
          "base_uri": "https://localhost:8080/",
          "height": 304,
          "referenced_widgets": [
            "4b5b11b7591b4c5bab9ea9a61c505bc5",
            "192149268c4b4b6c89c7945c311e635d",
            "8a297da7b13f4a4ca8a9993c83b55ce7",
            "d149adc5202a45aebf148082202f72d4",
            "aadeb4b6b4fd4215976ef04016afe68a",
            "aea0b4f22c3444e294cdcbab02ed14e2",
            "599b1d5e83ce4274abc9e38377985708",
            "fa5ccc4b095347a29c626b72e4c8a8d5",
            "a625653eb2bc4ffca4cda30dbb32c695",
            "0721e56cec214700938c0892ebd00cd4",
            "7d5a14f19f7a4c04bfec3f207667e508",
            "7368c85099f34ad592402dc0c9b9782c",
            "e4979bae499043938dde27702f6b8bc1",
            "d1f23af7de0f44c5bc79319257d3aacb",
            "c7a3db783b7440218dd921ee86783523",
            "b59d8cf7c6ca49e6a7d309f9d64d1a50",
            "58946db082b6460885ddbc681aed0d43",
            "9d2d2cb781fc473fb3284c850c9ce432",
            "8e524bc5c3d64b279c03021a56029496",
            "51aa3f5a36eb4db08d7da61f630857b6",
            "077bdc8099c847aa91c632c42e0f65c4",
            "1314ede39b154ef68a022a96dbd042f1",
            "bd005d5801014992b39c7ecf8cfc46ac",
            "cd915598f62d4bc8a39894ce4d29c02c",
            "45eea29a199e441abfecfcc798f5e5ed",
            "61459f0f9a014af59cb1a0ba0141002d",
            "d0645a705bfd4ef9b511bdda09e879de",
            "f0cfb577a19b4167b54dadcc0dd2f271",
            "fd2fc01305794cc2a0dd326d46aaaca8",
            "8bcf0eaba5ca404c8ee6595eaa7352cd",
            "2385eee195c947aab2384cb1e6783975",
            "78aecc227594489eb46c1563b4a6e251",
            "9ef1dfd326d64632a3d8a64e1c2b85cf",
            "b8288d550be34630ab02bf0e40be3975",
            "1cf0986bb12041599fedf6b16ff214a8",
            "7f470036c5cc479c894faab8e9896819",
            "e4a25fe5a0c94584bba811302ed87bc1",
            "bfa231e4d19e43e9921b42379275c69f",
            "9f922d5052f6401a9cb53bb5a80dcc18",
            "c3fafa95157b42d697e5c1a5cb7dff4d",
            "ec69a62eb925454aa22479fc539f02f2",
            "2fbb62c98b20408ca3c58f4a198cd742",
            "1bc628aa49e94b7bb0bcc7d357cfac1c",
            "81485f207f8f46d6b87da3f6779c4a3f"
          ]
        },
        "id": "TszevD_Synjo",
        "outputId": "d787720e-c2bd-4814-d26e-5b01531a09f5"
      },
      "outputs": [
        {
          "output_type": "stream",
          "name": "stderr",
          "text": [
            "/usr/local/lib/python3.10/dist-packages/huggingface_hub/file_download.py:1150: FutureWarning: `resume_download` is deprecated and will be removed in version 1.0.0. Downloads always resume when possible. If you want to force a new download, use `force_download=True`.\n",
            "  warnings.warn(\n",
            "/usr/local/lib/python3.10/dist-packages/huggingface_hub/utils/_token.py:89: UserWarning: \n",
            "The secret `HF_TOKEN` does not exist in your Colab secrets.\n",
            "To authenticate with the Hugging Face Hub, create a token in your settings tab (https://huggingface.co/settings/tokens), set it as secret in your Google Colab and restart your session.\n",
            "You will be able to reuse this secret in all of your notebooks.\n",
            "Please note that authentication is recommended but still optional to access public models or datasets.\n",
            "  warnings.warn(\n"
          ]
        },
        {
          "output_type": "display_data",
          "data": {
            "text/plain": [
              "tokenizer_config.json:   0%|          | 0.00/48.0 [00:00<?, ?B/s]"
            ],
            "application/vnd.jupyter.widget-view+json": {
              "version_major": 2,
              "version_minor": 0,
              "model_id": "4b5b11b7591b4c5bab9ea9a61c505bc5"
            }
          },
          "metadata": {}
        },
        {
          "output_type": "display_data",
          "data": {
            "text/plain": [
              "vocab.txt:   0%|          | 0.00/232k [00:00<?, ?B/s]"
            ],
            "application/vnd.jupyter.widget-view+json": {
              "version_major": 2,
              "version_minor": 0,
              "model_id": "7368c85099f34ad592402dc0c9b9782c"
            }
          },
          "metadata": {}
        },
        {
          "output_type": "display_data",
          "data": {
            "text/plain": [
              "tokenizer.json:   0%|          | 0.00/466k [00:00<?, ?B/s]"
            ],
            "application/vnd.jupyter.widget-view+json": {
              "version_major": 2,
              "version_minor": 0,
              "model_id": "bd005d5801014992b39c7ecf8cfc46ac"
            }
          },
          "metadata": {}
        },
        {
          "output_type": "display_data",
          "data": {
            "text/plain": [
              "config.json:   0%|          | 0.00/570 [00:00<?, ?B/s]"
            ],
            "application/vnd.jupyter.widget-view+json": {
              "version_major": 2,
              "version_minor": 0,
              "model_id": "b8288d550be34630ab02bf0e40be3975"
            }
          },
          "metadata": {}
        }
      ],
      "source": [
        "\n",
        "data=pd.read_csv('/content/shuffled_cleaned_airline_data.csv')\n",
        "\n",
        "# Initialize the BERT tokenizer\n",
        "tokenizer = BertTokenizer.from_pretrained('bert-base-uncased')\n",
        "\n",
        "# Define max sequence length\n",
        "max_len = 100\n",
        "\n",
        "# Tokenize the text data\n",
        "def tokenize_function(text, max_len):\n",
        "    return tokenizer(\n",
        "        text,\n",
        "        max_length=max_len,\n",
        "        padding='max_length',\n",
        "        truncation=True,\n",
        "        return_tensors='tf'\n",
        "    )\n",
        "\n",
        "# Apply tokenization\n",
        "tokenized_data = data['text'].apply(lambda x: tokenize_function(x, max_len))\n",
        "\n",
        "# Extract input_ids, token_type_ids, and attention_mask\n",
        "input_ids = tf.concat([x['input_ids'] for x in tokenized_data], axis=0)\n",
        "token_type_ids = tf.concat([x['token_type_ids'] for x in tokenized_data], axis=0)\n",
        "attention_mask = tf.concat([x['attention_mask'] for x in tokenized_data], axis=0)\n",
        "\n",
        "# Convert labels to tensor\n",
        "labels = tf.constant(data['sentiment'].values, dtype=tf.float32)\n"
      ]
    },
    {
      "cell_type": "code",
      "execution_count": null,
      "metadata": {
        "id": "aqVNiuGlynjo"
      },
      "outputs": [],
      "source": [
        "import tensorflow as tf\n",
        "from transformers import TFBertModel\n",
        "from tensorflow.keras.layers import Input, Dropout, Dense, Conv1D, GlobalAveragePooling1D, GlobalMaxPooling1D, SpatialDropout1D, Bidirectional, LSTM, GRU, concatenate, Lambda, BatchNormalization\n",
        "from tensorflow.keras.models import Model\n",
        "from tensorflow.keras.optimizers import Adam\n",
        "from tensorflow.keras.utils import plot_model\n",
        "\n",
        "def dot_product(x, kernel):\n",
        "    if tf.keras.backend.backend() == 'tensorflow':\n",
        "        return tf.squeeze(tf.matmul(x, tf.expand_dims(kernel, axis=-1)), axis=-1)\n",
        "    else:\n",
        "        return tf.matmul(x, kernel)\n"
      ]
    },
    {
      "cell_type": "code",
      "execution_count": null,
      "metadata": {
        "id": "iLNHVpi0ynjp"
      },
      "outputs": [],
      "source": [
        "class AttentionWithContext(tf.keras.layers.Layer):\n",
        "    def __init__(self, W_regularizer=None, u_regularizer=None, b_regularizer=None,\n",
        "                 W_constraint=None, u_constraint=None, b_constraint=None, bias=True, **kwargs):\n",
        "        self.init = tf.keras.initializers.get('glorot_uniform')\n",
        "        self.W_regularizer = tf.keras.regularizers.get(W_regularizer)\n",
        "        self.u_regularizer = tf.keras.regularizers.get(u_regularizer)\n",
        "        self.b_regularizer = tf.keras.regularizers.get(b_regularizer)\n",
        "        self.W_constraint = tf.keras.constraints.get(W_constraint)\n",
        "        self.u_constraint = tf.keras.constraints.get(u_constraint)\n",
        "        self.b_constraint = tf.keras.constraints.get(b_constraint)\n",
        "        self.bias = bias\n",
        "        super(AttentionWithContext, self).__init__(**kwargs)\n",
        "\n",
        "    def build(self, input_shape):\n",
        "        self.W = self.add_weight(shape=(input_shape[-1], input_shape[-1]),\n",
        "                                 initializer=self.init,\n",
        "                                 regularizer=self.W_regularizer,\n",
        "                                 constraint=self.W_constraint,\n",
        "                                 name='{}_W'.format(self.name))\n",
        "        if self.bias:\n",
        "            self.b = self.add_weight(shape=(input_shape[-1],),\n",
        "                                     initializer='zero',\n",
        "                                     regularizer=self.b_regularizer,\n",
        "                                     constraint=self.b_constraint,\n",
        "                                     name='{}_b'.format(self.name))\n",
        "        self.u = self.add_weight(shape=(input_shape[-1],),\n",
        "                                 initializer=self.init,\n",
        "                                 regularizer=self.u_regularizer,\n",
        "                                 constraint=self.u_constraint,\n",
        "                                 name='{}_u'.format(self.name))\n",
        "        super(AttentionWithContext, self).build(input_shape)\n",
        "\n",
        "    def call(self, x, mask=None):\n",
        "        uit = tf.keras.backend.dot(x, self.W)\n",
        "        if self.bias:\n",
        "            uit += self.b\n",
        "        uit = tf.keras.activations.tanh(uit)\n",
        "        ait = tf.keras.backend.dot(uit, tf.expand_dims(self.u, axis=-1))\n",
        "        ait = tf.squeeze(ait, axis=-1)\n",
        "        a = tf.keras.backend.exp(ait)\n",
        "        if mask is not None:\n",
        "            a *= tf.keras.backend.cast(mask, tf.float32)\n",
        "        a /= tf.keras.backend.cast(tf.keras.backend.sum(a, axis=1, keepdims=True) + tf.keras.backend.epsilon(), tf.float32)\n",
        "        a = tf.expand_dims(a, axis=-1)\n",
        "        weighted_input = x * a\n",
        "        return tf.keras.backend.sum(weighted_input, axis=1)\n",
        "\n",
        "    def compute_output_shape(self, input_shape):\n",
        "        return input_shape[0], input_shape[-1]\n"
      ]
    },
    {
      "cell_type": "code",
      "execution_count": null,
      "metadata": {
        "colab": {
          "base_uri": "https://localhost:8080/",
          "height": 225,
          "referenced_widgets": [
            "4113fa2a141c48eea1cdd16570fe4a1f",
            "3b28722608dd4a3199b10707f9baf3ea",
            "b9e81b89882a4bfba0c68a1271768b5b",
            "d0c0578deadf42f9957a1d965e82e83a",
            "997cada407e343debec92ad627b15d41",
            "44a5c7d55d8748fdb00577166d358c8a",
            "4a40fc415e444fd8bcbb95da85573c08",
            "8b0693918ffe476eb110c1d8d9329b01",
            "4038f5d3d5e1489eb550a2c2a67a44f4",
            "e5bf4624671e4b43a72733db5f965219",
            "85c7c23836084fd6a1140625db296da7"
          ]
        },
        "id": "V28GAJc-ynjp",
        "outputId": "b377862c-ada0-435b-f1da-28e5787fa379"
      },
      "outputs": [
        {
          "output_type": "stream",
          "name": "stderr",
          "text": [
            "/usr/local/lib/python3.10/dist-packages/huggingface_hub/file_download.py:1150: FutureWarning: `resume_download` is deprecated and will be removed in version 1.0.0. Downloads always resume when possible. If you want to force a new download, use `force_download=True`.\n",
            "  warnings.warn(\n"
          ]
        },
        {
          "output_type": "display_data",
          "data": {
            "text/plain": [
              "model.safetensors:   0%|          | 0.00/440M [00:00<?, ?B/s]"
            ],
            "application/vnd.jupyter.widget-view+json": {
              "version_major": 2,
              "version_minor": 0,
              "model_id": "4113fa2a141c48eea1cdd16570fe4a1f"
            }
          },
          "metadata": {}
        },
        {
          "output_type": "stream",
          "name": "stderr",
          "text": [
            "Some weights of the PyTorch model were not used when initializing the TF 2.0 model TFBertModel: ['cls.predictions.bias', 'cls.predictions.transform.dense.weight', 'cls.predictions.transform.LayerNorm.bias', 'cls.seq_relationship.bias', 'cls.predictions.transform.dense.bias', 'cls.predictions.transform.LayerNorm.weight', 'cls.seq_relationship.weight']\n",
            "- This IS expected if you are initializing TFBertModel from a PyTorch model trained on another task or with another architecture (e.g. initializing a TFBertForSequenceClassification model from a BertForPreTraining model).\n",
            "- This IS NOT expected if you are initializing TFBertModel from a PyTorch model that you expect to be exactly identical (e.g. initializing a TFBertForSequenceClassification model from a BertForSequenceClassification model).\n",
            "All the weights of TFBertModel were initialized from the PyTorch model.\n",
            "If your task is similar to the task the model of the checkpoint was trained on, you can already use TFBertModel for predictions without further training.\n",
            "/usr/local/lib/python3.10/dist-packages/keras/src/initializers/initializers.py:120: UserWarning: The initializer GlorotUniform is unseeded and being called multiple times, which will return identical values each time (even if the initializer is unseeded). Please update your code to provide a seed to the initializer, or avoid using the same initializer instance more than once.\n",
            "  warnings.warn(\n"
          ]
        }
      ],
      "source": [
        "from tensorflow.keras.optimizers import Adam\n",
        "from tensorflow.keras.layers import AveragePooling1D\n",
        "def build_model2(max_len, lr=3e-5, lr_d=1e-10, units=128, spatial_dr=0.5, kernel_size1=4, kernel_size2=6, dense_units=64, dr=0.2, conv_size=32):\n",
        "    input_ids = Input(shape=(max_len,), dtype=tf.int32, name=\"input_ids\")\n",
        "    token_type_ids = Input(shape=(max_len,), dtype=tf.int32, name=\"token_type_ids\")\n",
        "    attention_mask = Input(shape=(max_len,), dtype=tf.int32, name=\"attention_mask\")\n",
        "\n",
        "    bert_model = TFBertModel.from_pretrained(\"bert-base-uncased\")\n",
        "    bert_output = bert_model(input_ids=input_ids, token_type_ids=token_type_ids, attention_mask=attention_mask)[0]\n",
        "\n",
        "    x1 = SpatialDropout1D(spatial_dr, name='spatial_dropout_1')(bert_output)\n",
        "    x_gru = Bidirectional(GRU(units, return_sequences=True))(x1)\n",
        "    x_gru = Dropout(dr)(x_gru)\n",
        "    x_gru = AttentionWithContext()(x_gru)\n",
        "\n",
        "    x_gru = Lambda(lambda t: tf.expand_dims(t, axis=2))(x_gru)\n",
        "    x2 = Conv1D(conv_size, dilation_rate=2 , kernel_size=kernel_size1, padding='valid', kernel_initializer='he_uniform')(x_gru)\n",
        "    pooling_2 = AveragePooling1D(pool_size=2)(x2)\n",
        "    x2 = Conv1D(conv_size, dilation_rate=4, kernel_size=kernel_size1, padding='valid', kernel_initializer='he_uniform')(pooling_2)\n",
        "    avg_pool1_gru = GlobalAveragePooling1D()(x2)\n",
        "    max_pool1_gru = GlobalMaxPooling1D()(x2)\n",
        "\n",
        "    x3 = Conv1D(conv_size, dilation_rate=2, kernel_size=kernel_size2, padding='valid', kernel_initializer='he_uniform')(x_gru)\n",
        "    pooling_3 = AveragePooling1D(pool_size=2)(x3)\n",
        "    x3 = Conv1D(conv_size, dilation_rate=4 , kernel_size=kernel_size2, padding='valid', kernel_initializer='he_uniform')(pooling_3)\n",
        "    avg_pool3_gru = GlobalAveragePooling1D()(x3)\n",
        "    max_pool3_gru = GlobalMaxPooling1D()(x3)\n",
        "\n",
        "    x_lstm = Bidirectional(LSTM(units, return_sequences=True))(x1)\n",
        "    x_lstm = Dropout(dr)(x_lstm)\n",
        "    x_lstm = AttentionWithContext()(x_lstm)\n",
        "\n",
        "    x_lstm = Lambda(lambda t: tf.expand_dims(t, axis=2))(x_lstm)\n",
        "\n",
        "    x1 = Conv1D(conv_size, dilation_rate=2 , kernel_size=kernel_size1, padding='valid', kernel_initializer='he_uniform')(x_lstm)\n",
        "    pooling_4 = AveragePooling1D(pool_size=2)(x1)\n",
        "    x1 = Conv1D(conv_size, dilation_rate=4, kernel_size=kernel_size1, padding='valid', kernel_initializer='he_uniform')(pooling_4)\n",
        "    avg_pool1_lstm = GlobalAveragePooling1D()(x1)\n",
        "    max_pool1_lstm = GlobalMaxPooling1D()(x1)\n",
        "\n",
        "    x3 = Conv1D(conv_size, dilation_rate=2, kernel_size=kernel_size2, padding='valid', kernel_initializer='he_uniform')(x_lstm)\n",
        "    pooling_5 = AveragePooling1D(pool_size=2)(x3)\n",
        "    x3 = Conv1D(conv_size, dilation_rate=4 , kernel_size=kernel_size2, padding='valid', kernel_initializer='he_uniform')(pooling_5)\n",
        "    avg_pool3_lstm = GlobalAveragePooling1D()(x3)\n",
        "    max_pool3_lstm = GlobalMaxPooling1D()(x3)\n",
        "\n",
        "    x = concatenate([avg_pool1_gru, max_pool1_gru, avg_pool3_gru, max_pool3_gru, avg_pool1_lstm, max_pool1_lstm, avg_pool3_lstm, max_pool3_lstm])\n",
        "    x = BatchNormalization()(x)\n",
        "\n",
        "    x = Dropout(dr)(Dense(dense_units, activation='relu')(x))\n",
        "    x = BatchNormalization()(x)\n",
        "    x = Dropout(dr)(x)\n",
        "    x = Dense(int(dense_units / 2), activation='relu')(x)\n",
        "    x = Dense(1, activation=\"sigmoid\")(x)\n",
        "\n",
        "    optimizer = Adam(learning_rate=lr, beta_1=0.9, beta_2=0.999, epsilon=1e-07)  # Adjust beta_1, beta_2, and epsilon as needed\n",
        "\n",
        "    model = Model(inputs=[input_ids, token_type_ids, attention_mask], outputs=x)\n",
        "    model.compile(loss=\"binary_crossentropy\", optimizer=optimizer, metrics=[\"accuracy\"])\n",
        "\n",
        "    plot_model(model, show_shapes=True, to_file='our_model.png')\n",
        "\n",
        "    return model\n",
        "\n",
        "# Call the build_model2 function\n",
        "max_len = 100\n",
        "model = build_model2(max_len, lr=3e-5, lr_d=1e-10, units=128, spatial_dr=0.5, kernel_size1=4, kernel_size2=6, dense_units=64, dr=0.2, conv_size=32)\n"
      ]
    },
    {
      "cell_type": "code",
      "execution_count": null,
      "metadata": {
        "colab": {
          "base_uri": "https://localhost:8080/",
          "height": 498
        },
        "id": "gEsh4QK9ynjp",
        "outputId": "c66dcd25-9ce2-4f58-847b-1b1615195e5b"
      },
      "outputs": [
        {
          "output_type": "stream",
          "name": "stdout",
          "text": [
            "Epoch 1/50\n"
          ]
        },
        {
          "output_type": "stream",
          "name": "stderr",
          "text": [
            "WARNING:tensorflow:Gradients do not exist for variables ['tf_bert_model/bert/pooler/dense/kernel:0', 'tf_bert_model/bert/pooler/dense/bias:0'] when minimizing the loss. If you're using `model.compile()`, did you forget to provide a `loss` argument?\n",
            "WARNING:tensorflow:Gradients do not exist for variables ['tf_bert_model/bert/pooler/dense/kernel:0', 'tf_bert_model/bert/pooler/dense/bias:0'] when minimizing the loss. If you're using `model.compile()`, did you forget to provide a `loss` argument?\n",
            "WARNING:tensorflow:Gradients do not exist for variables ['tf_bert_model/bert/pooler/dense/kernel:0', 'tf_bert_model/bert/pooler/dense/bias:0'] when minimizing the loss. If you're using `model.compile()`, did you forget to provide a `loss` argument?\n",
            "WARNING:tensorflow:Gradients do not exist for variables ['tf_bert_model/bert/pooler/dense/kernel:0', 'tf_bert_model/bert/pooler/dense/bias:0'] when minimizing the loss. If you're using `model.compile()`, did you forget to provide a `loss` argument?\n"
          ]
        },
        {
          "output_type": "stream",
          "name": "stdout",
          "text": [
            "\r 1/60 [..............................] - ETA: 2:22:00 - loss: 0.8368 - accuracy: 0.4531"
          ]
        },
        {
          "output_type": "error",
          "ename": "KeyboardInterrupt",
          "evalue": "",
          "traceback": [
            "\u001b[0;31m---------------------------------------------------------------------------\u001b[0m",
            "\u001b[0;31mKeyboardInterrupt\u001b[0m                         Traceback (most recent call last)",
            "\u001b[0;32m<ipython-input-15-f2779140f12c>\u001b[0m in \u001b[0;36m<cell line: 6>\u001b[0;34m()\u001b[0m\n\u001b[1;32m      4\u001b[0m \u001b[0;34m\u001b[0m\u001b[0m\n\u001b[1;32m      5\u001b[0m \u001b[0;31m# Training the model\u001b[0m\u001b[0;34m\u001b[0m\u001b[0;34m\u001b[0m\u001b[0m\n\u001b[0;32m----> 6\u001b[0;31m history = model.fit(\n\u001b[0m\u001b[1;32m      7\u001b[0m     \u001b[0;34m{\u001b[0m\u001b[0;34m'input_ids'\u001b[0m\u001b[0;34m:\u001b[0m \u001b[0minput_ids\u001b[0m\u001b[0;34m,\u001b[0m \u001b[0;34m'token_type_ids'\u001b[0m\u001b[0;34m:\u001b[0m \u001b[0mtoken_type_ids\u001b[0m\u001b[0;34m,\u001b[0m \u001b[0;34m'attention_mask'\u001b[0m\u001b[0;34m:\u001b[0m \u001b[0mattention_mask\u001b[0m\u001b[0;34m}\u001b[0m\u001b[0;34m,\u001b[0m\u001b[0;34m\u001b[0m\u001b[0;34m\u001b[0m\u001b[0m\n\u001b[1;32m      8\u001b[0m     \u001b[0mlabels\u001b[0m\u001b[0;34m,\u001b[0m\u001b[0;34m\u001b[0m\u001b[0;34m\u001b[0m\u001b[0m\n",
            "\u001b[0;32m/usr/local/lib/python3.10/dist-packages/keras/src/utils/traceback_utils.py\u001b[0m in \u001b[0;36merror_handler\u001b[0;34m(*args, **kwargs)\u001b[0m\n\u001b[1;32m     63\u001b[0m         \u001b[0mfiltered_tb\u001b[0m \u001b[0;34m=\u001b[0m \u001b[0;32mNone\u001b[0m\u001b[0;34m\u001b[0m\u001b[0;34m\u001b[0m\u001b[0m\n\u001b[1;32m     64\u001b[0m         \u001b[0;32mtry\u001b[0m\u001b[0;34m:\u001b[0m\u001b[0;34m\u001b[0m\u001b[0;34m\u001b[0m\u001b[0m\n\u001b[0;32m---> 65\u001b[0;31m             \u001b[0;32mreturn\u001b[0m \u001b[0mfn\u001b[0m\u001b[0;34m(\u001b[0m\u001b[0;34m*\u001b[0m\u001b[0margs\u001b[0m\u001b[0;34m,\u001b[0m \u001b[0;34m**\u001b[0m\u001b[0mkwargs\u001b[0m\u001b[0;34m)\u001b[0m\u001b[0;34m\u001b[0m\u001b[0;34m\u001b[0m\u001b[0m\n\u001b[0m\u001b[1;32m     66\u001b[0m         \u001b[0;32mexcept\u001b[0m \u001b[0mException\u001b[0m \u001b[0;32mas\u001b[0m \u001b[0me\u001b[0m\u001b[0;34m:\u001b[0m\u001b[0;34m\u001b[0m\u001b[0;34m\u001b[0m\u001b[0m\n\u001b[1;32m     67\u001b[0m             \u001b[0mfiltered_tb\u001b[0m \u001b[0;34m=\u001b[0m \u001b[0m_process_traceback_frames\u001b[0m\u001b[0;34m(\u001b[0m\u001b[0me\u001b[0m\u001b[0;34m.\u001b[0m\u001b[0m__traceback__\u001b[0m\u001b[0;34m)\u001b[0m\u001b[0;34m\u001b[0m\u001b[0;34m\u001b[0m\u001b[0m\n",
            "\u001b[0;32m/usr/local/lib/python3.10/dist-packages/keras/src/engine/training.py\u001b[0m in \u001b[0;36mfit\u001b[0;34m(self, x, y, batch_size, epochs, verbose, callbacks, validation_split, validation_data, shuffle, class_weight, sample_weight, initial_epoch, steps_per_epoch, validation_steps, validation_batch_size, validation_freq, max_queue_size, workers, use_multiprocessing)\u001b[0m\n\u001b[1;32m   1805\u001b[0m                         ):\n\u001b[1;32m   1806\u001b[0m                             \u001b[0mcallbacks\u001b[0m\u001b[0;34m.\u001b[0m\u001b[0mon_train_batch_begin\u001b[0m\u001b[0;34m(\u001b[0m\u001b[0mstep\u001b[0m\u001b[0;34m)\u001b[0m\u001b[0;34m\u001b[0m\u001b[0;34m\u001b[0m\u001b[0m\n\u001b[0;32m-> 1807\u001b[0;31m                             \u001b[0mtmp_logs\u001b[0m \u001b[0;34m=\u001b[0m \u001b[0mself\u001b[0m\u001b[0;34m.\u001b[0m\u001b[0mtrain_function\u001b[0m\u001b[0;34m(\u001b[0m\u001b[0miterator\u001b[0m\u001b[0;34m)\u001b[0m\u001b[0;34m\u001b[0m\u001b[0;34m\u001b[0m\u001b[0m\n\u001b[0m\u001b[1;32m   1808\u001b[0m                             \u001b[0;32mif\u001b[0m \u001b[0mdata_handler\u001b[0m\u001b[0;34m.\u001b[0m\u001b[0mshould_sync\u001b[0m\u001b[0;34m:\u001b[0m\u001b[0;34m\u001b[0m\u001b[0;34m\u001b[0m\u001b[0m\n\u001b[1;32m   1809\u001b[0m                                 \u001b[0mcontext\u001b[0m\u001b[0;34m.\u001b[0m\u001b[0masync_wait\u001b[0m\u001b[0;34m(\u001b[0m\u001b[0;34m)\u001b[0m\u001b[0;34m\u001b[0m\u001b[0;34m\u001b[0m\u001b[0m\n",
            "\u001b[0;32m/usr/local/lib/python3.10/dist-packages/tensorflow/python/util/traceback_utils.py\u001b[0m in \u001b[0;36merror_handler\u001b[0;34m(*args, **kwargs)\u001b[0m\n\u001b[1;32m    148\u001b[0m     \u001b[0mfiltered_tb\u001b[0m \u001b[0;34m=\u001b[0m \u001b[0;32mNone\u001b[0m\u001b[0;34m\u001b[0m\u001b[0;34m\u001b[0m\u001b[0m\n\u001b[1;32m    149\u001b[0m     \u001b[0;32mtry\u001b[0m\u001b[0;34m:\u001b[0m\u001b[0;34m\u001b[0m\u001b[0;34m\u001b[0m\u001b[0m\n\u001b[0;32m--> 150\u001b[0;31m       \u001b[0;32mreturn\u001b[0m \u001b[0mfn\u001b[0m\u001b[0;34m(\u001b[0m\u001b[0;34m*\u001b[0m\u001b[0margs\u001b[0m\u001b[0;34m,\u001b[0m \u001b[0;34m**\u001b[0m\u001b[0mkwargs\u001b[0m\u001b[0;34m)\u001b[0m\u001b[0;34m\u001b[0m\u001b[0;34m\u001b[0m\u001b[0m\n\u001b[0m\u001b[1;32m    151\u001b[0m     \u001b[0;32mexcept\u001b[0m \u001b[0mException\u001b[0m \u001b[0;32mas\u001b[0m \u001b[0me\u001b[0m\u001b[0;34m:\u001b[0m\u001b[0;34m\u001b[0m\u001b[0;34m\u001b[0m\u001b[0m\n\u001b[1;32m    152\u001b[0m       \u001b[0mfiltered_tb\u001b[0m \u001b[0;34m=\u001b[0m \u001b[0m_process_traceback_frames\u001b[0m\u001b[0;34m(\u001b[0m\u001b[0me\u001b[0m\u001b[0;34m.\u001b[0m\u001b[0m__traceback__\u001b[0m\u001b[0;34m)\u001b[0m\u001b[0;34m\u001b[0m\u001b[0;34m\u001b[0m\u001b[0m\n",
            "\u001b[0;32m/usr/local/lib/python3.10/dist-packages/tensorflow/python/eager/polymorphic_function/polymorphic_function.py\u001b[0m in \u001b[0;36m__call__\u001b[0;34m(self, *args, **kwds)\u001b[0m\n\u001b[1;32m    830\u001b[0m \u001b[0;34m\u001b[0m\u001b[0m\n\u001b[1;32m    831\u001b[0m       \u001b[0;32mwith\u001b[0m \u001b[0mOptionalXlaContext\u001b[0m\u001b[0;34m(\u001b[0m\u001b[0mself\u001b[0m\u001b[0;34m.\u001b[0m\u001b[0m_jit_compile\u001b[0m\u001b[0;34m)\u001b[0m\u001b[0;34m:\u001b[0m\u001b[0;34m\u001b[0m\u001b[0;34m\u001b[0m\u001b[0m\n\u001b[0;32m--> 832\u001b[0;31m         \u001b[0mresult\u001b[0m \u001b[0;34m=\u001b[0m \u001b[0mself\u001b[0m\u001b[0;34m.\u001b[0m\u001b[0m_call\u001b[0m\u001b[0;34m(\u001b[0m\u001b[0;34m*\u001b[0m\u001b[0margs\u001b[0m\u001b[0;34m,\u001b[0m \u001b[0;34m**\u001b[0m\u001b[0mkwds\u001b[0m\u001b[0;34m)\u001b[0m\u001b[0;34m\u001b[0m\u001b[0;34m\u001b[0m\u001b[0m\n\u001b[0m\u001b[1;32m    833\u001b[0m \u001b[0;34m\u001b[0m\u001b[0m\n\u001b[1;32m    834\u001b[0m       \u001b[0mnew_tracing_count\u001b[0m \u001b[0;34m=\u001b[0m \u001b[0mself\u001b[0m\u001b[0;34m.\u001b[0m\u001b[0mexperimental_get_tracing_count\u001b[0m\u001b[0;34m(\u001b[0m\u001b[0;34m)\u001b[0m\u001b[0;34m\u001b[0m\u001b[0;34m\u001b[0m\u001b[0m\n",
            "\u001b[0;32m/usr/local/lib/python3.10/dist-packages/tensorflow/python/eager/polymorphic_function/polymorphic_function.py\u001b[0m in \u001b[0;36m_call\u001b[0;34m(self, *args, **kwds)\u001b[0m\n\u001b[1;32m    866\u001b[0m       \u001b[0;31m# In this case we have created variables on the first call, so we run the\u001b[0m\u001b[0;34m\u001b[0m\u001b[0;34m\u001b[0m\u001b[0m\n\u001b[1;32m    867\u001b[0m       \u001b[0;31m# defunned version which is guaranteed to never create variables.\u001b[0m\u001b[0;34m\u001b[0m\u001b[0;34m\u001b[0m\u001b[0m\n\u001b[0;32m--> 868\u001b[0;31m       return tracing_compilation.call_function(\n\u001b[0m\u001b[1;32m    869\u001b[0m           \u001b[0margs\u001b[0m\u001b[0;34m,\u001b[0m \u001b[0mkwds\u001b[0m\u001b[0;34m,\u001b[0m \u001b[0mself\u001b[0m\u001b[0;34m.\u001b[0m\u001b[0m_no_variable_creation_config\u001b[0m\u001b[0;34m\u001b[0m\u001b[0;34m\u001b[0m\u001b[0m\n\u001b[1;32m    870\u001b[0m       )\n",
            "\u001b[0;32m/usr/local/lib/python3.10/dist-packages/tensorflow/python/eager/polymorphic_function/tracing_compilation.py\u001b[0m in \u001b[0;36mcall_function\u001b[0;34m(args, kwargs, tracing_options)\u001b[0m\n\u001b[1;32m    137\u001b[0m   \u001b[0mbound_args\u001b[0m \u001b[0;34m=\u001b[0m \u001b[0mfunction\u001b[0m\u001b[0;34m.\u001b[0m\u001b[0mfunction_type\u001b[0m\u001b[0;34m.\u001b[0m\u001b[0mbind\u001b[0m\u001b[0;34m(\u001b[0m\u001b[0;34m*\u001b[0m\u001b[0margs\u001b[0m\u001b[0;34m,\u001b[0m \u001b[0;34m**\u001b[0m\u001b[0mkwargs\u001b[0m\u001b[0;34m)\u001b[0m\u001b[0;34m\u001b[0m\u001b[0;34m\u001b[0m\u001b[0m\n\u001b[1;32m    138\u001b[0m   \u001b[0mflat_inputs\u001b[0m \u001b[0;34m=\u001b[0m \u001b[0mfunction\u001b[0m\u001b[0;34m.\u001b[0m\u001b[0mfunction_type\u001b[0m\u001b[0;34m.\u001b[0m\u001b[0munpack_inputs\u001b[0m\u001b[0;34m(\u001b[0m\u001b[0mbound_args\u001b[0m\u001b[0;34m)\u001b[0m\u001b[0;34m\u001b[0m\u001b[0;34m\u001b[0m\u001b[0m\n\u001b[0;32m--> 139\u001b[0;31m   return function._call_flat(  # pylint: disable=protected-access\n\u001b[0m\u001b[1;32m    140\u001b[0m       \u001b[0mflat_inputs\u001b[0m\u001b[0;34m,\u001b[0m \u001b[0mcaptured_inputs\u001b[0m\u001b[0;34m=\u001b[0m\u001b[0mfunction\u001b[0m\u001b[0;34m.\u001b[0m\u001b[0mcaptured_inputs\u001b[0m\u001b[0;34m\u001b[0m\u001b[0;34m\u001b[0m\u001b[0m\n\u001b[1;32m    141\u001b[0m   )\n",
            "\u001b[0;32m/usr/local/lib/python3.10/dist-packages/tensorflow/python/eager/polymorphic_function/concrete_function.py\u001b[0m in \u001b[0;36m_call_flat\u001b[0;34m(self, tensor_inputs, captured_inputs)\u001b[0m\n\u001b[1;32m   1321\u001b[0m         and executing_eagerly):\n\u001b[1;32m   1322\u001b[0m       \u001b[0;31m# No tape is watching; skip to running the function.\u001b[0m\u001b[0;34m\u001b[0m\u001b[0;34m\u001b[0m\u001b[0m\n\u001b[0;32m-> 1323\u001b[0;31m       \u001b[0;32mreturn\u001b[0m \u001b[0mself\u001b[0m\u001b[0;34m.\u001b[0m\u001b[0m_inference_function\u001b[0m\u001b[0;34m.\u001b[0m\u001b[0mcall_preflattened\u001b[0m\u001b[0;34m(\u001b[0m\u001b[0margs\u001b[0m\u001b[0;34m)\u001b[0m\u001b[0;34m\u001b[0m\u001b[0;34m\u001b[0m\u001b[0m\n\u001b[0m\u001b[1;32m   1324\u001b[0m     forward_backward = self._select_forward_and_backward_functions(\n\u001b[1;32m   1325\u001b[0m         \u001b[0margs\u001b[0m\u001b[0;34m,\u001b[0m\u001b[0;34m\u001b[0m\u001b[0;34m\u001b[0m\u001b[0m\n",
            "\u001b[0;32m/usr/local/lib/python3.10/dist-packages/tensorflow/python/eager/polymorphic_function/atomic_function.py\u001b[0m in \u001b[0;36mcall_preflattened\u001b[0;34m(self, args)\u001b[0m\n\u001b[1;32m    214\u001b[0m   \u001b[0;32mdef\u001b[0m \u001b[0mcall_preflattened\u001b[0m\u001b[0;34m(\u001b[0m\u001b[0mself\u001b[0m\u001b[0;34m,\u001b[0m \u001b[0margs\u001b[0m\u001b[0;34m:\u001b[0m \u001b[0mSequence\u001b[0m\u001b[0;34m[\u001b[0m\u001b[0mcore\u001b[0m\u001b[0;34m.\u001b[0m\u001b[0mTensor\u001b[0m\u001b[0;34m]\u001b[0m\u001b[0;34m)\u001b[0m \u001b[0;34m->\u001b[0m \u001b[0mAny\u001b[0m\u001b[0;34m:\u001b[0m\u001b[0;34m\u001b[0m\u001b[0;34m\u001b[0m\u001b[0m\n\u001b[1;32m    215\u001b[0m     \u001b[0;34m\"\"\"Calls with flattened tensor inputs and returns the structured output.\"\"\"\u001b[0m\u001b[0;34m\u001b[0m\u001b[0;34m\u001b[0m\u001b[0m\n\u001b[0;32m--> 216\u001b[0;31m     \u001b[0mflat_outputs\u001b[0m \u001b[0;34m=\u001b[0m \u001b[0mself\u001b[0m\u001b[0;34m.\u001b[0m\u001b[0mcall_flat\u001b[0m\u001b[0;34m(\u001b[0m\u001b[0;34m*\u001b[0m\u001b[0margs\u001b[0m\u001b[0;34m)\u001b[0m\u001b[0;34m\u001b[0m\u001b[0;34m\u001b[0m\u001b[0m\n\u001b[0m\u001b[1;32m    217\u001b[0m     \u001b[0;32mreturn\u001b[0m \u001b[0mself\u001b[0m\u001b[0;34m.\u001b[0m\u001b[0mfunction_type\u001b[0m\u001b[0;34m.\u001b[0m\u001b[0mpack_output\u001b[0m\u001b[0;34m(\u001b[0m\u001b[0mflat_outputs\u001b[0m\u001b[0;34m)\u001b[0m\u001b[0;34m\u001b[0m\u001b[0;34m\u001b[0m\u001b[0m\n\u001b[1;32m    218\u001b[0m \u001b[0;34m\u001b[0m\u001b[0m\n",
            "\u001b[0;32m/usr/local/lib/python3.10/dist-packages/tensorflow/python/eager/polymorphic_function/atomic_function.py\u001b[0m in \u001b[0;36mcall_flat\u001b[0;34m(self, *args)\u001b[0m\n\u001b[1;32m    249\u001b[0m         \u001b[0;32mwith\u001b[0m \u001b[0mrecord\u001b[0m\u001b[0;34m.\u001b[0m\u001b[0mstop_recording\u001b[0m\u001b[0;34m(\u001b[0m\u001b[0;34m)\u001b[0m\u001b[0;34m:\u001b[0m\u001b[0;34m\u001b[0m\u001b[0;34m\u001b[0m\u001b[0m\n\u001b[1;32m    250\u001b[0m           \u001b[0;32mif\u001b[0m \u001b[0mself\u001b[0m\u001b[0;34m.\u001b[0m\u001b[0m_bound_context\u001b[0m\u001b[0;34m.\u001b[0m\u001b[0mexecuting_eagerly\u001b[0m\u001b[0;34m(\u001b[0m\u001b[0;34m)\u001b[0m\u001b[0;34m:\u001b[0m\u001b[0;34m\u001b[0m\u001b[0;34m\u001b[0m\u001b[0m\n\u001b[0;32m--> 251\u001b[0;31m             outputs = self._bound_context.call_function(\n\u001b[0m\u001b[1;32m    252\u001b[0m                 \u001b[0mself\u001b[0m\u001b[0;34m.\u001b[0m\u001b[0mname\u001b[0m\u001b[0;34m,\u001b[0m\u001b[0;34m\u001b[0m\u001b[0;34m\u001b[0m\u001b[0m\n\u001b[1;32m    253\u001b[0m                 \u001b[0mlist\u001b[0m\u001b[0;34m(\u001b[0m\u001b[0margs\u001b[0m\u001b[0;34m)\u001b[0m\u001b[0;34m,\u001b[0m\u001b[0;34m\u001b[0m\u001b[0;34m\u001b[0m\u001b[0m\n",
            "\u001b[0;32m/usr/local/lib/python3.10/dist-packages/tensorflow/python/eager/context.py\u001b[0m in \u001b[0;36mcall_function\u001b[0;34m(self, name, tensor_inputs, num_outputs)\u001b[0m\n\u001b[1;32m   1484\u001b[0m     \u001b[0mcancellation_context\u001b[0m \u001b[0;34m=\u001b[0m \u001b[0mcancellation\u001b[0m\u001b[0;34m.\u001b[0m\u001b[0mcontext\u001b[0m\u001b[0;34m(\u001b[0m\u001b[0;34m)\u001b[0m\u001b[0;34m\u001b[0m\u001b[0;34m\u001b[0m\u001b[0m\n\u001b[1;32m   1485\u001b[0m     \u001b[0;32mif\u001b[0m \u001b[0mcancellation_context\u001b[0m \u001b[0;32mis\u001b[0m \u001b[0;32mNone\u001b[0m\u001b[0;34m:\u001b[0m\u001b[0;34m\u001b[0m\u001b[0;34m\u001b[0m\u001b[0m\n\u001b[0;32m-> 1486\u001b[0;31m       outputs = execute.execute(\n\u001b[0m\u001b[1;32m   1487\u001b[0m           \u001b[0mname\u001b[0m\u001b[0;34m.\u001b[0m\u001b[0mdecode\u001b[0m\u001b[0;34m(\u001b[0m\u001b[0;34m\"utf-8\"\u001b[0m\u001b[0;34m)\u001b[0m\u001b[0;34m,\u001b[0m\u001b[0;34m\u001b[0m\u001b[0;34m\u001b[0m\u001b[0m\n\u001b[1;32m   1488\u001b[0m           \u001b[0mnum_outputs\u001b[0m\u001b[0;34m=\u001b[0m\u001b[0mnum_outputs\u001b[0m\u001b[0;34m,\u001b[0m\u001b[0;34m\u001b[0m\u001b[0;34m\u001b[0m\u001b[0m\n",
            "\u001b[0;32m/usr/local/lib/python3.10/dist-packages/tensorflow/python/eager/execute.py\u001b[0m in \u001b[0;36mquick_execute\u001b[0;34m(op_name, num_outputs, inputs, attrs, ctx, name)\u001b[0m\n\u001b[1;32m     51\u001b[0m   \u001b[0;32mtry\u001b[0m\u001b[0;34m:\u001b[0m\u001b[0;34m\u001b[0m\u001b[0;34m\u001b[0m\u001b[0m\n\u001b[1;32m     52\u001b[0m     \u001b[0mctx\u001b[0m\u001b[0;34m.\u001b[0m\u001b[0mensure_initialized\u001b[0m\u001b[0;34m(\u001b[0m\u001b[0;34m)\u001b[0m\u001b[0;34m\u001b[0m\u001b[0;34m\u001b[0m\u001b[0m\n\u001b[0;32m---> 53\u001b[0;31m     tensors = pywrap_tfe.TFE_Py_Execute(ctx._handle, device_name, op_name,\n\u001b[0m\u001b[1;32m     54\u001b[0m                                         inputs, attrs, num_outputs)\n\u001b[1;32m     55\u001b[0m   \u001b[0;32mexcept\u001b[0m \u001b[0mcore\u001b[0m\u001b[0;34m.\u001b[0m\u001b[0m_NotOkStatusException\u001b[0m \u001b[0;32mas\u001b[0m \u001b[0me\u001b[0m\u001b[0;34m:\u001b[0m\u001b[0;34m\u001b[0m\u001b[0;34m\u001b[0m\u001b[0m\n",
            "\u001b[0;31mKeyboardInterrupt\u001b[0m: "
          ]
        }
      ],
      "source": [
        "# Define callbacks for saving the model and early stopping\n",
        "check_point = tf.keras.callbacks.ModelCheckpoint('modelairline.h5', save_best_only=True, monitor='val_loss')\n",
        "early_stop = tf.keras.callbacks.EarlyStopping(monitor='val_loss', patience=5, restore_best_weights=True)\n",
        "\n",
        "# Training the model\n",
        "history = model.fit(\n",
        "    {'input_ids': input_ids, 'token_type_ids': token_type_ids, 'attention_mask': attention_mask},\n",
        "    labels,\n",
        "    batch_size = 64, epochs = 50,\n",
        "    validation_split=0.2,\n",
        "    callbacks=[check_point, early_stop],\n",
        "    shuffle=True\n",
        ")"
      ]
    },
    {
      "cell_type": "markdown",
      "source": [
        "#3. Evaluation\n",
        "\n",
        "\n",
        "---\n",
        "\n"
      ],
      "metadata": {
        "id": "nA0m_rzxfup0"
      }
    },
    {
      "cell_type": "code",
      "source": [
        "\n",
        "data=pd.read_csv('/content/unseen.csv')\n",
        "\n",
        "# Initialize the BERT tokenizer\n",
        "tokenizer = BertTokenizer.from_pretrained('bert-base-uncased')\n",
        "\n",
        "# Define max sequence length\n",
        "max_len = 100\n",
        "\n",
        "# Tokenize the text data\n",
        "def tokenize_function(text, max_len):\n",
        "    return tokenizer(\n",
        "        text,\n",
        "        max_length=max_len,\n",
        "        padding='max_length',\n",
        "        truncation=True,\n",
        "        return_tensors='tf'\n",
        "    )\n",
        "\n",
        "# Apply tokenization\n",
        "tokenized_data = data['text'].apply(lambda x: tokenize_function(x, max_len))\n",
        "\n",
        "# Extract input_ids, token_type_ids, and attention_mask\n",
        "input_ids = tf.concat([x['input_ids'] for x in tokenized_data], axis=0)\n",
        "token_type_ids = tf.concat([x['token_type_ids'] for x in tokenized_data], axis=0)\n",
        "attention_mask = tf.concat([x['attention_mask'] for x in tokenized_data], axis=0)\n",
        "\n",
        "# Convert labels to tensor\n",
        "labels = tf.constant(data['sentiment'].values, dtype=tf.float32)\n"
      ],
      "metadata": {
        "id": "ysyfAqxjoEyS"
      },
      "execution_count": null,
      "outputs": []
    },
    {
      "cell_type": "code",
      "source": [
        "import numpy as np\n",
        "\n",
        "# Convert TensorFlow tensors to numpy arrays\n",
        "input_ids_np = input_ids.numpy()\n",
        "token_type_ids_np = token_type_ids.numpy()\n",
        "attention_mask_np = attention_mask.numpy()\n",
        "labels_np = labels.numpy()\n",
        "\n",
        "from sklearn.model_selection import train_test_split\n",
        "\n",
        "# Split the data into training and validation sets\n",
        "input_ids_train, input_ids_val, token_type_ids_train, token_type_ids_val, attention_mask_train, attention_mask_val, labels_train, labels_val = train_test_split(\n",
        "    input_ids_np, token_type_ids_np, attention_mask_np, labels_np, test_size=0.8, random_state=42\n",
        ")\n"
      ],
      "metadata": {
        "id": "kDiWavd932WU"
      },
      "execution_count": null,
      "outputs": []
    },
    {
      "cell_type": "code",
      "source": [
        "input_ids_train = tf.convert_to_tensor(input_ids_train)\n",
        "input_ids_val = tf.convert_to_tensor(input_ids_val)\n",
        "token_type_ids_train = tf.convert_to_tensor(token_type_ids_train)\n",
        "token_type_ids_val = tf.convert_to_tensor(token_type_ids_val)\n",
        "attention_mask_train = tf.convert_to_tensor(attention_mask_train)\n",
        "attention_mask_val = tf.convert_to_tensor(attention_mask_val)\n",
        "labels_train = tf.convert_to_tensor(labels_train)\n",
        "labels_val = tf.convert_to_tensor(labels_val)\n"
      ],
      "metadata": {
        "id": "_OcqJNBA4WzB"
      },
      "execution_count": null,
      "outputs": []
    },
    {
      "cell_type": "code",
      "execution_count": null,
      "metadata": {
        "colab": {
          "base_uri": "https://localhost:8080/",
          "height": 979
        },
        "id": "Tex7yrtRRQPt",
        "outputId": "3903b1d6-1638-4bf4-9260-3c5813a95175"
      },
      "outputs": [
        {
          "output_type": "display_data",
          "data": {
            "text/plain": [
              "<Figure size 640x480 with 1 Axes>"
            ],
            "image/png": "[encoded data removed]"
          },
          "metadata": {}
        },
        {
          "output_type": "display_data",
          "data": {
            "text/plain": [
              "<Figure size 640x480 with 1 Axes>"
            ],
            "image/png": "[encoded data removed]"
          },
          "metadata": {}
        },
        {
          "output_type": "stream",
          "name": "stdout",
          "text": [
            "30/30 [==============================] - 7s 225ms/step - loss: 0.0702 - accuracy: 0.9831\n",
            "Validation Loss: 0.07024363428354263\n",
            "Validation Accuracy: 0.9830867052078247\n"
          ]
        }
      ],
      "source": [
        "\n",
        "# Plot training and validation metrics\n",
        "import matplotlib.pyplot as plt\n",
        "\n",
        "plt.plot(history.history['loss'])\n",
        "plt.plot(history.history['val_loss'])\n",
        "plt.title('Model Loss')\n",
        "plt.xlabel('Epoch')\n",
        "plt.ylabel('Loss')\n",
        "plt.legend(['Train', 'Validation'], loc='upper left')\n",
        "plt.show()\n",
        "\n",
        "plt.plot(history.history['accuracy'])\n",
        "plt.plot(history.history['val_accuracy'])\n",
        "plt.title('Model Accuracy')\n",
        "plt.xlabel('Epoch')\n",
        "plt.ylabel('Accuracy')\n",
        "plt.legend(['Train', 'Validation'], loc='upper left')\n",
        "plt.show()\n",
        "\n",
        "# Evaluate the model\n",
        "val_loss, val_accuracy = model.evaluate(\n",
        "    {'input_ids': input_ids_val, 'token_type_ids': token_type_ids_val, 'attention_mask': attention_mask_val},\n",
        "    labels_val\n",
        ")\n",
        "\n",
        "print(f\"Validation Loss: {val_loss}\")\n",
        "print(f\"Validation Accuracy: {val_accuracy}\")\n"
      ]
    },
    {
      "cell_type": "code",
      "execution_count": null,
      "metadata": {
        "colab": {
          "base_uri": "https://localhost:8080/"
        },
        "id": "9jzs2-NjRiCI",
        "outputId": "948da58b-67fb-4478-bd80-b5b557975980"
      },
      "outputs": [
        {
          "output_type": "stream",
          "name": "stdout",
          "text": [
            "30/30 [==============================] - 11s 214ms/step\n"
          ]
        }
      ],
      "source": [
        "# Make predictions on the validation set\n",
        "predictions = model.predict({\n",
        "    'input_ids': input_ids_val,\n",
        "    'token_type_ids': token_type_ids_val,\n",
        "    'attention_mask': attention_mask_val\n",
        "})\n",
        "\n",
        "# Convert predictions from probabilities to binary class labels\n",
        "predicted_labels = (predictions > 0.5).astype(int).flatten()\n"
      ]
    },
    {
      "cell_type": "code",
      "execution_count": null,
      "metadata": {
        "colab": {
          "base_uri": "https://localhost:8080/"
        },
        "id": "O6zN5kk4Ri1f",
        "outputId": "a4f5737b-d893-407d-8a74-1567fab25248"
      },
      "outputs": [
        {
          "output_type": "stream",
          "name": "stdout",
          "text": [
            "              precision    recall  f1-score   support\n",
            "\n",
            "           0       0.98      0.99      0.98       463\n",
            "           1       0.99      0.98      0.98       483\n",
            "\n",
            "    accuracy                           0.98       946\n",
            "   macro avg       0.98      0.98      0.98       946\n",
            "weighted avg       0.98      0.98      0.98       946\n",
            "\n"
          ]
        }
      ],
      "source": [
        "# Convert true labels to integers\n",
        "true_labels = labels_val.numpy().astype(int).flatten()\n",
        "from sklearn.metrics import confusion_matrix, classification_report\n",
        "\n",
        "# Compute the confusion matrix\n",
        "cm = confusion_matrix(true_labels, predicted_labels)\n",
        "\n",
        "# Print classification report\n",
        "print(classification_report(true_labels, predicted_labels))\n"
      ]
    },
    {
      "cell_type": "code",
      "execution_count": null,
      "metadata": {
        "colab": {
          "base_uri": "https://localhost:8080/",
          "height": 641
        },
        "id": "SEqGDQP9Rmea",
        "outputId": "e180d86f-3306-4f98-e73b-78bfae1312db"
      },
      "outputs": [
        {
          "output_type": "display_data",
          "data": {
            "text/plain": [
              "<Figure size 1000x700 with 2 Axes>"
            ],
            "image/png": "[encoded data removed]"
          },
          "metadata": {}
        }
      ],
      "source": [
        "import matplotlib.pyplot as plt\n",
        "import seaborn as sns\n",
        "\n",
        "# Define a function to plot confusion matrix\n",
        "def plot_confusion_matrix(cm, labels):\n",
        "    plt.figure(figsize=(10, 7))\n",
        "    sns.heatmap(cm, annot=True, fmt='d', cmap='Blues', xticklabels=labels, yticklabels=labels)\n",
        "    plt.xlabel('Predicted')\n",
        "    plt.ylabel('True')\n",
        "    plt.title('Confusion Matrix')\n",
        "    plt.show()\n",
        "\n",
        "# Plot the confusion matrix\n",
        "plot_confusion_matrix(cm, labels=['Negative', 'Positive'])\n"
      ]
    },
    {
      "cell_type": "markdown",
      "source": [
        "#4. Comparing with other models\n",
        "\n",
        "\n",
        "---\n",
        "\n"
      ],
      "metadata": {
        "id": "hvMf_qj-f0ls"
      }
    },
    {
      "cell_type": "markdown",
      "source": [
        "##4.1. compare models"
      ],
      "metadata": {
        "id": "PbTlFw1_MzzQ"
      }
    },
    {
      "cell_type": "code",
      "source": [
        "validation_data=pd.read_csv('/content/unseen.csv')\n"
      ],
      "metadata": {
        "id": "NG3gWW8ISufF"
      },
      "execution_count": null,
      "outputs": []
    },
    {
      "cell_type": "code",
      "source": [
        "# prompt: pick random 50 from validation_data\n",
        "\n",
        "validation_data = validation_data.sample(n=50)\n"
      ],
      "metadata": {
        "id": "h_shAoy7SzGQ"
      },
      "execution_count": null,
      "outputs": []
    },
    {
      "cell_type": "code",
      "source": [
        "tokenizer = BertTokenizer.from_pretrained('bert-base-uncased')\n",
        "\n",
        "# Define max sequence length\n",
        "max_len = 100\n",
        "\n",
        "# Tokenize the text data\n",
        "def tokenize_function(text, max_len):\n",
        "    return tokenizer(\n",
        "        text,\n",
        "        max_length=max_len,\n",
        "        padding='max_length',\n",
        "        truncation=True,\n",
        "        return_tensors='tf'\n",
        "    )\n",
        "\n",
        "# Apply tokenization\n",
        "tokenized_data_val = validation_data['text'].apply(lambda x: tokenize_function(x, max_len))\n",
        "\n",
        "# Extract input_ids, token_type_ids, and attention_mask\n",
        "input_ids_val = tf.concat([x['input_ids'] for x in tokenized_data_val], axis=0)\n",
        "token_type_ids_val = tf.concat([x['token_type_ids'] for x in tokenized_data_val], axis=0)\n",
        "attention_mask_val = tf.concat([x['attention_mask'] for x in tokenized_data_val], axis=0)\n",
        "print(input_ids_val[0])\n",
        "print(token_type_ids_val[0])\n",
        "print(attention_mask_val[0])\n",
        "# Convert labels to tensor\n",
        "labels = tf.constant(validation_data['sentiment'].values, dtype=tf.float32)"
      ],
      "metadata": {
        "colab": {
          "base_uri": "https://localhost:8080/"
        },
        "id": "kXP9GoKDSmsg",
        "outputId": "645a1f70-0d4b-4950-a9ed-f9633cddb5d0"
      },
      "execution_count": null,
      "outputs": [
        {
          "output_type": "stream",
          "name": "stderr",
          "text": [
            "/usr/local/lib/python3.10/dist-packages/huggingface_hub/file_download.py:1132: FutureWarning: `resume_download` is deprecated and will be removed in version 1.0.0. Downloads always resume when possible. If you want to force a new download, use `force_download=True`.\n",
            "  warnings.warn(\n"
          ]
        },
        {
          "output_type": "stream",
          "name": "stdout",
          "text": [
            "tf.Tensor(\n",
            "[  101  2025  2000 20252 12821  2026  2391  1010  2021  5807  1005  1056\n",
            "  1045  2022  2583  2000  2404  1037 12191  4524  2682  2026  2835  1029\n",
            "  2339  2003  2009  2623  2000  2681  2009  2005 11220  2015  1029 16215\n",
            "  2595   102     0     0     0     0     0     0     0     0     0     0\n",
            "     0     0     0     0     0     0     0     0     0     0     0     0\n",
            "     0     0     0     0     0     0     0     0     0     0     0     0\n",
            "     0     0     0     0     0     0     0     0     0     0     0     0\n",
            "     0     0     0     0     0     0     0     0     0     0     0     0\n",
            "     0     0     0     0], shape=(100,), dtype=int32)\n",
            "tf.Tensor(\n",
            "[0 0 0 0 0 0 0 0 0 0 0 0 0 0 0 0 0 0 0 0 0 0 0 0 0 0 0 0 0 0 0 0 0 0 0 0 0\n",
            " 0 0 0 0 0 0 0 0 0 0 0 0 0 0 0 0 0 0 0 0 0 0 0 0 0 0 0 0 0 0 0 0 0 0 0 0 0\n",
            " 0 0 0 0 0 0 0 0 0 0 0 0 0 0 0 0 0 0 0 0 0 0 0 0 0 0], shape=(100,), dtype=int32)\n",
            "tf.Tensor(\n",
            "[1 1 1 1 1 1 1 1 1 1 1 1 1 1 1 1 1 1 1 1 1 1 1 1 1 1 1 1 1 1 1 1 1 1 1 1 1\n",
            " 1 0 0 0 0 0 0 0 0 0 0 0 0 0 0 0 0 0 0 0 0 0 0 0 0 0 0 0 0 0 0 0 0 0 0 0 0\n",
            " 0 0 0 0 0 0 0 0 0 0 0 0 0 0 0 0 0 0 0 0 0 0 0 0 0 0], shape=(100,), dtype=int32)\n"
          ]
        }
      ]
    },
    {
      "cell_type": "code",
      "source": [
        "import numpy as np\n",
        "\n",
        "# Convert TensorFlow tensors to numpy arrays\n",
        "input_ids_np = input_ids_val.numpy()\n",
        "token_type_ids_np = token_type_ids_val.numpy()\n",
        "attention_mask_np = attention_mask_val.numpy()\n",
        "labels_np = labels.numpy()\n",
        "\n",
        "from sklearn.model_selection import train_test_split\n",
        "\n",
        "# Split the data into training and validation sets\n",
        "input_ids_train, input_ids_val, token_type_ids_train, token_type_ids_val, attention_mask_train, attention_mask_val, labels_train, labels_val = train_test_split(\n",
        "    input_ids_np, token_type_ids_np, attention_mask_np, labels_np, test_size=0.44, random_state=42\n",
        ")\n"
      ],
      "metadata": {
        "id": "CdTiuSuqSbSs"
      },
      "execution_count": null,
      "outputs": []
    },
    {
      "cell_type": "code",
      "source": [
        "# Make predictions on the validation set\n",
        "predictions = model.predict({\n",
        "    'input_ids': input_ids_val,\n",
        "    'token_type_ids': token_type_ids_val,\n",
        "    'attention_mask': attention_mask_val\n",
        "})\n",
        "\n",
        "# Convert predictions from probabilities to binary class labels\n",
        "predicted_labels = (predictions > 0.5).astype(int).flatten()\n"
      ],
      "metadata": {
        "colab": {
          "base_uri": "https://localhost:8080/"
        },
        "id": "RVJkXF_xSI5Q",
        "outputId": "20319b20-eeb5-4014-be40-b41adf29c065"
      },
      "execution_count": null,
      "outputs": [
        {
          "output_type": "stream",
          "name": "stdout",
          "text": [
            "2/2 [==============================] - 5s 389ms/step\n"
          ]
        }
      ]
    },
    {
      "cell_type": "code",
      "source": [
        "# prompt: make a numpy.ndarray list of validation_data column 'sentiment' so i can compare with predicted_labels\n",
        "\n",
        "actual_labels = validation_data['sentiment'].to_numpy()\n"
      ],
      "metadata": {
        "id": "RirjrQtfTHc4"
      },
      "execution_count": null,
      "outputs": []
    },
    {
      "cell_type": "code",
      "source": [
        "from tensorflow.keras.models import load_model\n",
        "loaded_ACBiLSTM = load_model('/content/drive/MyDrive/model_for_thesis/ACBiLSTM-airline.h5', custom_objects={'AttentionWithContext': AttentionWithContext , \"tf\": tf})\n",
        "print('ACBiLSTM model loaded')"
      ],
      "metadata": {
        "colab": {
          "base_uri": "https://localhost:8080/"
        },
        "id": "dO5cdZzpTkPt",
        "outputId": "b33d2182-6ea3-47e3-ff39-6a042cb6f8c0"
      },
      "execution_count": null,
      "outputs": [
        {
          "output_type": "stream",
          "name": "stdout",
          "text": [
            "ACBiLSTM model loaded\n"
          ]
        },
        {
          "output_type": "stream",
          "name": "stderr",
          "text": [
            "/usr/local/lib/python3.10/dist-packages/keras/src/initializers/initializers.py:120: UserWarning: The initializer GlorotUniform is unseeded and being called multiple times, which will return identical values each time (even if the initializer is unseeded). Please update your code to provide a seed to the initializer, or avoid using the same initializer instance more than once.\n",
            "  warnings.warn(\n"
          ]
        }
      ]
    },
    {
      "cell_type": "code",
      "source": [
        "from tensorflow.keras.models import load_model\n",
        "loaded_IWV = load_model('/content/drive/MyDrive/model_for_thesis/iwv_model.h5')\n",
        "print('IWV model loaded')"
      ],
      "metadata": {
        "colab": {
          "base_uri": "https://localhost:8080/"
        },
        "id": "UAQgK0okWxa-",
        "outputId": "8f7fc45a-6568-48cc-9f5d-d7043e0c237e"
      },
      "execution_count": null,
      "outputs": [
        {
          "output_type": "stream",
          "name": "stdout",
          "text": [
            "IWV model loaded\n"
          ]
        }
      ]
    },
    {
      "cell_type": "code",
      "source": [
        "from tensorflow.keras.models import load_model\n",
        "loaded_ARC = load_model('/content/drive/MyDrive/model_for_thesis/arc_model.h5', custom_objects={'AttentionWithContext': AttentionWithContext , \"tf\": tf})\n",
        "print('ARC model loaded')"
      ],
      "metadata": {
        "colab": {
          "base_uri": "https://localhost:8080/"
        },
        "id": "E1YUJ_CfXMIx",
        "outputId": "ee9e6ae4-5804-462b-fade-b414d8ca40bf"
      },
      "execution_count": null,
      "outputs": [
        {
          "output_type": "stream",
          "name": "stderr",
          "text": [
            "/usr/local/lib/python3.10/dist-packages/keras/src/initializers/initializers.py:120: UserWarning: The initializer GlorotUniform is unseeded and being called multiple times, which will return identical values each time (even if the initializer is unseeded). Please update your code to provide a seed to the initializer, or avoid using the same initializer instance more than once.\n",
            "  warnings.warn(\n"
          ]
        },
        {
          "output_type": "stream",
          "name": "stdout",
          "text": [
            "ARC model loaded\n"
          ]
        }
      ]
    },
    {
      "cell_type": "code",
      "source": [
        "from tensorflow.keras.preprocessing.text import Tokenizer\n",
        "# Step 1: Tokenization and Padding\n",
        "texts = validation_data['text'].values\n",
        "labels = validation_data['sentiment'].values\n",
        "tokenizer = Tokenizer()\n",
        "tokenizer.fit_on_texts(texts)\n",
        "word_index = tokenizer.word_index\n",
        "vocab_size = len(word_index) + 1\n",
        "\n",
        "# Convert texts to sequences\n",
        "sequences = tokenizer.texts_to_sequences(texts)\n",
        "x_data = pad_sequences(sequences, maxlen=max_len)"
      ],
      "metadata": {
        "id": "6VMuGKErVWpe"
      },
      "execution_count": null,
      "outputs": []
    },
    {
      "cell_type": "code",
      "source": [
        "yhat_arc=loaded_ARC.predict(x_data)"
      ],
      "metadata": {
        "colab": {
          "base_uri": "https://localhost:8080/"
        },
        "id": "0ZVJIAyMXcbh",
        "outputId": "e7f4b782-35cf-4879-918e-b979161c8b85"
      },
      "execution_count": null,
      "outputs": [
        {
          "output_type": "stream",
          "name": "stdout",
          "text": [
            "2/2 [==============================] - 1s 119ms/step\n"
          ]
        }
      ]
    },
    {
      "cell_type": "code",
      "source": [
        "yhat_iwv=loaded_IWV.predict(x_data)"
      ],
      "metadata": {
        "colab": {
          "base_uri": "https://localhost:8080/"
        },
        "id": "MyaoEHmrXBQj",
        "outputId": "03d48dcb-2c97-4657-8b22-8ba2a682d459"
      },
      "execution_count": null,
      "outputs": [
        {
          "output_type": "stream",
          "name": "stdout",
          "text": [
            "2/2 [==============================] - 0s 95ms/step\n"
          ]
        }
      ]
    },
    {
      "cell_type": "code",
      "source": [
        "yhat_acbilstm = loaded_ACBiLSTM.predict(x_data)"
      ],
      "metadata": {
        "colab": {
          "base_uri": "https://localhost:8080/"
        },
        "id": "wyhvVW2EWDcI",
        "outputId": "d143b9ea-a573-49a5-b073-28b8345cc1db"
      },
      "execution_count": null,
      "outputs": [
        {
          "output_type": "stream",
          "name": "stdout",
          "text": [
            "2/2 [==============================] - 1s 57ms/step\n"
          ]
        }
      ]
    },
    {
      "cell_type": "code",
      "source": [
        "iwv_pred= (yhat_iwv > 0.5).astype(int).flatten()"
      ],
      "metadata": {
        "id": "Dh7yqVEDXEYk"
      },
      "execution_count": null,
      "outputs": []
    },
    {
      "cell_type": "code",
      "source": [
        "acbilstm_pred = (yhat_acbilstm > 0.5).astype(int).flatten()"
      ],
      "metadata": {
        "id": "7eMkMTFlWTTP"
      },
      "execution_count": null,
      "outputs": []
    },
    {
      "cell_type": "code",
      "source": [
        "acbilstm_pred"
      ],
      "metadata": {
        "colab": {
          "base_uri": "https://localhost:8080/"
        },
        "id": "T8d3h_d-WrxN",
        "outputId": "665f4386-a65b-4689-a7d6-1276c4933e72"
      },
      "execution_count": null,
      "outputs": [
        {
          "output_type": "execute_result",
          "data": {
            "text/plain": [
              "array([0, 0, 0, 0, 1, 0, 0, 0, 1, 0, 1, 1, 0, 1, 0, 1, 0, 1, 1, 1, 1, 0,\n",
              "       1, 0, 0, 0, 0, 0, 0, 1, 0, 0, 1, 0, 1, 1, 1, 0, 0, 1, 1, 1, 1, 0,\n",
              "       1, 0, 0, 0, 0, 0])"
            ]
          },
          "metadata": {},
          "execution_count": 32
        }
      ]
    },
    {
      "cell_type": "code",
      "source": [
        "arc_pred= (yhat_arc > 0.5).astype(int).flatten()"
      ],
      "metadata": {
        "id": "1BKVmzBuXgLb"
      },
      "execution_count": null,
      "outputs": []
    },
    {
      "cell_type": "code",
      "source": [
        "from sklearn.metrics import accuracy_score, precision_score, recall_score, f1_score\n",
        "\n",
        "# Example: Replace these with actual predictions and true labels\n",
        "y_true = actual_labels  # True labels\n",
        "y_pred_model1 = predicted_labels  # Predictions from model 1\n",
        "y_pred_model2 = acbilstm_pred  # Predictions from model 2\n",
        "y_pred_model3 = iwv_pred  # Predictions from model 3\n",
        "y_pred_model4 = arc_pred  # Predictions from model 4\n"
      ],
      "metadata": {
        "id": "-fr1cH0cXk8-"
      },
      "execution_count": null,
      "outputs": []
    },
    {
      "cell_type": "code",
      "source": [
        "\n",
        "\n",
        "# Compute metrics for each model\n",
        "metrics = {\n",
        "    'Our_model': {\n",
        "        'accuracy': accuracy_score(y_true, y_pred_model1),\n",
        "        'precision': precision_score(y_true, y_pred_model1, average='weighted'),\n",
        "        'recall': recall_score(y_true, y_pred_model1, average='weighted'),\n",
        "        'f1': f1_score(y_true, y_pred_model1, average='weighted')\n",
        "    },\n",
        "    'ACBiLSTM': {\n",
        "        'accuracy': accuracy_score(y_true, y_pred_model2),\n",
        "        'precision': precision_score(y_true, y_pred_model2, average='weighted'),\n",
        "        'recall': recall_score(y_true, y_pred_model2, average='weighted'),\n",
        "        'f1': f1_score(y_true, y_pred_model2, average='weighted')\n",
        "    },\n",
        "    'IWV': {\n",
        "        'accuracy': accuracy_score(y_true, y_pred_model3),\n",
        "        'precision': precision_score(y_true, y_pred_model3, average='weighted'),\n",
        "        'recall': recall_score(y_true, y_pred_model3, average='weighted'),\n",
        "        'f1': f1_score(y_true, y_pred_model3, average='weighted')\n",
        "    },\n",
        "    'ARC': {\n",
        "        'accuracy': accuracy_score(y_true, y_pred_model4),\n",
        "        'precision': precision_score(y_true, y_pred_model4, average='weighted'),\n",
        "        'recall': recall_score(y_true, y_pred_model4, average='weighted'),\n",
        "        'f1': f1_score(y_true, y_pred_model4, average='weighted')\n",
        "    }\n",
        "}\n"
      ],
      "metadata": {
        "id": "JKkv_PbiSIMM"
      },
      "execution_count": null,
      "outputs": []
    },
    {
      "cell_type": "code",
      "source": [
        "import pandas as pd\n",
        "\n",
        "# Convert metrics to DataFrame\n",
        "metrics_df = pd.DataFrame(metrics).T  # Transpose for better readability\n",
        "metrics_df\n"
      ],
      "metadata": {
        "colab": {
          "base_uri": "https://localhost:8080/",
          "height": 174
        },
        "id": "XGr9tDirX9k9",
        "outputId": "763e34d9-81f7-4cf4-fa98-592f91d2a1ba"
      },
      "execution_count": null,
      "outputs": [
        {
          "output_type": "execute_result",
          "data": {
            "text/plain": [
              "           accuracy  precision  recall        f1\n",
              "Our_model      1.00   1.000000    1.00  1.000000\n",
              "ACBiLSTM       0.50   0.517241    0.50  0.498599\n",
              "IWV            0.40   0.400000    0.40  0.400000\n",
              "ARC            0.34   0.347200    0.34  0.342385"
            ],
            "text/html": [
              "\n",
              "  <div id=\"df-c6b35800-9058-44e9-a04b-cb6c463003df\" class=\"colab-df-container\">\n",
              "    <div>\n",
              "<style scoped>\n",
              "    .dataframe tbody tr th:only-of-type {\n",
              "        vertical-align: middle;\n",
              "    }\n",
              "\n",
              "    .dataframe tbody tr th {\n",
              "        vertical-align: top;\n",
              "    }\n",
              "\n",
              "    .dataframe thead th {\n",
              "        text-align: right;\n",
              "    }\n",
              "</style>\n",
              "<table border=\"1\" class=\"dataframe\">\n",
              "  <thead>\n",
              "    <tr style=\"text-align: right;\">\n",
              "      <th></th>\n",
              "      <th>accuracy</th>\n",
              "      <th>precision</th>\n",
              "      <th>recall</th>\n",
              "      <th>f1</th>\n",
              "    </tr>\n",
              "  </thead>\n",
              "  <tbody>\n",
              "    <tr>\n",
              "      <th>Our_model</th>\n",
              "      <td>1.00</td>\n",
              "      <td>1.000000</td>\n",
              "      <td>1.00</td>\n",
              "      <td>1.000000</td>\n",
              "    </tr>\n",
              "    <tr>\n",
              "      <th>ACBiLSTM</th>\n",
              "      <td>0.50</td>\n",
              "      <td>0.517241</td>\n",
              "      <td>0.50</td>\n",
              "      <td>0.498599</td>\n",
              "    </tr>\n",
              "    <tr>\n",
              "      <th>IWV</th>\n",
              "      <td>0.40</td>\n",
              "      <td>0.400000</td>\n",
              "      <td>0.40</td>\n",
              "      <td>0.400000</td>\n",
              "    </tr>\n",
              "    <tr>\n",
              "      <th>ARC</th>\n",
              "      <td>0.34</td>\n",
              "      <td>0.347200</td>\n",
              "      <td>0.34</td>\n",
              "      <td>0.342385</td>\n",
              "    </tr>\n",
              "  </tbody>\n",
              "</table>\n",
              "</div>\n",
              "    <div class=\"colab-df-buttons\">\n",
              "\n",
              "  <div class=\"colab-df-container\">\n",
              "    <button class=\"colab-df-convert\" onclick=\"convertToInteractive('df-c6b35800-9058-44e9-a04b-cb6c463003df')\"\n",
              "            title=\"Convert this dataframe to an interactive table.\"\n",
              "            style=\"display:none;\">\n",
              "\n",
              "  <svg xmlns=\"http://www.w3.org/2000/svg\" height=\"24px\" viewBox=\"0 -960 960 960\">\n",
              "    <path d=\"M120-120v-720h720v720H120Zm60-500h600v-160H180v160Zm220 220h160v-160H400v160Zm0 220h160v-160H400v160ZM180-400h160v-160H180v160Zm440 0h160v-160H620v160ZM180-180h160v-160H180v160Zm440 0h160v-160H620v160Z\"/>\n",
              "  </svg>\n",
              "    </button>\n",
              "\n",
              "  <style>\n",
              "    .colab-df-container {\n",
              "      display:flex;\n",
              "      gap: 12px;\n",
              "    }\n",
              "\n",
              "    .colab-df-convert {\n",
              "      background-color: #E8F0FE;\n",
              "      border: none;\n",
              "      border-radius: 50%;\n",
              "      cursor: pointer;\n",
              "      display: none;\n",
              "      fill: #1967D2;\n",
              "      height: 32px;\n",
              "      padding: 0 0 0 0;\n",
              "      width: 32px;\n",
              "    }\n",
              "\n",
              "    .colab-df-convert:hover {\n",
              "      background-color: #E2EBFA;\n",
              "      box-shadow: 0px 1px 2px rgba(60, 64, 67, 0.3), 0px 1px 3px 1px rgba(60, 64, 67, 0.15);\n",
              "      fill: #174EA6;\n",
              "    }\n",
              "\n",
              "    .colab-df-buttons div {\n",
              "      margin-bottom: 4px;\n",
              "    }\n",
              "\n",
              "    [theme=dark] .colab-df-convert {\n",
              "      background-color: #3B4455;\n",
              "      fill: #D2E3FC;\n",
              "    }\n",
              "\n",
              "    [theme=dark] .colab-df-convert:hover {\n",
              "      background-color: #434B5C;\n",
              "      box-shadow: 0px 1px 3px 1px rgba(0, 0, 0, 0.15);\n",
              "      filter: drop-shadow(0px 1px 2px rgba(0, 0, 0, 0.3));\n",
              "      fill: #FFFFFF;\n",
              "    }\n",
              "  </style>\n",
              "\n",
              "    <script>\n",
              "      const buttonEl =\n",
              "        document.querySelector('#df-c6b35800-9058-44e9-a04b-cb6c463003df button.colab-df-convert');\n",
              "      buttonEl.style.display =\n",
              "        google.colab.kernel.accessAllowed ? 'block' : 'none';\n",
              "\n",
              "      async function convertToInteractive(key) {\n",
              "        const element = document.querySelector('#df-c6b35800-9058-44e9-a04b-cb6c463003df');\n",
              "        const dataTable =\n",
              "          await google.colab.kernel.invokeFunction('convertToInteractive',\n",
              "                                                    [key], {});\n",
              "        if (!dataTable) return;\n",
              "\n",
              "        const docLinkHtml = 'Like what you see? Visit the ' +\n",
              "          '<a target=\"_blank\" href=https://colab.research.google.com/notebooks/data_table.ipynb>data table notebook</a>'\n",
              "          + ' to learn more about interactive tables.';\n",
              "        element.innerHTML = '';\n",
              "        dataTable['output_type'] = 'display_data';\n",
              "        await google.colab.output.renderOutput(dataTable, element);\n",
              "        const docLink = document.createElement('div');\n",
              "        docLink.innerHTML = docLinkHtml;\n",
              "        element.appendChild(docLink);\n",
              "      }\n",
              "    </script>\n",
              "  </div>\n",
              "\n",
              "\n",
              "<div id=\"df-778072e5-ccc6-4cb3-82fd-f7d2b1a9f7f9\">\n",
              "  <button class=\"colab-df-quickchart\" onclick=\"quickchart('df-778072e5-ccc6-4cb3-82fd-f7d2b1a9f7f9')\"\n",
              "            title=\"Suggest charts\"\n",
              "            style=\"display:none;\">\n",
              "\n",
              "<svg xmlns=\"http://www.w3.org/2000/svg\" height=\"24px\"viewBox=\"0 0 24 24\"\n",
              "     width=\"24px\">\n",
              "    <g>\n",
              "        <path d=\"M19 3H5c-1.1 0-2 .9-2 2v14c0 1.1.9 2 2 2h14c1.1 0 2-.9 2-2V5c0-1.1-.9-2-2-2zM9 17H7v-7h2v7zm4 0h-2V7h2v10zm4 0h-2v-4h2v4z\"/>\n",
              "    </g>\n",
              "</svg>\n",
              "  </button>\n",
              "\n",
              "<style>\n",
              "  .colab-df-quickchart {\n",
              "      --bg-color: #E8F0FE;\n",
              "      --fill-color: #1967D2;\n",
              "      --hover-bg-color: #E2EBFA;\n",
              "      --hover-fill-color: #174EA6;\n",
              "      --disabled-fill-color: #AAA;\n",
              "      --disabled-bg-color: #DDD;\n",
              "  }\n",
              "\n",
              "  [theme=dark] .colab-df-quickchart {\n",
              "      --bg-color: #3B4455;\n",
              "      --fill-color: #D2E3FC;\n",
              "      --hover-bg-color: #434B5C;\n",
              "      --hover-fill-color: #FFFFFF;\n",
              "      --disabled-bg-color: #3B4455;\n",
              "      --disabled-fill-color: #666;\n",
              "  }\n",
              "\n",
              "  .colab-df-quickchart {\n",
              "    background-color: var(--bg-color);\n",
              "    border: none;\n",
              "    border-radius: 50%;\n",
              "    cursor: pointer;\n",
              "    display: none;\n",
              "    fill: var(--fill-color);\n",
              "    height: 32px;\n",
              "    padding: 0;\n",
              "    width: 32px;\n",
              "  }\n",
              "\n",
              "  .colab-df-quickchart:hover {\n",
              "    background-color: var(--hover-bg-color);\n",
              "    box-shadow: 0 1px 2px rgba(60, 64, 67, 0.3), 0 1px 3px 1px rgba(60, 64, 67, 0.15);\n",
              "    fill: var(--button-hover-fill-color);\n",
              "  }\n",
              "\n",
              "  .colab-df-quickchart-complete:disabled,\n",
              "  .colab-df-quickchart-complete:disabled:hover {\n",
              "    background-color: var(--disabled-bg-color);\n",
              "    fill: var(--disabled-fill-color);\n",
              "    box-shadow: none;\n",
              "  }\n",
              "\n",
              "  .colab-df-spinner {\n",
              "    border: 2px solid var(--fill-color);\n",
              "    border-color: transparent;\n",
              "    border-bottom-color: var(--fill-color);\n",
              "    animation:\n",
              "      spin 1s steps(1) infinite;\n",
              "  }\n",
              "\n",
              "  @keyframes spin {\n",
              "    0% {\n",
              "      border-color: transparent;\n",
              "      border-bottom-color: var(--fill-color);\n",
              "      border-left-color: var(--fill-color);\n",
              "    }\n",
              "    20% {\n",
              "      border-color: transparent;\n",
              "      border-left-color: var(--fill-color);\n",
              "      border-top-color: var(--fill-color);\n",
              "    }\n",
              "    30% {\n",
              "      border-color: transparent;\n",
              "      border-left-color: var(--fill-color);\n",
              "      border-top-color: var(--fill-color);\n",
              "      border-right-color: var(--fill-color);\n",
              "    }\n",
              "    40% {\n",
              "      border-color: transparent;\n",
              "      border-right-color: var(--fill-color);\n",
              "      border-top-color: var(--fill-color);\n",
              "    }\n",
              "    60% {\n",
              "      border-color: transparent;\n",
              "      border-right-color: var(--fill-color);\n",
              "    }\n",
              "    80% {\n",
              "      border-color: transparent;\n",
              "      border-right-color: var(--fill-color);\n",
              "      border-bottom-color: var(--fill-color);\n",
              "    }\n",
              "    90% {\n",
              "      border-color: transparent;\n",
              "      border-bottom-color: var(--fill-color);\n",
              "    }\n",
              "  }\n",
              "</style>\n",
              "\n",
              "  <script>\n",
              "    async function quickchart(key) {\n",
              "      const quickchartButtonEl =\n",
              "        document.querySelector('#' + key + ' button');\n",
              "      quickchartButtonEl.disabled = true;  // To prevent multiple clicks.\n",
              "      quickchartButtonEl.classList.add('colab-df-spinner');\n",
              "      try {\n",
              "        const charts = await google.colab.kernel.invokeFunction(\n",
              "            'suggestCharts', [key], {});\n",
              "      } catch (error) {\n",
              "        console.error('Error during call to suggestCharts:', error);\n",
              "      }\n",
              "      quickchartButtonEl.classList.remove('colab-df-spinner');\n",
              "      quickchartButtonEl.classList.add('colab-df-quickchart-complete');\n",
              "    }\n",
              "    (() => {\n",
              "      let quickchartButtonEl =\n",
              "        document.querySelector('#df-778072e5-ccc6-4cb3-82fd-f7d2b1a9f7f9 button');\n",
              "      quickchartButtonEl.style.display =\n",
              "        google.colab.kernel.accessAllowed ? 'block' : 'none';\n",
              "    })();\n",
              "  </script>\n",
              "</div>\n",
              "\n",
              "  <div id=\"id_bef96587-a59d-460f-80a2-479c20222d02\">\n",
              "    <style>\n",
              "      .colab-df-generate {\n",
              "        background-color: #E8F0FE;\n",
              "        border: none;\n",
              "        border-radius: 50%;\n",
              "        cursor: pointer;\n",
              "        display: none;\n",
              "        fill: #1967D2;\n",
              "        height: 32px;\n",
              "        padding: 0 0 0 0;\n",
              "        width: 32px;\n",
              "      }\n",
              "\n",
              "      .colab-df-generate:hover {\n",
              "        background-color: #E2EBFA;\n",
              "        box-shadow: 0px 1px 2px rgba(60, 64, 67, 0.3), 0px 1px 3px 1px rgba(60, 64, 67, 0.15);\n",
              "        fill: #174EA6;\n",
              "      }\n",
              "\n",
              "      [theme=dark] .colab-df-generate {\n",
              "        background-color: #3B4455;\n",
              "        fill: #D2E3FC;\n",
              "      }\n",
              "\n",
              "      [theme=dark] .colab-df-generate:hover {\n",
              "        background-color: #434B5C;\n",
              "        box-shadow: 0px 1px 3px 1px rgba(0, 0, 0, 0.15);\n",
              "        filter: drop-shadow(0px 1px 2px rgba(0, 0, 0, 0.3));\n",
              "        fill: #FFFFFF;\n",
              "      }\n",
              "    </style>\n",
              "    <button class=\"colab-df-generate\" onclick=\"generateWithVariable('metrics_df')\"\n",
              "            title=\"Generate code using this dataframe.\"\n",
              "            style=\"display:none;\">\n",
              "\n",
              "  <svg xmlns=\"http://www.w3.org/2000/svg\" height=\"24px\"viewBox=\"0 0 24 24\"\n",
              "       width=\"24px\">\n",
              "    <path d=\"M7,19H8.4L18.45,9,17,7.55,7,17.6ZM5,21V16.75L18.45,3.32a2,2,0,0,1,2.83,0l1.4,1.43a1.91,1.91,0,0,1,.58,1.4,1.91,1.91,0,0,1-.58,1.4L9.25,21ZM18.45,9,17,7.55Zm-12,3A5.31,5.31,0,0,0,4.9,8.1,5.31,5.31,0,0,0,1,6.5,5.31,5.31,0,0,0,4.9,4.9,5.31,5.31,0,0,0,6.5,1,5.31,5.31,0,0,0,8.1,4.9,5.31,5.31,0,0,0,12,6.5,5.46,5.46,0,0,0,6.5,12Z\"/>\n",
              "  </svg>\n",
              "    </button>\n",
              "    <script>\n",
              "      (() => {\n",
              "      const buttonEl =\n",
              "        document.querySelector('#id_bef96587-a59d-460f-80a2-479c20222d02 button.colab-df-generate');\n",
              "      buttonEl.style.display =\n",
              "        google.colab.kernel.accessAllowed ? 'block' : 'none';\n",
              "\n",
              "      buttonEl.onclick = () => {\n",
              "        google.colab.notebook.generateWithVariable('metrics_df');\n",
              "      }\n",
              "      })();\n",
              "    </script>\n",
              "  </div>\n",
              "\n",
              "    </div>\n",
              "  </div>\n"
            ],
            "application/vnd.google.colaboratory.intrinsic+json": {
              "type": "dataframe",
              "variable_name": "metrics_df",
              "summary": "{\n  \"name\": \"metrics_df\",\n  \"rows\": 4,\n  \"fields\": [\n    {\n      \"column\": \"accuracy\",\n      \"properties\": {\n        \"dtype\": \"number\",\n        \"std\": 0.30066592756745814,\n        \"min\": 0.34,\n        \"max\": 1.0,\n        \"num_unique_values\": 4,\n        \"samples\": [\n          0.5,\n          0.34,\n          1.0\n        ],\n        \"semantic_type\": \"\",\n        \"description\": \"\"\n      }\n    },\n    {\n      \"column\": \"precision\",\n      \"properties\": {\n        \"dtype\": \"number\",\n        \"std\": 0.2978605906502983,\n        \"min\": 0.3472,\n        \"max\": 1.0,\n        \"num_unique_values\": 4,\n        \"samples\": [\n          0.5172413793103449,\n          0.3472,\n          1.0\n        ],\n        \"semantic_type\": \"\",\n        \"description\": \"\"\n      }\n    },\n    {\n      \"column\": \"recall\",\n      \"properties\": {\n        \"dtype\": \"number\",\n        \"std\": 0.30066592756745814,\n        \"min\": 0.34,\n        \"max\": 1.0,\n        \"num_unique_values\": 4,\n        \"samples\": [\n          0.5,\n          0.34,\n          1.0\n        ],\n        \"semantic_type\": \"\",\n        \"description\": \"\"\n      }\n    },\n    {\n      \"column\": \"f1\",\n      \"properties\": {\n        \"dtype\": \"number\",\n        \"std\": 0.30018119849033914,\n        \"min\": 0.3423845845042153,\n        \"max\": 1.0,\n        \"num_unique_values\": 4,\n        \"samples\": [\n          0.4985994397759103,\n          0.3423845845042153,\n          1.0\n        ],\n        \"semantic_type\": \"\",\n        \"description\": \"\"\n      }\n    }\n  ]\n}"
            }
          },
          "metadata": {},
          "execution_count": 43
        }
      ]
    },
    {
      "cell_type": "code",
      "source": [
        "# prompt: save metrics_df as csv\n",
        "\n",
        "# Save the DataFrame to a CSV file\n",
        "metrics_df.to_csv('metrics.csv')\n"
      ],
      "metadata": {
        "id": "6z8kAk3yYFiP"
      },
      "execution_count": null,
      "outputs": []
    },
    {
      "cell_type": "code",
      "source": [
        "import matplotlib.pyplot as plt\n",
        "import seaborn as sns\n",
        "\n",
        "# Set the style of the visualization\n",
        "sns.set(style=\"whitegrid\")\n",
        "\n",
        "# Plot Accuracy\n",
        "plt.figure(figsize=(10, 6))\n",
        "sns.barplot(x=metrics_df.index, y=metrics_df['accuracy'], palette='viridis')\n",
        "plt.title('Model Accuracy Comparison')\n",
        "plt.xlabel('Model')\n",
        "plt.ylabel('Accuracy')\n",
        "plt.ylim(0, 1)\n",
        "plt.show()\n",
        "\n",
        "# Plot Precision\n",
        "plt.figure(figsize=(10, 6))\n",
        "sns.barplot(x=metrics_df.index, y=metrics_df['precision'], palette='viridis')\n",
        "plt.title('Model Precision Comparison')\n",
        "plt.xlabel('Model')\n",
        "plt.ylabel('Precision')\n",
        "plt.ylim(0, 1)\n",
        "plt.show()\n",
        "\n",
        "# Plot Recall\n",
        "plt.figure(figsize=(10, 6))\n",
        "sns.barplot(x=metrics_df.index, y=metrics_df['recall'], palette='viridis')\n",
        "plt.title('Model Recall Comparison')\n",
        "plt.xlabel('Model')\n",
        "plt.ylabel('Recall')\n",
        "plt.ylim(0, 1)\n",
        "plt.show()\n",
        "\n",
        "# Plot F1-Score\n",
        "plt.figure(figsize=(10, 6))\n",
        "sns.barplot(x=metrics_df.index, y=metrics_df['f1'], palette='viridis')\n",
        "plt.title('Model F1-Score Comparison')\n",
        "plt.xlabel('Model')\n",
        "plt.ylabel('F1-Score')\n",
        "plt.ylim(0, 1)\n",
        "plt.show()\n"
      ],
      "metadata": {
        "colab": {
          "base_uri": "https://localhost:8080/",
          "height": 1000
        },
        "id": "QxXADc-kYBAs",
        "outputId": "a3fcfc29-62de-494e-b24b-c6a222c09443"
      },
      "execution_count": null,
      "outputs": [
        {
          "output_type": "stream",
          "name": "stderr",
          "text": [
            "<ipython-input-44-1c57bca1bc28>:9: FutureWarning: \n",
            "\n",
            "Passing `palette` without assigning `hue` is deprecated and will be removed in v0.14.0. Assign the `x` variable to `hue` and set `legend=False` for the same effect.\n",
            "\n",
            "  sns.barplot(x=metrics_df.index, y=metrics_df['accuracy'], palette='viridis')\n"
          ]
        },
        {
          "output_type": "display_data",
          "data": {
            "text/plain": [
              "<Figure size 1000x600 with 1 Axes>"
            ],
            "image/png": "[encoded data removed]"
          },
          "metadata": {}
        },
        {
          "output_type": "stream",
          "name": "stderr",
          "text": [
            "<ipython-input-44-1c57bca1bc28>:18: FutureWarning: \n",
            "\n",
            "Passing `palette` without assigning `hue` is deprecated and will be removed in v0.14.0. Assign the `x` variable to `hue` and set `legend=False` for the same effect.\n",
            "\n",
            "  sns.barplot(x=metrics_df.index, y=metrics_df['precision'], palette='viridis')\n"
          ]
        },
        {
          "output_type": "display_data",
          "data": {
            "text/plain": [
              "<Figure size 1000x600 with 1 Axes>"
            ],
            "image/png": "[encoded data removed]"
          },
          "metadata": {}
        },
        {
          "output_type": "stream",
          "name": "stderr",
          "text": [
            "<ipython-input-44-1c57bca1bc28>:27: FutureWarning: \n",
            "\n",
            "Passing `palette` without assigning `hue` is deprecated and will be removed in v0.14.0. Assign the `x` variable to `hue` and set `legend=False` for the same effect.\n",
            "\n",
            "  sns.barplot(x=metrics_df.index, y=metrics_df['recall'], palette='viridis')\n"
          ]
        },
        {
          "output_type": "display_data",
          "data": {
            "text/plain": [
              "<Figure size 1000x600 with 1 Axes>"
            ],
            "image/png": "[encoded data removed]"
          },
          "metadata": {}
        },
        {
          "output_type": "stream",
          "name": "stderr",
          "text": [
            "<ipython-input-44-1c57bca1bc28>:36: FutureWarning: \n",
            "\n",
            "Passing `palette` without assigning `hue` is deprecated and will be removed in v0.14.0. Assign the `x` variable to `hue` and set `legend=False` for the same effect.\n",
            "\n",
            "  sns.barplot(x=metrics_df.index, y=metrics_df['f1'], palette='viridis')\n"
          ]
        },
        {
          "output_type": "display_data",
          "data": {
            "text/plain": [
              "<Figure size 1000x600 with 1 Axes>"
            ],
            "image/png": "[encoded data removed]"
          },
          "metadata": {}
        }
      ]
    },
    {
      "cell_type": "code",
      "source": [
        "import matplotlib.pyplot as plt\n",
        "\n",
        "# Plot grouped bar chart\n",
        "metrics_df.plot(kind='bar', figsize=(12, 8), width=0.8)\n",
        "plt.title('Performance Metrics Comparison')\n",
        "plt.xlabel('Model')\n",
        "plt.ylabel('Score')\n",
        "plt.ylim(0, 1)\n",
        "plt.xticks(rotation=45)\n",
        "plt.legend(title='Metric')\n",
        "plt.tight_layout()\n",
        "plt.show()\n"
      ],
      "metadata": {
        "colab": {
          "base_uri": "https://localhost:8080/",
          "height": 676
        },
        "id": "Vd1HZdjlYul9",
        "outputId": "a284a77a-6cf9-4b90-8af2-fa0951c26a79"
      },
      "execution_count": null,
      "outputs": [
        {
          "output_type": "display_data",
          "data": {
            "text/plain": [
              "<Figure size 1200x800 with 1 Axes>"
            ],
            "image/png": "[encoded data removed]"
          },
          "metadata": {}
        }
      ]
    },
    {
      "cell_type": "code",
      "source": [
        "import matplotlib.pyplot as plt\n",
        "\n",
        "# Define your data\n",
        "data = {\n",
        "    'Model': ['Our_model', 'ACBiLSTM', 'IWV', 'ARC'],\n",
        "    'Accuracy': [1.00, 0.50, 0.40, 0.34],\n",
        "    'Precision': [1.000000, 0.517241, 0.40, 0.347200],\n",
        "    'Recall': [1.00, 0.50, 0.40, 0.34],\n",
        "    'F1-Score': [1.000000, 0.498599, 0.40, 0.342385]\n",
        "}\n",
        "\n",
        "# Convert to DataFrame\n",
        "import pandas as pd\n",
        "metrics_df = pd.DataFrame(data)\n",
        "metrics_df.set_index('Model', inplace=True)\n",
        "\n",
        "# Plotting\n",
        "plt.figure(figsize=(12, 8))\n",
        "\n",
        "# Plot each metric\n",
        "for metric in metrics_df.columns:\n",
        "    plt.plot(metrics_df.index, metrics_df[metric], marker='o', label=metric)\n",
        "\n",
        "plt.title('Performance Metrics of Models')\n",
        "plt.xlabel('Model')\n",
        "plt.ylabel('Score')\n",
        "plt.ylim(0, 1)\n",
        "plt.legend(title='Metric')\n",
        "plt.grid(True)\n",
        "plt.xticks(rotation=45)\n",
        "plt.tight_layout()\n",
        "plt.show()\n"
      ],
      "metadata": {
        "colab": {
          "base_uri": "https://localhost:8080/",
          "height": 676
        },
        "id": "XFgTZUtWaHA0",
        "outputId": "af681cae-a0fb-4a38-f26f-3159f9a579e4"
      },
      "execution_count": null,
      "outputs": [
        {
          "output_type": "display_data",
          "data": {
            "text/plain": [
              "<Figure size 1200x800 with 1 Axes>"
            ],
            "image/png": "[encoded data removed]"
          },
          "metadata": {}
        }
      ]
    },
    {
      "cell_type": "code",
      "source": [
        "import seaborn as sns\n",
        "import matplotlib.pyplot as plt\n",
        "\n",
        "# Melt the DataFrame to long format\n",
        "metrics_long = metrics_df.T.reset_index().melt(id_vars='index', var_name='Model', value_name='Score')\n",
        "metrics_long.rename(columns={'index': 'Metric'}, inplace=True)\n",
        "\n",
        "# Plotting\n",
        "plt.figure(figsize=(12, 8))\n",
        "sns.lineplot(data=metrics_long, x='Score', y='Metric', hue='Model', marker='o')\n",
        "plt.title('Performance Metrics of Models')\n",
        "plt.xlabel('Score')\n",
        "plt.ylabel('Metric')\n",
        "plt.ylim(0, 1)\n",
        "plt.grid(True)\n",
        "plt.tight_layout()\n",
        "plt.show()\n"
      ],
      "metadata": {
        "colab": {
          "base_uri": "https://localhost:8080/",
          "height": 676
        },
        "id": "G1fm27ASaZy3",
        "outputId": "b718e529-ea64-4c07-828f-942d69ebb70b"
      },
      "execution_count": null,
      "outputs": [
        {
          "output_type": "display_data",
          "data": {
            "text/plain": [
              "<Figure size 1200x800 with 1 Axes>"
            ],
            "image/png": "[encoded data removed]"
          },
          "metadata": {}
        }
      ]
    },
    {
      "cell_type": "code",
      "source": [
        "import pandas as pd\n",
        "import matplotlib.pyplot as plt\n",
        "\n",
        "# Define the metrics data\n",
        "data = {\n",
        "    'Model': ['Our_model', 'ACBiLSTM', 'IWV', 'ARC'],\n",
        "    'Accuracy': [1.00, 0.50, 0.40, 0.34],\n",
        "    'Precision': [1.000000, 0.517241, 0.40, 0.347200],\n",
        "    'Recall': [1.00, 0.50, 0.40, 0.34],\n",
        "    'F1-Score': [1.000000, 0.498599, 0.40, 0.342385]\n",
        "}\n",
        "\n",
        "# Create DataFrame\n",
        "metrics_df = pd.DataFrame(data)\n",
        "metrics_df.set_index('Model', inplace=True)\n",
        "\n",
        "# Reformat DataFrame for plotting\n",
        "metrics_df = metrics_df.T\n"
      ],
      "metadata": {
        "id": "Pqg81iOvbCOv"
      },
      "execution_count": null,
      "outputs": []
    },
    {
      "cell_type": "code",
      "source": [
        "import matplotlib.pyplot as plt\n",
        "\n",
        "# Create the plot\n",
        "plt.figure(figsize=(12, 8))\n",
        "\n",
        "# Plot each model with a different color\n",
        "for model in metrics_df.columns:\n",
        "    plt.plot(metrics_df.index, metrics_df[model], marker='o', label=model)\n",
        "\n",
        "# Add titles and labels\n",
        "plt.title('Performance Metrics of Models')\n",
        "plt.xlabel('Metric')\n",
        "plt.ylabel('Score')\n",
        "plt.ylim(0, 1.2)  # Assuming scores are between 0 and 1\n",
        "plt.legend(title='Model')\n",
        "plt.grid(True)\n",
        "plt.tight_layout()\n",
        "\n",
        "# Show the plot\n",
        "plt.show()\n"
      ],
      "metadata": {
        "colab": {
          "base_uri": "https://localhost:8080/",
          "height": 676
        },
        "id": "GfotaLhmbFk-",
        "outputId": "e3e78af4-ccbc-4948-feb2-cc36993d5764"
      },
      "execution_count": null,
      "outputs": [
        {
          "output_type": "display_data",
          "data": {
            "text/plain": [
              "<Figure size 1200x800 with 1 Axes>"
            ],
            "image/png": "[encoded data removed]"
          },
          "metadata": {}
        }
      ]
    },
    {
      "cell_type": "code",
      "source": [
        "import seaborn as sns\n",
        "import matplotlib.pyplot as plt\n",
        "\n",
        "# Melt the DataFrame to long format\n",
        "metrics_long = metrics_df.reset_index().melt(id_vars='Model', var_name='Metric', value_name='Score')\n",
        "\n",
        "# Plotting\n",
        "plt.figure(figsize=(12, 8))\n",
        "sns.lineplot(data=metrics_long, x='Model', y='Score', hue='Metric', marker='o')\n",
        "plt.title('Performance Metrics of Models')\n",
        "plt.xlabel('Model')\n",
        "plt.ylabel('Score')\n",
        "plt.ylim(0, 1)\n",
        "plt.grid(True)\n",
        "plt.xticks(rotation=45)\n",
        "plt.tight_layout()\n",
        "plt.show()\n"
      ],
      "metadata": {
        "colab": {
          "base_uri": "https://localhost:8080/",
          "height": 478
        },
        "id": "BlVz0Fw_aCAL",
        "outputId": "137b3d4c-6604-4e96-b655-50fa211b1d36"
      },
      "execution_count": null,
      "outputs": [
        {
          "output_type": "error",
          "ename": "KeyError",
          "evalue": "'Model'",
          "traceback": [
            "\u001b[0;31m---------------------------------------------------------------------------\u001b[0m",
            "\u001b[0;31mKeyError\u001b[0m                                  Traceback (most recent call last)",
            "\u001b[0;32m/usr/local/lib/python3.10/dist-packages/pandas/core/indexes/base.py\u001b[0m in \u001b[0;36mget_loc\u001b[0;34m(self, key)\u001b[0m\n\u001b[1;32m   3652\u001b[0m         \u001b[0;32mtry\u001b[0m\u001b[0;34m:\u001b[0m\u001b[0;34m\u001b[0m\u001b[0;34m\u001b[0m\u001b[0m\n\u001b[0;32m-> 3653\u001b[0;31m             \u001b[0;32mreturn\u001b[0m \u001b[0mself\u001b[0m\u001b[0;34m.\u001b[0m\u001b[0m_engine\u001b[0m\u001b[0;34m.\u001b[0m\u001b[0mget_loc\u001b[0m\u001b[0;34m(\u001b[0m\u001b[0mcasted_key\u001b[0m\u001b[0;34m)\u001b[0m\u001b[0;34m\u001b[0m\u001b[0;34m\u001b[0m\u001b[0m\n\u001b[0m\u001b[1;32m   3654\u001b[0m         \u001b[0;32mexcept\u001b[0m \u001b[0mKeyError\u001b[0m \u001b[0;32mas\u001b[0m \u001b[0merr\u001b[0m\u001b[0;34m:\u001b[0m\u001b[0;34m\u001b[0m\u001b[0;34m\u001b[0m\u001b[0m\n",
            "\u001b[0;32m/usr/local/lib/python3.10/dist-packages/pandas/_libs/index.pyx\u001b[0m in \u001b[0;36mpandas._libs.index.IndexEngine.get_loc\u001b[0;34m()\u001b[0m\n",
            "\u001b[0;32m/usr/local/lib/python3.10/dist-packages/pandas/_libs/index.pyx\u001b[0m in \u001b[0;36mpandas._libs.index.IndexEngine.get_loc\u001b[0;34m()\u001b[0m\n",
            "\u001b[0;32mpandas/_libs/hashtable_class_helper.pxi\u001b[0m in \u001b[0;36mpandas._libs.hashtable.PyObjectHashTable.get_item\u001b[0;34m()\u001b[0m\n",
            "\u001b[0;32mpandas/_libs/hashtable_class_helper.pxi\u001b[0m in \u001b[0;36mpandas._libs.hashtable.PyObjectHashTable.get_item\u001b[0;34m()\u001b[0m\n",
            "\u001b[0;31mKeyError\u001b[0m: 'Model'",
            "\nThe above exception was the direct cause of the following exception:\n",
            "\u001b[0;31mKeyError\u001b[0m                                  Traceback (most recent call last)",
            "\u001b[0;32m<ipython-input-49-e1246bdf5fb5>\u001b[0m in \u001b[0;36m<cell line: 5>\u001b[0;34m()\u001b[0m\n\u001b[1;32m      3\u001b[0m \u001b[0;34m\u001b[0m\u001b[0m\n\u001b[1;32m      4\u001b[0m \u001b[0;31m# Melt the DataFrame to long format\u001b[0m\u001b[0;34m\u001b[0m\u001b[0;34m\u001b[0m\u001b[0m\n\u001b[0;32m----> 5\u001b[0;31m \u001b[0mmetrics_long\u001b[0m \u001b[0;34m=\u001b[0m \u001b[0mmetrics_df\u001b[0m\u001b[0;34m.\u001b[0m\u001b[0mreset_index\u001b[0m\u001b[0;34m(\u001b[0m\u001b[0;34m)\u001b[0m\u001b[0;34m.\u001b[0m\u001b[0mmelt\u001b[0m\u001b[0;34m(\u001b[0m\u001b[0mid_vars\u001b[0m\u001b[0;34m=\u001b[0m\u001b[0;34m'Model'\u001b[0m\u001b[0;34m,\u001b[0m \u001b[0mvar_name\u001b[0m\u001b[0;34m=\u001b[0m\u001b[0;34m'Metric'\u001b[0m\u001b[0;34m,\u001b[0m \u001b[0mvalue_name\u001b[0m\u001b[0;34m=\u001b[0m\u001b[0;34m'Score'\u001b[0m\u001b[0;34m)\u001b[0m\u001b[0;34m\u001b[0m\u001b[0;34m\u001b[0m\u001b[0m\n\u001b[0m\u001b[1;32m      6\u001b[0m \u001b[0;34m\u001b[0m\u001b[0m\n\u001b[1;32m      7\u001b[0m \u001b[0;31m# Plotting\u001b[0m\u001b[0;34m\u001b[0m\u001b[0;34m\u001b[0m\u001b[0m\n",
            "\u001b[0;32m/usr/local/lib/python3.10/dist-packages/pandas/core/frame.py\u001b[0m in \u001b[0;36mmelt\u001b[0;34m(self, id_vars, value_vars, var_name, value_name, col_level, ignore_index)\u001b[0m\n\u001b[1;32m   8973\u001b[0m         \u001b[0mignore_index\u001b[0m\u001b[0;34m:\u001b[0m \u001b[0mbool\u001b[0m \u001b[0;34m=\u001b[0m \u001b[0;32mTrue\u001b[0m\u001b[0;34m,\u001b[0m\u001b[0;34m\u001b[0m\u001b[0;34m\u001b[0m\u001b[0m\n\u001b[1;32m   8974\u001b[0m     ) -> DataFrame:\n\u001b[0;32m-> 8975\u001b[0;31m         return melt(\n\u001b[0m\u001b[1;32m   8976\u001b[0m             \u001b[0mself\u001b[0m\u001b[0;34m,\u001b[0m\u001b[0;34m\u001b[0m\u001b[0;34m\u001b[0m\u001b[0m\n\u001b[1;32m   8977\u001b[0m             \u001b[0mid_vars\u001b[0m\u001b[0;34m=\u001b[0m\u001b[0mid_vars\u001b[0m\u001b[0;34m,\u001b[0m\u001b[0;34m\u001b[0m\u001b[0;34m\u001b[0m\u001b[0m\n",
            "\u001b[0;32m/usr/local/lib/python3.10/dist-packages/pandas/core/reshape/melt.py\u001b[0m in \u001b[0;36mmelt\u001b[0;34m(frame, id_vars, value_vars, var_name, value_name, col_level, ignore_index)\u001b[0m\n\u001b[1;32m    126\u001b[0m     \u001b[0mmdata\u001b[0m\u001b[0;34m:\u001b[0m \u001b[0mdict\u001b[0m\u001b[0;34m[\u001b[0m\u001b[0mHashable\u001b[0m\u001b[0;34m,\u001b[0m \u001b[0mAnyArrayLike\u001b[0m\u001b[0;34m]\u001b[0m \u001b[0;34m=\u001b[0m \u001b[0;34m{\u001b[0m\u001b[0;34m}\u001b[0m\u001b[0;34m\u001b[0m\u001b[0;34m\u001b[0m\u001b[0m\n\u001b[1;32m    127\u001b[0m     \u001b[0;32mfor\u001b[0m \u001b[0mcol\u001b[0m \u001b[0;32min\u001b[0m \u001b[0mid_vars\u001b[0m\u001b[0;34m:\u001b[0m\u001b[0;34m\u001b[0m\u001b[0;34m\u001b[0m\u001b[0m\n\u001b[0;32m--> 128\u001b[0;31m         \u001b[0mid_data\u001b[0m \u001b[0;34m=\u001b[0m \u001b[0mframe\u001b[0m\u001b[0;34m.\u001b[0m\u001b[0mpop\u001b[0m\u001b[0;34m(\u001b[0m\u001b[0mcol\u001b[0m\u001b[0;34m)\u001b[0m\u001b[0;34m\u001b[0m\u001b[0;34m\u001b[0m\u001b[0m\n\u001b[0m\u001b[1;32m    129\u001b[0m         \u001b[0;32mif\u001b[0m \u001b[0mis_extension_array_dtype\u001b[0m\u001b[0;34m(\u001b[0m\u001b[0mid_data\u001b[0m\u001b[0;34m)\u001b[0m\u001b[0;34m:\u001b[0m\u001b[0;34m\u001b[0m\u001b[0;34m\u001b[0m\u001b[0m\n\u001b[1;32m    130\u001b[0m             \u001b[0;32mif\u001b[0m \u001b[0mK\u001b[0m \u001b[0;34m>\u001b[0m \u001b[0;36m0\u001b[0m\u001b[0;34m:\u001b[0m\u001b[0;34m\u001b[0m\u001b[0;34m\u001b[0m\u001b[0m\n",
            "\u001b[0;32m/usr/local/lib/python3.10/dist-packages/pandas/core/frame.py\u001b[0m in \u001b[0;36mpop\u001b[0;34m(self, item)\u001b[0m\n\u001b[1;32m   5541\u001b[0m         \u001b[0;36m3\u001b[0m  \u001b[0mmonkey\u001b[0m        \u001b[0mNaN\u001b[0m\u001b[0;34m\u001b[0m\u001b[0;34m\u001b[0m\u001b[0m\n\u001b[1;32m   5542\u001b[0m         \"\"\"\n\u001b[0;32m-> 5543\u001b[0;31m         \u001b[0;32mreturn\u001b[0m \u001b[0msuper\u001b[0m\u001b[0;34m(\u001b[0m\u001b[0;34m)\u001b[0m\u001b[0;34m.\u001b[0m\u001b[0mpop\u001b[0m\u001b[0;34m(\u001b[0m\u001b[0mitem\u001b[0m\u001b[0;34m=\u001b[0m\u001b[0mitem\u001b[0m\u001b[0;34m)\u001b[0m\u001b[0;34m\u001b[0m\u001b[0;34m\u001b[0m\u001b[0m\n\u001b[0m\u001b[1;32m   5544\u001b[0m \u001b[0;34m\u001b[0m\u001b[0m\n\u001b[1;32m   5545\u001b[0m     \u001b[0;34m@\u001b[0m\u001b[0moverload\u001b[0m\u001b[0;34m\u001b[0m\u001b[0;34m\u001b[0m\u001b[0m\n",
            "\u001b[0;32m/usr/local/lib/python3.10/dist-packages/pandas/core/generic.py\u001b[0m in \u001b[0;36mpop\u001b[0;34m(self, item)\u001b[0m\n\u001b[1;32m    851\u001b[0m \u001b[0;34m\u001b[0m\u001b[0m\n\u001b[1;32m    852\u001b[0m     \u001b[0;32mdef\u001b[0m \u001b[0mpop\u001b[0m\u001b[0;34m(\u001b[0m\u001b[0mself\u001b[0m\u001b[0;34m,\u001b[0m \u001b[0mitem\u001b[0m\u001b[0;34m:\u001b[0m \u001b[0mHashable\u001b[0m\u001b[0;34m)\u001b[0m \u001b[0;34m->\u001b[0m \u001b[0mSeries\u001b[0m \u001b[0;34m|\u001b[0m \u001b[0mAny\u001b[0m\u001b[0;34m:\u001b[0m\u001b[0;34m\u001b[0m\u001b[0;34m\u001b[0m\u001b[0m\n\u001b[0;32m--> 853\u001b[0;31m         \u001b[0mresult\u001b[0m \u001b[0;34m=\u001b[0m \u001b[0mself\u001b[0m\u001b[0;34m[\u001b[0m\u001b[0mitem\u001b[0m\u001b[0;34m]\u001b[0m\u001b[0;34m\u001b[0m\u001b[0;34m\u001b[0m\u001b[0m\n\u001b[0m\u001b[1;32m    854\u001b[0m         \u001b[0;32mdel\u001b[0m \u001b[0mself\u001b[0m\u001b[0;34m[\u001b[0m\u001b[0mitem\u001b[0m\u001b[0;34m]\u001b[0m\u001b[0;34m\u001b[0m\u001b[0;34m\u001b[0m\u001b[0m\n\u001b[1;32m    855\u001b[0m \u001b[0;34m\u001b[0m\u001b[0m\n",
            "\u001b[0;32m/usr/local/lib/python3.10/dist-packages/pandas/core/frame.py\u001b[0m in \u001b[0;36m__getitem__\u001b[0;34m(self, key)\u001b[0m\n\u001b[1;32m   3759\u001b[0m             \u001b[0;32mif\u001b[0m \u001b[0mself\u001b[0m\u001b[0;34m.\u001b[0m\u001b[0mcolumns\u001b[0m\u001b[0;34m.\u001b[0m\u001b[0mnlevels\u001b[0m \u001b[0;34m>\u001b[0m \u001b[0;36m1\u001b[0m\u001b[0;34m:\u001b[0m\u001b[0;34m\u001b[0m\u001b[0;34m\u001b[0m\u001b[0m\n\u001b[1;32m   3760\u001b[0m                 \u001b[0;32mreturn\u001b[0m \u001b[0mself\u001b[0m\u001b[0;34m.\u001b[0m\u001b[0m_getitem_multilevel\u001b[0m\u001b[0;34m(\u001b[0m\u001b[0mkey\u001b[0m\u001b[0;34m)\u001b[0m\u001b[0;34m\u001b[0m\u001b[0;34m\u001b[0m\u001b[0m\n\u001b[0;32m-> 3761\u001b[0;31m             \u001b[0mindexer\u001b[0m \u001b[0;34m=\u001b[0m \u001b[0mself\u001b[0m\u001b[0;34m.\u001b[0m\u001b[0mcolumns\u001b[0m\u001b[0;34m.\u001b[0m\u001b[0mget_loc\u001b[0m\u001b[0;34m(\u001b[0m\u001b[0mkey\u001b[0m\u001b[0;34m)\u001b[0m\u001b[0;34m\u001b[0m\u001b[0;34m\u001b[0m\u001b[0m\n\u001b[0m\u001b[1;32m   3762\u001b[0m             \u001b[0;32mif\u001b[0m \u001b[0mis_integer\u001b[0m\u001b[0;34m(\u001b[0m\u001b[0mindexer\u001b[0m\u001b[0;34m)\u001b[0m\u001b[0;34m:\u001b[0m\u001b[0;34m\u001b[0m\u001b[0;34m\u001b[0m\u001b[0m\n\u001b[1;32m   3763\u001b[0m                 \u001b[0mindexer\u001b[0m \u001b[0;34m=\u001b[0m \u001b[0;34m[\u001b[0m\u001b[0mindexer\u001b[0m\u001b[0;34m]\u001b[0m\u001b[0;34m\u001b[0m\u001b[0;34m\u001b[0m\u001b[0m\n",
            "\u001b[0;32m/usr/local/lib/python3.10/dist-packages/pandas/core/indexes/base.py\u001b[0m in \u001b[0;36mget_loc\u001b[0;34m(self, key)\u001b[0m\n\u001b[1;32m   3653\u001b[0m             \u001b[0;32mreturn\u001b[0m \u001b[0mself\u001b[0m\u001b[0;34m.\u001b[0m\u001b[0m_engine\u001b[0m\u001b[0;34m.\u001b[0m\u001b[0mget_loc\u001b[0m\u001b[0;34m(\u001b[0m\u001b[0mcasted_key\u001b[0m\u001b[0;34m)\u001b[0m\u001b[0;34m\u001b[0m\u001b[0;34m\u001b[0m\u001b[0m\n\u001b[1;32m   3654\u001b[0m         \u001b[0;32mexcept\u001b[0m \u001b[0mKeyError\u001b[0m \u001b[0;32mas\u001b[0m \u001b[0merr\u001b[0m\u001b[0;34m:\u001b[0m\u001b[0;34m\u001b[0m\u001b[0;34m\u001b[0m\u001b[0m\n\u001b[0;32m-> 3655\u001b[0;31m             \u001b[0;32mraise\u001b[0m \u001b[0mKeyError\u001b[0m\u001b[0;34m(\u001b[0m\u001b[0mkey\u001b[0m\u001b[0;34m)\u001b[0m \u001b[0;32mfrom\u001b[0m \u001b[0merr\u001b[0m\u001b[0;34m\u001b[0m\u001b[0;34m\u001b[0m\u001b[0m\n\u001b[0m\u001b[1;32m   3656\u001b[0m         \u001b[0;32mexcept\u001b[0m \u001b[0mTypeError\u001b[0m\u001b[0;34m:\u001b[0m\u001b[0;34m\u001b[0m\u001b[0;34m\u001b[0m\u001b[0m\n\u001b[1;32m   3657\u001b[0m             \u001b[0;31m# If we have a listlike key, _check_indexing_error will raise\u001b[0m\u001b[0;34m\u001b[0m\u001b[0;34m\u001b[0m\u001b[0m\n",
            "\u001b[0;31mKeyError\u001b[0m: 'Model'"
          ]
        }
      ]
    },
    {
      "cell_type": "code",
      "source": [
        "import seaborn as sns\n",
        "import matplotlib.pyplot as plt\n",
        "\n",
        "# Plot heatmap\n",
        "plt.figure(figsize=(10, 6))\n",
        "sns.heatmap(metrics_df, annot=True, cmap='viridis', fmt='.2f', cbar=True)\n",
        "plt.title('Performance Metrics Heatmap')\n",
        "plt.xlabel('Metric')\n",
        "plt.ylabel('Model')\n",
        "plt.show()\n"
      ],
      "metadata": {
        "colab": {
          "base_uri": "https://localhost:8080/",
          "height": 573
        },
        "id": "lk6VJRkjZKVW",
        "outputId": "53776f9c-162b-46f7-dc00-e6b027c73847"
      },
      "execution_count": null,
      "outputs": [
        {
          "output_type": "display_data",
          "data": {
            "text/plain": [
              "<Figure size 1000x600 with 2 Axes>"
            ],
            "image/png": "[encoded data removed]"
          },
          "metadata": {}
        }
      ]
    },
    {
      "cell_type": "code",
      "source": [
        "max_len = 100\n",
        "dataset_name = 'CD'\n",
        "\n",
        "loaded_our_model = model\n",
        "print('Our model loaded')\n",
        "#loaded_SSBED_model = load_model(path +  'SS-BED.hdf5')\n",
        "print('SS-BED model loaded')\n",
        "#loaded_ARC_model = load_model(path + 'ARC.hdf5', custom_objects={'AttentionWithContext': AttentionWithContext , \"tf\": tf})\n",
        "print('ARC model loaded')\n",
        "#loaded_HAN_model = load_model(path  + 'HAN.hdf5', custom_objects={'AttentionWithContext': AttentionWithContext})\n",
        "print('HAN model loaded')\n",
        "#loaded_CRNN_model = load_model(path  + 'CRNN.hdf5')\n",
        "print('CRNN model loaded')\n",
        "#loaded_IWV_model = load_model(path  + 'IWV.hdf5')\n",
        "print('IWV model loaded')\n",
        "#loaded_ACBiLSTM_model = load_model(path  + 'AC_BiLSTM.hdf5', custom_objects={'AttentionWithContext': AttentionWithContext})\n",
        "print('AC-BiLSTM model loaded')\n",
        "\n",
        "sequences_test = tokenizer.texts_to_sequences(x_test)\n",
        "x_test_seq = pad_sequences(sequences_test, maxlen=max_len)\n",
        "\n",
        "yhat_our = loaded_our_model.predict(x_test_seq)\n",
        "print('our model complete!')\n",
        "\n",
        "#yhat_ssbed = loaded_SSBED_model.predict(x_test_seq)\n",
        "print('SS-BED model complete!')\n",
        "\n",
        "#yhat_arc = loaded_ARC_model.predict(x_test_seq)\n",
        "print('ARC model complete!')\n",
        "\n",
        "################################################################################\n",
        "x_test_seq_exp = np.expand_dims(x_test_seq, axis=1)\n",
        "y_test_exp = np.expand_dims(y_test, axis=1)\n",
        "\n",
        "#yhat_han = loaded_HAN_model.predict(x_test_seq_exp)\n",
        "print('HAN model complete!')\n",
        "################################################################################\n",
        "#yhat_crnn = loaded_CRNN_model.predict(x_test_seq)\n",
        "print('CRNN model complete!')\n",
        "\n",
        "#yhat_iwv = loaded_IWV_model.predict(x_test_seq)\n",
        "print('IWV model complete!')\n",
        "\n",
        "#yhat_acbilstm = loaded_ACBiLSTM_model.predict(x_test_seq)\n",
        "print('ACBiLSTM model complete!')\n",
        "\n",
        "fpr_our, tpr_our, threshold = roc_curve(y_test, yhat_our)\n",
        "roc_auc_our = auc(fpr_our, tpr_our)\n",
        "\n",
        "fpr_ssbed, tpr_ssbed, threshold = roc_curve(y_test, yhat_ssbed)\n",
        "roc_auc_ssbed = auc(fpr_ssbed, tpr_ssbed)\n",
        "\n",
        "fpr_arc, tpr_arc, threshold = roc_curve(y_test, yhat_arc)\n",
        "roc_auc_arc = auc(fpr_arc, tpr_arc)\n",
        "\n",
        "fpr_han, tpr_han, threshold = roc_curve(y_test_exp, yhat_han)\n",
        "roc_auc_han = auc(fpr_han, tpr_han)\n",
        "\n",
        "fpr_crn, tpr_crn, threshold = roc_curve(y_test, yhat_crnn)\n",
        "roc_auc_crn = auc(fpr_crn, tpr_crn)\n",
        "\n",
        "fpr_iwv, tpr_iwv, threshold = roc_curve(y_test, yhat_iwv)\n",
        "roc_auc_iwv = auc(fpr_iwv, tpr_iwv)\n",
        "\n",
        "fpr_acbilstm, tpr_acbilstm, threshold = roc_curve(y_test, yhat_acbilstm)\n",
        "roc_auc_acbilstm = auc(fpr_acbilstm, tpr_acbilstm)\n",
        "\n",
        "#############################3333\n",
        "fpr_stacked, tpr_stacked, threshold = roc_curve(y_test, yhat[:,1])\n",
        "roc_auc_stacked = auc(fpr_stacked, tpr_stacked)\n",
        "#################################3\n",
        "\n",
        "fig, ax = plt.subplots(figsize=(8,7)) # create a new figure with a default 111 subplot\n",
        "#plt.gcf().set_facecolor('white')\n",
        "ax.plot(fpr_our, tpr_our, label='Our Model (area = %0.3f)' % roc_auc_our, linewidth=2, color = 'red')\n",
        "ax.plot(fpr_ssbed, tpr_ssbed, label='SS-BED (area = %0.3f)' % roc_auc_ssbed, linewidth=2)\n",
        "ax.plot(fpr_arc, tpr_arc, label='ARC (area = %0.3f)' % roc_auc_arc, linewidth=2)\n",
        "ax.plot(fpr_han, tpr_han, label='HAN (area = %0.3f)' % roc_auc_han, linewidth=2)\n",
        "ax.plot(fpr_crn, tpr_crn, label='CRNN (area = %0.3f)' % roc_auc_crn, linewidth=2)\n",
        "ax.plot(fpr_iwv, tpr_iwv, label='IWV (area = %0.3f)' % roc_auc_iwv, linewidth=2)\n",
        "ax.plot(fpr_acbilstm, tpr_acbilstm, label='AC-BiLSTM (area = %0.3f)' % roc_auc_acbilstm, linewidth=2)\n",
        "\n",
        "ax.plot(fpr_stacked, tpr_stacked, label='Stacked (area = %0.3f)' % roc_auc_stacked, linewidth=2)\n",
        "\n",
        "#ax.plot([0, 1], [0, 1], 'k--', linewidth=2)\n",
        "#ax.set_facecolor('white')\n",
        "ax.set_xlabel('False Positive Rate', fontsize=18)\n",
        "ax.set_ylabel('True Positive Rate')\n",
        "ax.set_title('Receiver operating characteristic')\n",
        "ax.legend(loc='lower left',  ncol = 2,bbox_to_anchor=(0.05, 0.0, 0.0, 0.0),framealpha= 0.2)\n",
        "\n",
        "\n",
        "axins = zoomed_inset_axes(ax, 1.5, loc = 'center right') # zoom-factor: 2.5, location: upper-left\n",
        "\n",
        "axins.plot(fpr_our, tpr_our, label='Our Model (area = %0.3f)' % roc_auc_our, linewidth=2, color = 'red')\n",
        "axins.plot(fpr_ssbed, tpr_ssbed, label='SS-BED (area = %0.3f)' % roc_auc_ssbed, linewidth=2)\n",
        "axins.plot(fpr_arc, tpr_arc, label='ARC (area = %0.3f)' % roc_auc_arc, linewidth=2)\n",
        "axins.plot(fpr_han, tpr_han, label='HAN (area = %0.3f)' % roc_auc_han, linewidth=2)\n",
        "axins.plot(fpr_crn, tpr_crn, label='CRNN (area = %0.3f)' % roc_auc_crn, linewidth=2)\n",
        "axins.plot(fpr_iwv, tpr_iwv, label='IWV (area = %0.3f)' % roc_auc_iwv, linewidth=2)\n",
        "axins.plot(fpr_acbilstm, tpr_acbilstm, label='AC-BiLSTM (area = %0.3f)' % roc_auc_acbilstm, linewidth=2)\n",
        "\n",
        "\n",
        "axins.plot(fpr_stacked, tpr_stacked, label='Stacked (area = %0.3f)' % roc_auc_stacked, linewidth=2)\n",
        "#axins.legend(loc='best', bbox_to_anchor=(0.95, 0.0, 0.43, 0.3), fancybox=True, framealpha=0.5)\n",
        "\n",
        "axins.patch.set_facecolor('white')\n",
        "axins.patch.set_alpha(0.3)\n",
        "\n",
        "axins.spines['bottom'].set_color('0.7')\n",
        "axins.spines['bottom'].set_linewidth('1')\n",
        "axins.spines['bottom'].set_linestyle('--')\n",
        "axins.spines['top'].set_color('0.7')\n",
        "axins.spines['top'].set_linewidth('1')\n",
        "axins.spines['top'].set_linestyle('--')\n",
        "axins.spines['right'].set_color('0.7')\n",
        "axins.spines['right'].set_linewidth('1')\n",
        "axins.spines['right'].set_linestyle('--')\n",
        "axins.spines['left'].set_color('0.7')\n",
        "axins.spines['left'].set_linewidth('1')\n",
        "axins.spines['left'].set_linestyle('--')\n",
        "\n",
        "x1, x2, y1, y2 = 0, 0.3, 0.7, 1 # specify the limits\n",
        "#x1, x2, y1, y2 = 0.2, 0.5, 0.6, 0.9 # specify the limits\n",
        "\n",
        "axins.set_xlim(x1, x2) # apply the x-limits\n",
        "axins.set_ylim(y1, y2) # apply the y-limits\n",
        "\n",
        "plt.yticks(visible=False)\n",
        "plt.xticks(visible=False)\n",
        "plt.grid(visible=False)\n",
        "\n",
        "from mpl_toolkits.axes_grid1.inset_locator import mark_inset\n",
        "mark_inset(ax, axins, loc1=1, loc2=3, fc=\"white\", ec=\"0.3\", alpha = 0.3, ls = '-.')\n",
        "\n",
        "plt.savefig(path+ dataset_name + '-AUC.png',dpi=300,bbox_inches = 'tight',pad_inches = 0.1)"
      ],
      "metadata": {
        "id": "5b7JOAPKNJx9"
      },
      "execution_count": null,
      "outputs": []
    },
    {
      "cell_type": "code",
      "source": [
        "\n",
        "\n",
        "\n",
        "# Parameters\n",
        "embedding_dim = 100  # Example embedding dimensions (depends on your embeddings)\n",
        "max_len = 100  # Maximum length of sequences (adjust based on your data)\n",
        "\n",
        "# Load your dataset\n",
        "df = pd.read_csv('/content/pos-neg-shuffled_cleaned_airline_data (1).csv')  # Dataset with 'text' and 'sentiment' columns\n",
        "texts = df['text'].values\n",
        "labels = df['sentiment'].values\n"
      ],
      "metadata": {
        "id": "1cJrZ0sMnAr8"
      },
      "execution_count": null,
      "outputs": []
    },
    {
      "cell_type": "code",
      "source": [
        "\n",
        "# Step 1: Tokenization and Padding\n",
        "tokenizer = Tokenizer()\n",
        "tokenizer.fit_on_texts(texts)\n",
        "word_index = tokenizer.word_index\n",
        "vocab_size = len(word_index) + 1\n",
        "\n",
        "# Convert texts to sequences\n",
        "sequences = tokenizer.texts_to_sequences(texts)\n",
        "x_data = pad_sequences(sequences, maxlen=max_len)\n",
        "\n",
        "# Split data into training and validation sets\n",
        "x_train, x_val, y_train, y_val = train_test_split(x_data, labels, test_size=0.2, random_state=42)\n"
      ],
      "metadata": {
        "id": "GjnjaR2_nBOM"
      },
      "execution_count": null,
      "outputs": []
    },
    {
      "cell_type": "code",
      "source": [
        "\n",
        "# Step 2: Loading pre-trained embedding (for example GloVe)\n",
        "embedding_index = {}\n",
        "with open('glove.6B.100d.txt', encoding='utf8') as f:\n",
        "    for line in f:\n",
        "        values = line.split()\n",
        "        word = values[0]\n",
        "        coefs = np.asarray(values[1:], dtype='float32')\n",
        "        embedding_index[word] = coefs\n",
        "\n",
        "# Prepare embedding matrix\n",
        "emb_mat = np.zeros((vocab_size, embedding_dim))\n",
        "for word, i in word_index.items():\n",
        "    embedding_vector = embedding_index.get(word)\n",
        "    if embedding_vector is not None:\n",
        "        emb_mat[i] = embedding_vector\n"
      ],
      "metadata": {
        "id": "GpTHOkt6nFZY"
      },
      "execution_count": null,
      "outputs": []
    },
    {
      "cell_type": "markdown",
      "source": [
        "## 4.2. Other models"
      ],
      "metadata": {
        "id": "3JwPXk84kYfh"
      }
    },
    {
      "cell_type": "markdown",
      "source": [
        "###4.2.1.ACBiLSTM"
      ],
      "metadata": {
        "id": "QBf606znkEMc"
      }
    },
    {
      "cell_type": "code",
      "source": [
        "\n",
        "# Step 3: Model Definition\n",
        "def build_ACBiLSTM(emb_mat):\n",
        "    tweet_input = Input(shape=(max_len,), dtype='int32', name='AC-BiLSTM_inp')\n",
        "    tweet_encoder = Embedding(emb_mat.shape[0], embedding_dim, weights=[emb_mat], input_length=max_len, trainable=False, name='AC-BiLSTM_enc')(tweet_input)\n",
        "    x = Conv1D(filters=100, kernel_size=3, padding='valid', activation='relu', name='AC-BiLSTM_conv')(tweet_encoder)\n",
        "    x = Bidirectional(LSTM(64, return_sequences=True, name='AC-BiLSTM_BiLSTM'))(x)\n",
        "    x = Dropout(0.7, name='AC-BiLSTM_drop')(x)\n",
        "    x = AttentionWithContext()(x)  # Assuming AttentionWithContext is correctly defined\n",
        "    x = Dense(1, name='AC-BiLSTM_out')(x)\n",
        "    output = Activation('sigmoid')(x)\n",
        "\n",
        "    model = Model(inputs=[tweet_input], outputs=[output])\n",
        "    model.compile(loss='binary_crossentropy', optimizer='adam', metrics=['accuracy'])\n",
        "    return model\n"
      ],
      "metadata": {
        "id": "wglA-J4dras9"
      },
      "execution_count": null,
      "outputs": []
    },
    {
      "cell_type": "code",
      "source": [
        "# import bert\n",
        "from tensorflow.keras.callbacks import ModelCheckpoint"
      ],
      "metadata": {
        "id": "HhvQjV8CrkgC"
      },
      "execution_count": null,
      "outputs": []
    },
    {
      "cell_type": "code",
      "execution_count": null,
      "metadata": {
        "colab": {
          "base_uri": "https://localhost:8080/"
        },
        "id": "9d1vWFmGlOM5",
        "outputId": "f4bcb43c-3afc-413f-f39f-5a66e7f243dc"
      },
      "outputs": [
        {
          "output_type": "stream",
          "name": "stdout",
          "text": [
            "Epoch 1/10\n",
            "119/119 [==============================] - 22s 151ms/step - loss: 0.5077 - accuracy: 0.7354 - val_loss: 0.3722 - val_accuracy: 0.8330\n",
            "Epoch 2/10\n"
          ]
        },
        {
          "output_type": "stream",
          "name": "stderr",
          "text": [
            "/usr/local/lib/python3.10/dist-packages/keras/src/engine/training.py:3103: UserWarning: You are saving your model as an HDF5 file via `model.save()`. This file format is considered legacy. We recommend using instead the native Keras format, e.g. `model.save('my_model.keras')`.\n",
            "  saving_api.save_model(\n"
          ]
        },
        {
          "output_type": "stream",
          "name": "stdout",
          "text": [
            "119/119 [==============================] - 19s 160ms/step - loss: 0.3451 - accuracy: 0.8471 - val_loss: 0.3392 - val_accuracy: 0.8594\n",
            "Epoch 3/10\n",
            "119/119 [==============================] - 18s 148ms/step - loss: 0.2893 - accuracy: 0.8788 - val_loss: 0.3533 - val_accuracy: 0.8499\n",
            "Epoch 4/10\n",
            "119/119 [==============================] - 17s 142ms/step - loss: 0.2517 - accuracy: 0.8931 - val_loss: 0.2954 - val_accuracy: 0.8721\n",
            "Epoch 5/10\n",
            "119/119 [==============================] - 17s 143ms/step - loss: 0.2197 - accuracy: 0.9132 - val_loss: 0.3210 - val_accuracy: 0.8668\n",
            "Epoch 6/10\n",
            "119/119 [==============================] - 17s 146ms/step - loss: 0.1785 - accuracy: 0.9315 - val_loss: 0.3189 - val_accuracy: 0.8668\n",
            "Epoch 7/10\n",
            "119/119 [==============================] - 20s 167ms/step - loss: 0.1587 - accuracy: 0.9394 - val_loss: 0.3256 - val_accuracy: 0.8753\n",
            "30/30 [==============================] - 1s 33ms/step - loss: 0.2954 - accuracy: 0.8721\n",
            "Validation Accuracy: 87.21%\n"
          ]
        }
      ],
      "source": [
        "\n",
        "# Step 4: Build and Train the Model\n",
        "model = build_ACBiLSTM(emb_mat)\n",
        "\n",
        "# Early stopping callback to avoid overfitting\n",
        "early_stopping = EarlyStopping(monitor='val_loss', patience=3, restore_best_weights=True)\n",
        "check_point = tf.keras.callbacks.ModelCheckpoint('ACBiLSTM-airline.h5', save_best_only=True, monitor='val_loss')\n",
        "# Train the model\n",
        "history = model.fit(x_train, y_train, validation_data=(x_val, y_val), epochs=10, batch_size=32, callbacks=[check_point, early_stopping])\n",
        "\n",
        "# Step 5: Evaluate the model\n",
        "loss, accuracy = model.evaluate(x_val, y_val)\n",
        "print(f'Validation Accuracy: {accuracy * 100:.2f}%')\n"
      ]
    },
    {
      "cell_type": "markdown",
      "source": [
        "###4.2.2.IWV"
      ],
      "metadata": {
        "id": "n9_d0MaWs178"
      }
    },
    {
      "cell_type": "code",
      "source": [
        "import numpy as np\n",
        "import pandas as pd\n",
        "from tensorflow.keras.preprocessing.text import Tokenizer\n",
        "from tensorflow.keras.preprocessing.sequence import pad_sequences\n",
        "from tensorflow.keras.models import Model\n",
        "from tensorflow.keras.layers import Input, Embedding, Conv1D, GlobalMaxPooling1D, Dense, Activation\n",
        "from sklearn.model_selection import train_test_split\n",
        "from tensorflow.keras.callbacks import EarlyStopping"
      ],
      "metadata": {
        "id": "YvFXqRlguVkC"
      },
      "execution_count": null,
      "outputs": []
    },
    {
      "cell_type": "code",
      "source": [
        "\n",
        "\n",
        "# Parameters\n",
        "embedding_dim = 100  # The dimension of your GloVe embeddings\n",
        "max_len = 100  # Maximum length of input sequences (adjust based on your data)\n"
      ],
      "metadata": {
        "id": "zDLgUp8FubWh"
      },
      "execution_count": null,
      "outputs": []
    },
    {
      "cell_type": "code",
      "source": [
        "\n",
        "# Load your dataset\n",
        "df = pd.read_csv('/content/pos-neg-shuffled_cleaned_airline_data (1).csv')  # Dataset with 'text' and 'sentiment' columns\n",
        "texts = df['text'].values\n",
        "labels = df['sentiment'].values\n"
      ],
      "metadata": {
        "id": "U4aCSm4uucuZ"
      },
      "execution_count": null,
      "outputs": []
    },
    {
      "cell_type": "code",
      "source": [
        "\n",
        "# Step 1: Tokenization and Padding\n",
        "tokenizer = Tokenizer()\n",
        "tokenizer.fit_on_texts(texts)\n",
        "word_index = tokenizer.word_index\n",
        "vocab_size = len(word_index) + 1\n",
        "\n",
        "# Convert texts to sequences\n",
        "sequences = tokenizer.texts_to_sequences(texts)\n",
        "x_data = pad_sequences(sequences, maxlen=max_len)\n",
        "\n",
        "# Split data into training and validation sets\n",
        "x_train, x_val, y_train, y_val = train_test_split(x_data, labels, test_size=0.2, random_state=42)\n"
      ],
      "metadata": {
        "id": "K5je1_yJuhBn"
      },
      "execution_count": null,
      "outputs": []
    },
    {
      "cell_type": "code",
      "source": [
        "\n",
        "# Step 2: Loading pre-trained GloVe embeddings (100-dimensional)\n",
        "embedding_index = {}\n",
        "with open('/content/drive/MyDrive/glove.6B.100d.txt', encoding='utf8') as f:\n",
        "    for line in f:\n",
        "        values = line.split()\n",
        "        word = values[0]\n",
        "        coefs = np.asarray(values[1:], dtype='float32')\n",
        "        embedding_index[word] = coefs\n",
        "\n",
        "# Prepare the embedding matrix\n",
        "emb_mat = np.zeros((vocab_size, embedding_dim))\n",
        "for word, i in word_index.items():\n",
        "    embedding_vector = embedding_index.get(word)\n",
        "    if embedding_vector is not None:\n",
        "        emb_mat[i] = embedding_vector\n"
      ],
      "metadata": {
        "id": "Gu6Kk0bbujNx"
      },
      "execution_count": null,
      "outputs": []
    },
    {
      "cell_type": "code",
      "source": [
        "\n",
        "# Step 3: Define the IWV Model\n",
        "def build_IWV(emb_mat):\n",
        "    tweet_input = Input(shape=(max_len,), dtype='int32', name='IWV_inp')\n",
        "    tweet_encoder = Embedding(emb_mat.shape[0], embedding_dim, weights=[emb_mat], input_length=max_len, trainable=False, name='IWV_enc')(tweet_input)\n",
        "\n",
        "    x = Conv1D(filters=100, kernel_size=3, padding='valid', activation='relu', name='IWV_conv_1')(tweet_encoder)\n",
        "    x = Conv1D(filters=100, kernel_size=5, padding='valid', activation='relu', name='IWV_conv_2')(x)\n",
        "    x = Conv1D(filters=100, kernel_size=7, padding='valid', activation='relu', name='IWV_conv_3')(x)\n",
        "    x = GlobalMaxPooling1D(name='IWV_pool')(x)\n",
        "\n",
        "    x = Dense(64, activation=\"relu\", name='IWV_dense')(x)\n",
        "    x = Dense(1, name='IWV_out')(x)\n",
        "    output = Activation('sigmoid')(x)\n",
        "\n",
        "    model = Model(inputs=[tweet_input], outputs=[output])\n",
        "    model.compile(loss='binary_crossentropy', optimizer='adam', metrics=['accuracy'])\n",
        "\n",
        "    return model\n"
      ],
      "metadata": {
        "id": "C0vAC0AAut5-"
      },
      "execution_count": null,
      "outputs": []
    },
    {
      "cell_type": "code",
      "source": [
        "import os\n",
        "\n",
        "# Step 4: Build and Train the Model\n",
        "model = build_IWV(emb_mat)\n",
        "\n",
        "# Early stopping callback to prevent overfitting\n",
        "early_stopping = EarlyStopping(monitor='val_loss', patience=3, restore_best_weights=True)\n",
        "\n",
        "# Directory to save the model\n",
        "model_save_path = '/content/drive/MyDrive/model_for_thesis/iwv_model.h5'\n",
        "os.makedirs(os.path.dirname(model_save_path), exist_ok=True)\n",
        "\n",
        "# Train the model\n",
        "history = model.fit(x_train, y_train, validation_data=(x_val, y_val), epochs=20, batch_size=32, callbacks=[early_stopping])\n",
        "\n",
        "# Step 5: Evaluate the model\n",
        "loss, accuracy = model.evaluate(x_val, y_val)\n",
        "print(f'Validation Accuracy: {accuracy * 100:.2f}%')\n",
        "\n",
        "# Step 6: Save the trained model\n",
        "model.save(model_save_path)\n",
        "print(f'Model saved to {model_save_path}')\n"
      ],
      "metadata": {
        "colab": {
          "base_uri": "https://localhost:8080/"
        },
        "id": "L2XRYQaMu4U5",
        "outputId": "d1973ee8-74f1-4532-96c9-cc67913b3d3a"
      },
      "execution_count": null,
      "outputs": [
        {
          "output_type": "stream",
          "name": "stdout",
          "text": [
            "Epoch 1/20\n",
            "119/119 [==============================] - 31s 252ms/step - loss: 0.4975 - accuracy: 0.7503 - val_loss: 0.4191 - val_accuracy: 0.8161\n",
            "Epoch 2/20\n",
            "119/119 [==============================] - 9s 80ms/step - loss: 0.3400 - accuracy: 0.8503 - val_loss: 0.3329 - val_accuracy: 0.8372\n",
            "Epoch 3/20\n",
            "119/119 [==============================] - 8s 63ms/step - loss: 0.2645 - accuracy: 0.8862 - val_loss: 0.3193 - val_accuracy: 0.8636\n",
            "Epoch 4/20\n",
            "119/119 [==============================] - 10s 80ms/step - loss: 0.1981 - accuracy: 0.9225 - val_loss: 0.3873 - val_accuracy: 0.8467\n",
            "Epoch 5/20\n",
            "119/119 [==============================] - 9s 77ms/step - loss: 0.1264 - accuracy: 0.9537 - val_loss: 0.3880 - val_accuracy: 0.8510\n",
            "Epoch 6/20\n",
            "119/119 [==============================] - 8s 67ms/step - loss: 0.0719 - accuracy: 0.9762 - val_loss: 0.4238 - val_accuracy: 0.8499\n",
            "30/30 [==============================] - 1s 18ms/step - loss: 0.3193 - accuracy: 0.8636\n",
            "Validation Accuracy: 86.36%\n"
          ]
        },
        {
          "output_type": "stream",
          "name": "stderr",
          "text": [
            "/usr/local/lib/python3.10/dist-packages/keras/src/engine/training.py:3103: UserWarning: You are saving your model as an HDF5 file via `model.save()`. This file format is considered legacy. We recommend using instead the native Keras format, e.g. `model.save('my_model.keras')`.\n",
            "  saving_api.save_model(\n"
          ]
        },
        {
          "output_type": "stream",
          "name": "stdout",
          "text": [
            "Model saved to /content/drive/MyDrive/model_for_thesis/iwv_model.h5\n"
          ]
        }
      ]
    },
    {
      "cell_type": "code",
      "source": [
        "\n",
        "# Step 4: Build and Train the Model\n",
        "model = build_IWV(emb_mat)\n",
        "\n",
        "# Early stopping callback to prevent overfitting\n",
        "early_stopping = EarlyStopping(monitor='val_loss', patience=3, restore_best_weights=True)\n",
        "\n",
        "# Train the model\n",
        "history = model.fit(x_train, y_train, validation_data=(x_val, y_val), epochs=10, batch_size=32, callbacks=[early_stopping])\n",
        "\n",
        "# Step 5: Evaluate the model\n",
        "loss, accuracy = model.evaluate(x_val, y_val)\n",
        "print(f'Validation Accuracy: {accuracy * 100:.2f}%')\n"
      ],
      "metadata": {
        "id": "YUK5d5CNuT0M"
      },
      "execution_count": null,
      "outputs": []
    },
    {
      "cell_type": "code",
      "source": [
        "def build_IWV(emb_mat):\n",
        "  tweet_input = Input(shape=(x_train_seq.shape[1],), dtype='int32', name = 'IWV_inp')\n",
        "  tweet_encoder = Embedding(emb_mat.shape[0], embedding_dim, weights=[emb_mat], input_length=max_len, trainable=False,name = 'IWV_enc')(tweet_input)\n",
        "  x = Conv1D(filters=100, kernel_size=3, padding='valid', activation='relu',name = 'IWV_conv_1')(tweet_encoder)\n",
        "  x = Conv1D(filters=100, kernel_size=5, padding='valid', activation='relu',name = 'IWV_conv_2')(x)\n",
        "  x = Conv1D(filters=100, kernel_size=7, padding='valid', activation='relu',name = 'IWV_conv_3')(x)\n",
        "  x = GlobalMaxPooling1D(name='IWV_pool')(x)\n",
        "  x = Dense(64, activation=\"relu\",name='IWV_dense')(x)\n",
        "  x = Dense(1,name = 'IWV_out')(x)\n",
        "  output = Activation('sigmoid')(x)\n",
        "  model = Model(inputs=[tweet_input], outputs=[output])\n",
        "  model.compile(loss='binary_crossentropy', optimizer='adam', metrics=['accuracy'])\n",
        "  return model"
      ],
      "metadata": {
        "id": "lkZ7Q7wMs1YE"
      },
      "execution_count": null,
      "outputs": []
    },
    {
      "cell_type": "code",
      "source": [
        "\n",
        "# Step 4: Build and Train the Model\n",
        "model = build_IWV(emb_mat)\n",
        "\n",
        "# Early stopping callback to avoid overfitting\n",
        "early_stopping = EarlyStopping(monitor='val_loss', patience=3, restore_best_weights=True)\n",
        "check_point = tf.keras.callbacks.ModelCheckpoint('IWV-airline.h5', save_best_only=True, monitor='val_loss')\n",
        "# Train the model\n",
        "history = model.fit(x_train, y_train, validation_data=(x_val, y_val), epochs=10, batch_size=32, callbacks=[check_point, early_stopping])\n",
        "\n",
        "# Step 5: Evaluate the model\n",
        "loss, accuracy = model.evaluate(x_val, y_val)\n",
        "print(f'Validation Accuracy: {accuracy * 100:.2f}%')\n"
      ],
      "metadata": {
        "colab": {
          "base_uri": "https://localhost:8080/",
          "height": 367
        },
        "id": "sd_sAE_ptCAY",
        "outputId": "663cd13b-b841-4d81-df30-d2b908ec160a"
      },
      "execution_count": null,
      "outputs": [
        {
          "output_type": "error",
          "ename": "NameError",
          "evalue": "name 'x_train_seq' is not defined",
          "traceback": [
            "\u001b[0;31m---------------------------------------------------------------------------\u001b[0m",
            "\u001b[0;31mNameError\u001b[0m                                 Traceback (most recent call last)",
            "\u001b[0;32m<ipython-input-15-77e1ff984657>\u001b[0m in \u001b[0;36m<cell line: 2>\u001b[0;34m()\u001b[0m\n\u001b[1;32m      1\u001b[0m \u001b[0;31m# Step 4: Build and Train the Model\u001b[0m\u001b[0;34m\u001b[0m\u001b[0;34m\u001b[0m\u001b[0m\n\u001b[0;32m----> 2\u001b[0;31m \u001b[0mmodel\u001b[0m \u001b[0;34m=\u001b[0m \u001b[0mbuild_IWV\u001b[0m\u001b[0;34m(\u001b[0m\u001b[0memb_mat\u001b[0m\u001b[0;34m)\u001b[0m\u001b[0;34m\u001b[0m\u001b[0;34m\u001b[0m\u001b[0m\n\u001b[0m\u001b[1;32m      3\u001b[0m \u001b[0;34m\u001b[0m\u001b[0m\n\u001b[1;32m      4\u001b[0m \u001b[0;31m# Early stopping callback to avoid overfitting\u001b[0m\u001b[0;34m\u001b[0m\u001b[0;34m\u001b[0m\u001b[0m\n\u001b[1;32m      5\u001b[0m \u001b[0mearly_stopping\u001b[0m \u001b[0;34m=\u001b[0m \u001b[0mEarlyStopping\u001b[0m\u001b[0;34m(\u001b[0m\u001b[0mmonitor\u001b[0m\u001b[0;34m=\u001b[0m\u001b[0;34m'val_loss'\u001b[0m\u001b[0;34m,\u001b[0m \u001b[0mpatience\u001b[0m\u001b[0;34m=\u001b[0m\u001b[0;36m3\u001b[0m\u001b[0;34m,\u001b[0m \u001b[0mrestore_best_weights\u001b[0m\u001b[0;34m=\u001b[0m\u001b[0;32mTrue\u001b[0m\u001b[0;34m)\u001b[0m\u001b[0;34m\u001b[0m\u001b[0;34m\u001b[0m\u001b[0m\n",
            "\u001b[0;32m<ipython-input-14-1d299713b781>\u001b[0m in \u001b[0;36mbuild_IWV\u001b[0;34m(emb_mat)\u001b[0m\n\u001b[1;32m      1\u001b[0m \u001b[0;32mdef\u001b[0m \u001b[0mbuild_IWV\u001b[0m\u001b[0;34m(\u001b[0m\u001b[0memb_mat\u001b[0m\u001b[0;34m)\u001b[0m\u001b[0;34m:\u001b[0m\u001b[0;34m\u001b[0m\u001b[0;34m\u001b[0m\u001b[0m\n\u001b[0;32m----> 2\u001b[0;31m   \u001b[0mtweet_input\u001b[0m \u001b[0;34m=\u001b[0m \u001b[0mInput\u001b[0m\u001b[0;34m(\u001b[0m\u001b[0mshape\u001b[0m\u001b[0;34m=\u001b[0m\u001b[0;34m(\u001b[0m\u001b[0mx_train_seq\u001b[0m\u001b[0;34m.\u001b[0m\u001b[0mshape\u001b[0m\u001b[0;34m[\u001b[0m\u001b[0;36m1\u001b[0m\u001b[0;34m]\u001b[0m\u001b[0;34m,\u001b[0m\u001b[0;34m)\u001b[0m\u001b[0;34m,\u001b[0m \u001b[0mdtype\u001b[0m\u001b[0;34m=\u001b[0m\u001b[0;34m'int32'\u001b[0m\u001b[0;34m,\u001b[0m \u001b[0mname\u001b[0m \u001b[0;34m=\u001b[0m \u001b[0;34m'IWV_inp'\u001b[0m\u001b[0;34m)\u001b[0m\u001b[0;34m\u001b[0m\u001b[0;34m\u001b[0m\u001b[0m\n\u001b[0m\u001b[1;32m      3\u001b[0m   \u001b[0mtweet_encoder\u001b[0m \u001b[0;34m=\u001b[0m \u001b[0mEmbedding\u001b[0m\u001b[0;34m(\u001b[0m\u001b[0memb_mat\u001b[0m\u001b[0;34m.\u001b[0m\u001b[0mshape\u001b[0m\u001b[0;34m[\u001b[0m\u001b[0;36m0\u001b[0m\u001b[0;34m]\u001b[0m\u001b[0;34m,\u001b[0m \u001b[0membedding_dim\u001b[0m\u001b[0;34m,\u001b[0m \u001b[0mweights\u001b[0m\u001b[0;34m=\u001b[0m\u001b[0;34m[\u001b[0m\u001b[0memb_mat\u001b[0m\u001b[0;34m]\u001b[0m\u001b[0;34m,\u001b[0m \u001b[0minput_length\u001b[0m\u001b[0;34m=\u001b[0m\u001b[0mmax_len\u001b[0m\u001b[0;34m,\u001b[0m \u001b[0mtrainable\u001b[0m\u001b[0;34m=\u001b[0m\u001b[0;32mFalse\u001b[0m\u001b[0;34m,\u001b[0m\u001b[0mname\u001b[0m \u001b[0;34m=\u001b[0m \u001b[0;34m'IWV_enc'\u001b[0m\u001b[0;34m)\u001b[0m\u001b[0;34m(\u001b[0m\u001b[0mtweet_input\u001b[0m\u001b[0;34m)\u001b[0m\u001b[0;34m\u001b[0m\u001b[0;34m\u001b[0m\u001b[0m\n\u001b[1;32m      4\u001b[0m   \u001b[0mx\u001b[0m \u001b[0;34m=\u001b[0m \u001b[0mConv1D\u001b[0m\u001b[0;34m(\u001b[0m\u001b[0mfilters\u001b[0m\u001b[0;34m=\u001b[0m\u001b[0;36m100\u001b[0m\u001b[0;34m,\u001b[0m \u001b[0mkernel_size\u001b[0m\u001b[0;34m=\u001b[0m\u001b[0;36m3\u001b[0m\u001b[0;34m,\u001b[0m \u001b[0mpadding\u001b[0m\u001b[0;34m=\u001b[0m\u001b[0;34m'valid'\u001b[0m\u001b[0;34m,\u001b[0m \u001b[0mactivation\u001b[0m\u001b[0;34m=\u001b[0m\u001b[0;34m'relu'\u001b[0m\u001b[0;34m,\u001b[0m\u001b[0mname\u001b[0m \u001b[0;34m=\u001b[0m \u001b[0;34m'IWV_conv_1'\u001b[0m\u001b[0;34m)\u001b[0m\u001b[0;34m(\u001b[0m\u001b[0mtweet_encoder\u001b[0m\u001b[0;34m)\u001b[0m\u001b[0;34m\u001b[0m\u001b[0;34m\u001b[0m\u001b[0m\n\u001b[1;32m      5\u001b[0m   \u001b[0mx\u001b[0m \u001b[0;34m=\u001b[0m \u001b[0mConv1D\u001b[0m\u001b[0;34m(\u001b[0m\u001b[0mfilters\u001b[0m\u001b[0;34m=\u001b[0m\u001b[0;36m100\u001b[0m\u001b[0;34m,\u001b[0m \u001b[0mkernel_size\u001b[0m\u001b[0;34m=\u001b[0m\u001b[0;36m5\u001b[0m\u001b[0;34m,\u001b[0m \u001b[0mpadding\u001b[0m\u001b[0;34m=\u001b[0m\u001b[0;34m'valid'\u001b[0m\u001b[0;34m,\u001b[0m \u001b[0mactivation\u001b[0m\u001b[0;34m=\u001b[0m\u001b[0;34m'relu'\u001b[0m\u001b[0;34m,\u001b[0m\u001b[0mname\u001b[0m \u001b[0;34m=\u001b[0m \u001b[0;34m'IWV_conv_2'\u001b[0m\u001b[0;34m)\u001b[0m\u001b[0;34m(\u001b[0m\u001b[0mx\u001b[0m\u001b[0;34m)\u001b[0m\u001b[0;34m\u001b[0m\u001b[0;34m\u001b[0m\u001b[0m\n",
            "\u001b[0;31mNameError\u001b[0m: name 'x_train_seq' is not defined"
          ]
        }
      ]
    },
    {
      "cell_type": "markdown",
      "source": [
        "###4.2.3. ARC"
      ],
      "metadata": {
        "id": "ksxmayo52gRv"
      }
    },
    {
      "cell_type": "code",
      "source": [
        "import numpy as np\n",
        "import pandas as pd\n",
        "from tensorflow.keras.preprocessing.text import Tokenizer\n",
        "from tensorflow.keras.preprocessing.sequence import pad_sequences\n",
        "from tensorflow.keras.models import Model\n",
        "from tensorflow.keras.layers import Input, Embedding, SpatialDropout1D, Bidirectional, GRU, Conv1D, GlobalMaxPooling1D, Dense, Lambda\n",
        "import tensorflow as tf\n",
        "from sklearn.model_selection import train_test_split\n",
        "from tensorflow.keras.callbacks import EarlyStopping\n",
        "from tensorflow.keras.layers import Attention\n"
      ],
      "metadata": {
        "id": "_3Am2Tw42mSf"
      },
      "execution_count": null,
      "outputs": []
    },
    {
      "cell_type": "code",
      "source": [
        "\n",
        "# Load GloVe Embeddings and Dataset Preprocessing\n",
        "embedding_dim = 100  # GloVe embedding dimension (100d)\n",
        "max_len = 100  # Maximum length of input sequences\n",
        "\n",
        "# Load dataset\n",
        "df = pd.read_csv('/content/pos-neg-shuffled_cleaned_airline_data (1).csv')  # Replace with your actual dataset file\n",
        "texts = df['text'].values\n",
        "labels = df['sentiment'].values\n"
      ],
      "metadata": {
        "id": "uzRtsxet2npJ"
      },
      "execution_count": null,
      "outputs": []
    },
    {
      "cell_type": "code",
      "source": [
        "\n",
        "# Step 1: Tokenization and Padding\n",
        "tokenizer = Tokenizer()\n",
        "tokenizer.fit_on_texts(texts)\n",
        "word_index = tokenizer.word_index\n",
        "vocab_size = len(word_index) + 1\n",
        "\n",
        "# Convert texts to sequences\n",
        "sequences = tokenizer.texts_to_sequences(texts)\n",
        "x_data = pad_sequences(sequences, maxlen=max_len)\n",
        "\n",
        "# Split data into training and validation sets\n",
        "x_train, x_val, y_train, y_val = train_test_split(x_data, labels, test_size=0.2, random_state=42)\n"
      ],
      "metadata": {
        "id": "QKn4x-KZ2rdy"
      },
      "execution_count": null,
      "outputs": []
    },
    {
      "cell_type": "code",
      "source": [
        "\n",
        "# Step 2: Load GloVe embeddings\n",
        "embedding_index = {}\n",
        "with open('/content/drive/MyDrive/glove.6B.100d.txt', encoding='utf8') as f:  # Make sure GloVe file is in the correct directory\n",
        "    for line in f:\n",
        "        values = line.split()\n",
        "        word = values[0]\n",
        "        coefs = np.asarray(values[1:], dtype='float32')\n",
        "        embedding_index[word] = coefs\n",
        "\n",
        "# Prepare the embedding matrix\n",
        "emb_mat = np.zeros((vocab_size, embedding_dim))\n",
        "for word, i in word_index.items():\n",
        "    embedding_vector = embedding_index.get(word)\n",
        "    if embedding_vector is not None:\n",
        "        emb_mat[i] = embedding_vector\n"
      ],
      "metadata": {
        "id": "OB9PZZzK2uBB"
      },
      "execution_count": null,
      "outputs": []
    },
    {
      "cell_type": "code",
      "source": [
        "import tensorflow as tf\n",
        "from transformers import TFBertModel\n",
        "from tensorflow.keras.layers import Input, Dropout, Dense, Conv1D, GlobalAveragePooling1D, GlobalMaxPooling1D, SpatialDropout1D, Bidirectional, LSTM, GRU, concatenate, Lambda, BatchNormalization\n",
        "from tensorflow.keras.models import Model\n",
        "from tensorflow.keras.optimizers import Adam\n",
        "from tensorflow.keras.utils import plot_model\n",
        "\n",
        "def dot_product(x, kernel):\n",
        "    if tf.keras.backend.backend() == 'tensorflow':\n",
        "        return tf.squeeze(tf.matmul(x, tf.expand_dims(kernel, axis=-1)), axis=-1)\n",
        "    else:\n",
        "        return tf.matmul(x, kernel)"
      ],
      "metadata": {
        "id": "m1kQCId-230p"
      },
      "execution_count": null,
      "outputs": []
    },
    {
      "cell_type": "code",
      "source": [
        "class AttentionWithContext(tf.keras.layers.Layer):\n",
        "    def __init__(self, W_regularizer=None, u_regularizer=None, b_regularizer=None,\n",
        "                 W_constraint=None, u_constraint=None, b_constraint=None, bias=True, **kwargs):\n",
        "        self.init = tf.keras.initializers.get('glorot_uniform')\n",
        "        self.W_regularizer = tf.keras.regularizers.get(W_regularizer)\n",
        "        self.u_regularizer = tf.keras.regularizers.get(u_regularizer)\n",
        "        self.b_regularizer = tf.keras.regularizers.get(b_regularizer)\n",
        "        self.W_constraint = tf.keras.constraints.get(W_constraint)\n",
        "        self.u_constraint = tf.keras.constraints.get(u_constraint)\n",
        "        self.b_constraint = tf.keras.constraints.get(b_constraint)\n",
        "        self.bias = bias\n",
        "        super(AttentionWithContext, self).__init__(**kwargs)\n",
        "\n",
        "    def build(self, input_shape):\n",
        "        self.W = self.add_weight(shape=(input_shape[-1], input_shape[-1]),\n",
        "                                 initializer=self.init,\n",
        "                                 regularizer=self.W_regularizer,\n",
        "                                 constraint=self.W_constraint,\n",
        "                                 name='{}_W'.format(self.name))\n",
        "        if self.bias:\n",
        "            self.b = self.add_weight(shape=(input_shape[-1],),\n",
        "                                     initializer='zero',\n",
        "                                     regularizer=self.b_regularizer,\n",
        "                                     constraint=self.b_constraint,\n",
        "                                     name='{}_b'.format(self.name))\n",
        "        self.u = self.add_weight(shape=(input_shape[-1],),\n",
        "                                 initializer=self.init,\n",
        "                                 regularizer=self.u_regularizer,\n",
        "                                 constraint=self.u_constraint,\n",
        "                                 name='{}_u'.format(self.name))\n",
        "        super(AttentionWithContext, self).build(input_shape)\n",
        "\n",
        "    def call(self, x, mask=None):\n",
        "        uit = tf.keras.backend.dot(x, self.W)\n",
        "        if self.bias:\n",
        "            uit += self.b\n",
        "        uit = tf.keras.activations.tanh(uit)\n",
        "        ait = tf.keras.backend.dot(uit, tf.expand_dims(self.u, axis=-1))\n",
        "        ait = tf.squeeze(ait, axis=-1)\n",
        "        a = tf.keras.backend.exp(ait)\n",
        "        if mask is not None:\n",
        "            a *= tf.keras.backend.cast(mask, tf.float32)\n",
        "        a /= tf.keras.backend.cast(tf.keras.backend.sum(a, axis=1, keepdims=True) + tf.keras.backend.epsilon(), tf.float32)\n",
        "        a = tf.expand_dims(a, axis=-1)\n",
        "        weighted_input = x * a\n",
        "        return tf.keras.backend.sum(weighted_input, axis=1)\n",
        "\n",
        "    def compute_output_shape(self, input_shape):\n",
        "        return input_shape[0], input_shape[-1]\n"
      ],
      "metadata": {
        "id": "i8Rst26r230p"
      },
      "execution_count": null,
      "outputs": []
    },
    {
      "cell_type": "code",
      "source": [
        "\n",
        "\n",
        "def build_ARC(emb_mat):\n",
        "    tweet_input = Input(shape=(max_len,), dtype='int32', name='ARC_inp')\n",
        "    tweet_encoder = Embedding(emb_mat.shape[0], embedding_dim, weights=[emb_mat], input_length=max_len, trainable=False, name='ARC_enc')(tweet_input)\n",
        "\n",
        "    x1 = SpatialDropout1D(0.5)(tweet_encoder)\n",
        "\n",
        "    # Use GRU instead of CuDNNGRU (GPU optimization)\n",
        "    x_gru = Bidirectional(GRU(64, return_sequences=True, name='ARC_BiGRU'))(x1)\n",
        "\n",
        "    # Attention mechanism\n",
        "    x = AttentionWithContext()(x_gru)  # Ensure AttentionWithContext is implemented or imported correctly\n",
        "\n",
        "    # Expand dimensions to match Conv1D input\n",
        "    x = Lambda(lambda t: tf.expand_dims(t, 2))(x)\n",
        "\n",
        "    # CNN layers\n",
        "    x2 = Conv1D(100, kernel_size=3, padding='valid', kernel_initializer='he_uniform', name='ARC_CNN_1')(x)\n",
        "    x2 = Conv1D(100, kernel_size=5, padding='valid', kernel_initializer='he_uniform', name='ARC_CNN_2')(x2)\n",
        "    x2 = Conv1D(100, kernel_size=7, padding='valid', kernel_initializer='he_uniform', name='ARC_CNN_3')(x2)\n",
        "\n",
        "    # Global Max Pooling\n",
        "    max_pool1 = GlobalMaxPooling1D(name='ARC_pool')(x2)\n",
        "\n",
        "    # Fully connected layer\n",
        "    x5 = Dense(64, activation=\"relu\", name='ARC_dense')(max_pool1)\n",
        "\n",
        "    # Output layer\n",
        "    output = Dense(1, activation='sigmoid')(x5)\n",
        "\n",
        "    model = Model(inputs=tweet_input, outputs=output)\n",
        "    model.compile(loss='binary_crossentropy', optimizer='adam', metrics=['accuracy'])\n",
        "    return model"
      ],
      "metadata": {
        "id": "9rlsYVTH27OJ"
      },
      "execution_count": null,
      "outputs": []
    },
    {
      "cell_type": "code",
      "source": [
        "\n",
        "\n",
        "# Step 4: Build and Train the Model\n",
        "model = build_ARC(emb_mat)\n",
        "\n",
        "# Early stopping to avoid overfitting\n",
        "early_stopping = EarlyStopping(monitor='val_loss', patience=3, restore_best_weights=True)\n",
        "\n",
        "# Train the model\n",
        "history = model.fit(x_train, y_train, validation_data=(x_val, y_val), epochs=20, batch_size=32, callbacks=[early_stopping])\n",
        "\n",
        "# Step 5: Evaluate the model\n",
        "loss, accuracy = model.evaluate(x_val, y_val)\n",
        "print(f'Validation Accuracy: {accuracy * 100:.2f}%')\n",
        "\n",
        "# Step 6: Save the trained model\n",
        "model_save_path = '/content/drive/MyDrive/model_for_thesis/arc_model.h5'\n",
        "model.save(model_save_path)\n",
        "print(f'Model saved to {model_save_path}')\n"
      ],
      "metadata": {
        "colab": {
          "base_uri": "https://localhost:8080/"
        },
        "id": "DLepyOaj2hrh",
        "outputId": "67e47c30-f949-40aa-c124-d4f58954d731"
      },
      "execution_count": null,
      "outputs": [
        {
          "output_type": "stream",
          "name": "stdout",
          "text": [
            "Epoch 1/20\n",
            "119/119 [==============================] - 31s 181ms/step - loss: 0.6009 - accuracy: 0.6743 - val_loss: 0.4856 - val_accuracy: 0.7896\n",
            "Epoch 2/20\n",
            "119/119 [==============================] - 23s 196ms/step - loss: 0.5047 - accuracy: 0.7574 - val_loss: 0.4269 - val_accuracy: 0.7907\n",
            "Epoch 3/20\n",
            "119/119 [==============================] - 21s 180ms/step - loss: 0.4560 - accuracy: 0.7899 - val_loss: 0.3765 - val_accuracy: 0.8340\n",
            "Epoch 4/20\n",
            "119/119 [==============================] - 26s 223ms/step - loss: 0.4299 - accuracy: 0.8069 - val_loss: 0.4647 - val_accuracy: 0.8256\n",
            "Epoch 5/20\n",
            "119/119 [==============================] - 21s 173ms/step - loss: 0.4133 - accuracy: 0.8087 - val_loss: 0.3467 - val_accuracy: 0.8446\n",
            "Epoch 6/20\n",
            "119/119 [==============================] - 23s 193ms/step - loss: 0.3861 - accuracy: 0.8209 - val_loss: 0.3936 - val_accuracy: 0.8319\n",
            "Epoch 7/20\n",
            "119/119 [==============================] - 21s 178ms/step - loss: 0.3987 - accuracy: 0.8180 - val_loss: 0.3371 - val_accuracy: 0.8605\n",
            "Epoch 8/20\n",
            "119/119 [==============================] - 24s 200ms/step - loss: 0.3713 - accuracy: 0.8378 - val_loss: 0.3122 - val_accuracy: 0.8636\n",
            "Epoch 9/20\n",
            "119/119 [==============================] - 21s 175ms/step - loss: 0.3604 - accuracy: 0.8463 - val_loss: 0.3160 - val_accuracy: 0.8615\n",
            "Epoch 10/20\n",
            "119/119 [==============================] - 23s 192ms/step - loss: 0.3469 - accuracy: 0.8508 - val_loss: 0.3162 - val_accuracy: 0.8615\n",
            "Epoch 11/20\n",
            "119/119 [==============================] - 21s 176ms/step - loss: 0.3408 - accuracy: 0.8492 - val_loss: 0.3122 - val_accuracy: 0.8732\n",
            "Epoch 12/20\n",
            "119/119 [==============================] - 23s 193ms/step - loss: 0.3200 - accuracy: 0.8667 - val_loss: 0.2973 - val_accuracy: 0.8732\n",
            "Epoch 13/20\n",
            "119/119 [==============================] - 21s 177ms/step - loss: 0.3194 - accuracy: 0.8632 - val_loss: 0.3487 - val_accuracy: 0.8594\n",
            "Epoch 14/20\n",
            "119/119 [==============================] - 22s 188ms/step - loss: 0.3225 - accuracy: 0.8603 - val_loss: 0.2822 - val_accuracy: 0.8932\n",
            "Epoch 15/20\n",
            "119/119 [==============================] - 21s 176ms/step - loss: 0.3093 - accuracy: 0.8728 - val_loss: 0.3145 - val_accuracy: 0.8584\n",
            "Epoch 16/20\n",
            "119/119 [==============================] - 22s 187ms/step - loss: 0.3106 - accuracy: 0.8685 - val_loss: 0.3086 - val_accuracy: 0.8742\n",
            "Epoch 17/20\n",
            "119/119 [==============================] - 22s 181ms/step - loss: 0.2961 - accuracy: 0.8722 - val_loss: 0.3019 - val_accuracy: 0.8700\n",
            "30/30 [==============================] - 2s 80ms/step - loss: 0.2822 - accuracy: 0.8932\n",
            "Validation Accuracy: 89.32%\n",
            "Model saved to /content/drive/MyDrive/model_for_thesis/arc_model.h5\n"
          ]
        },
        {
          "output_type": "stream",
          "name": "stderr",
          "text": [
            "/usr/local/lib/python3.10/dist-packages/keras/src/engine/training.py:3103: UserWarning: You are saving your model as an HDF5 file via `model.save()`. This file format is considered legacy. We recommend using instead the native Keras format, e.g. `model.save('my_model.keras')`.\n",
            "  saving_api.save_model(\n"
          ]
        }
      ]
    },
    {
      "cell_type": "markdown",
      "source": [
        "Citation:\n",
        "\n",
        "\"Basiri, M. E., Nemati, S., Abdar, M., Cambria, E., & Acharya, U. R. (2021). ABCDM: An attention-based bidirectional CNN-RNN deep model for sentiment analysis. Future Generation Computer Systems, 115, 279-294.\".\n",
        "https://github.com/moloud1987/ABCDM"
      ],
      "metadata": {
        "id": "OWwtSTyvpDOw"
      }
    }
  ]
}